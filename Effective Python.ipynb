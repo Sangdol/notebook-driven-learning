{
 "cells": [
  {
   "cell_type": "markdown",
   "metadata": {},
   "source": [
    "# 1. Pythonic Thinking"
   ]
  },
  {
   "cell_type": "markdown",
   "metadata": {},
   "source": [
    "## Item 1: Know Which Version of Python You’re Using"
   ]
  },
  {
   "cell_type": "code",
   "execution_count": 2,
   "metadata": {},
   "outputs": [
    {
     "name": "stdout",
     "output_type": "stream",
     "text": [
      "sys.version_info(major=3, minor=7, micro=3, releaselevel='final', serial=0)\n",
      "3.7.3 | packaged by conda-forge | (default, Jul  1 2019, 21:52:21) \n",
      "[GCC 7.3.0]\n"
     ]
    }
   ],
   "source": [
    "import sys\n",
    "\n",
    "print(sys.version_info)\n",
    "print(sys.version)"
   ]
  },
  {
   "cell_type": "markdown",
   "metadata": {},
   "source": [
    "## Item 2: Follow the PEP 8 Style Guide"
   ]
  },
  {
   "cell_type": "markdown",
   "metadata": {},
   "source": [
    "### Whitespace\n",
    "\n",
    "* Spaces over tab \n",
    "* 4 spaces\n",
    "* 79 chracters or less long lines\n",
    "* Two blank lines between functions and classes\n",
    "* `{'key': 'value'}`\n",
    "* `a = b`\n",
    "* `def greeting(name: str) -> str:`\n",
    "\n",
    "### Naming\n",
    "\n",
    "* `function_name`\n",
    "* `_protected_instane_attribute`\n",
    "* `__private_instance_attribute`\n",
    "* `ClassName`\n",
    "* `MODULE_LEVEL_CONSTANT`\n",
    "* `instance_method(self)`\n",
    "* `classmethod(cls, argument)`\n",
    "\n",
    "### Expressions and Statements\n",
    "\n",
    "* Use `(if a is not b)` instead of `(if not a is b)`.\n",
    "* Use `if not somelist` instead of `if len(somelist) == 0`.\n",
    "  * Likewise, use `if somelist`.\n",
    "* Avoid single-line `if`, `for`, and `while`.\n",
    "* (multiline\n",
    "      expression)\n",
    "* Mutiline expressions: prefer `()` over `\\`\n",
    "\n",
    "### Imports\n",
    "\n",
    "* `import` at the top\n",
    "* Use absolute names for modules: `from bar import foo` not `import foo`.\n",
    "* Order: standard library modules, third-party modules, your own modules in alphabetical order."
   ]
  },
  {
   "cell_type": "markdown",
   "metadata": {},
   "source": [
    "## Item 3: Know the Differences Between bytes and str"
   ]
  },
  {
   "cell_type": "code",
   "execution_count": null,
   "metadata": {},
   "outputs": [],
   "source": []
  }
 ],
 "metadata": {
  "kernelspec": {
   "display_name": "Python 3",
   "language": "python",
   "name": "python3"
  },
  "language_info": {
   "codemirror_mode": {
    "name": "ipython",
    "version": 3
   },
   "file_extension": ".py",
   "mimetype": "text/x-python",
   "name": "python",
   "nbconvert_exporter": "python",
   "pygments_lexer": "ipython3",
   "version": "3.7.3"
  }
 },
 "nbformat": 4,
 "nbformat_minor": 2
}
