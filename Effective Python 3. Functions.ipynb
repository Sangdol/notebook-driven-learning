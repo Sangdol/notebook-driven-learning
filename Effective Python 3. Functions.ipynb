{
 "cells": [
  {
   "cell_type": "markdown",
   "metadata": {},
   "source": [
    "## Item 19: Never Unpack More Than Three Variables When Functions Return Multiple Values"
   ]
  },
  {
   "cell_type": "markdown",
   "metadata": {},
   "source": [
    "✦ Unpacking into four or more variables is error prone and should be avoided; instead, return a small class or namedtuple instance."
   ]
  },
  {
   "cell_type": "markdown",
   "metadata": {},
   "source": [
    "## Item 20: Prefer Raising Exceptions to Returning None"
   ]
  },
  {
   "cell_type": "markdown",
   "metadata": {},
   "source": [
    "✦ Functions that return None to indicate special meaning are error prone because None and other values (e.g., zero, the empty string) all evaluate to False in conditional expressions."
   ]
  },
  {
   "cell_type": "markdown",
   "metadata": {},
   "source": [
    "## Item 21: Know How Closures Interact with Variable Scope"
   ]
  },
  {
   "cell_type": "markdown",
   "metadata": {},
   "source": [
    "This function generates an unexpected result:\n",
    "    \n",
    "```python\n",
    "def sort_priority2(numbers, group):\n",
    "    found = False        # Scope: 'sort_priority2'\n",
    "    def helper(x):\n",
    "        if x in group:\n",
    "            found = True # Scope: 'helper' -- Bad!\n",
    "            return (0, x)\n",
    "        return (1, x)\n",
    "\n",
    "    numbers.sort(key=helper)\n",
    "    return found\n",
    "\n",
    "found = sort_priority2(numbers, group)\n",
    "print('Found:', found)\n",
    "print(numbers)\n",
    "\n",
    ">>>\n",
    "Found: False\n",
    "[2, 3, 5, 7, 1, 4, 6, 8]\n",
    "```\n",
    "\n",
    "To avoid the issue, you can use `local`:\n",
    "\n",
    "```python\n",
    "def sort_priority3(numbers, group):\n",
    "    found = False\n",
    "    def helper(x):\n",
    "        nonlocal found # Added\n",
    "        if x in group:\n",
    "            found = True\n",
    "            return (0, x)\n",
    "        return (1, x)\n",
    "    numbers.sort(key=helper)\n",
    "    return found\n",
    "```\n",
    "\n",
    "Or, you can create a helper class:\n",
    "\n",
    "```python\n",
    "class Sorter:\n",
    "    def __init__(self, group):\n",
    "\n",
    "        self.group = group\n",
    "        self.found = False\n",
    "\n",
    "    def __call__(self, x):\n",
    "        if x in self.group:\n",
    "            self.found = True\n",
    "            return (0, x)\n",
    "    return (1, x)\n",
    "\n",
    "sorter = Sorter(group)\n",
    "numbers.sort(key=sorter)\n",
    "assert sorter.found is True\n",
    "```"
   ]
  },
  {
   "cell_type": "markdown",
   "metadata": {},
   "source": [
    "When you reference a variable in an expression, the Python interpreter traverses the scope to resolve the reference in this order:\n",
    "\n",
    "  1. The current function’s scope.\n",
    "  2. Any enclosing scopes (such as other containing functions).\n",
    "  3. The scope of the module that contains the code (also called the global scope).\n",
    "  4. The built-in scope (that contains functions like len and str)."
   ]
  },
  {
   "cell_type": "markdown",
   "metadata": {},
   "source": [
    "## Item 22: Reduce Visual Noise with Variable Positional Arguments"
   ]
  },
  {
   "cell_type": "markdown",
   "metadata": {},
   "source": [
    "The positional arguments are often called _varargs_ for short, or _star args_, in reference to the conventional name for the parameter `*args`."
   ]
  },
  {
   "cell_type": "code",
   "execution_count": 3,
   "metadata": {},
   "outputs": [
    {
     "name": "stdout",
     "output_type": "stream",
     "text": [
      "My numbers are: 1, 2\n",
      "Hi there\n"
     ]
    }
   ],
   "source": [
    "def log(message, *values): \n",
    "    if not values:\n",
    "        print(message)\n",
    "    else:\n",
    "        values_str = ', '.join(str(x) for x in values)\n",
    "        print(f'{message}: {values_str}')\n",
    "\n",
    "log('My numbers are', 1, 2)\n",
    "log('Hi there')"
   ]
  },
  {
   "cell_type": "code",
   "execution_count": 5,
   "metadata": {},
   "outputs": [
    {
     "name": "stdout",
     "output_type": "stream",
     "text": [
      "(0, 1, 2, 3, 4, 5, 6, 7, 8, 9)\n"
     ]
    }
   ],
   "source": [
    "# Using the * operator with a generator may cause \n",
    "#  a program to run out of memory and crash.\n",
    "def my_generator():\n",
    "    for i in range(10):\n",
    "        yield i\n",
    "\n",
    "def my_func(*args):\n",
    "   print(args)\n",
    "\n",
    "it = my_generator()\n",
    "my_func(*it)"
   ]
  },
  {
   "cell_type": "markdown",
   "metadata": {},
   "source": [
    "## Item 23: Provide Optional Behavior with Keyword Arguments"
   ]
  },
  {
   "cell_type": "code",
   "execution_count": 6,
   "metadata": {},
   "outputs": [
    {
     "name": "stdout",
     "output_type": "stream",
     "text": [
      "6\n",
      "6\n",
      "6\n",
      "6\n"
     ]
    }
   ],
   "source": [
    "def remainder(number, divisor):\n",
    "    return number % divisor\n",
    "\n",
    "print(remainder(20, 7))\n",
    "print(remainder(20, divisor=7))\n",
    "print(remainder(number=20, divisor=7))\n",
    "print(remainder(divisor=7, number=20))"
   ]
  },
  {
   "cell_type": "code",
   "execution_count": 8,
   "metadata": {},
   "outputs": [
    {
     "name": "stdout",
     "output_type": "stream",
     "text": [
      "6\n"
     ]
    }
   ],
   "source": [
    "# kwargs = keyword arguments\n",
    "my_kwargs = {\n",
    "    'number': 20,\n",
    "    'divisor': 7,\n",
    "}\n",
    "\n",
    "print(remainder(**my_kwargs))"
   ]
  },
  {
   "cell_type": "code",
   "execution_count": 9,
   "metadata": {},
   "outputs": [
    {
     "name": "stdout",
     "output_type": "stream",
     "text": [
      "6\n"
     ]
    }
   ],
   "source": [
    "my_kwargs = {\n",
    "    'divisor': 7,\n",
    "}\n",
    "\n",
    "print(remainder(number=20, **my_kwargs))"
   ]
  },
  {
   "cell_type": "code",
   "execution_count": 10,
   "metadata": {},
   "outputs": [
    {
     "name": "stdout",
     "output_type": "stream",
     "text": [
      "6\n"
     ]
    }
   ],
   "source": [
    "my_kwargs = {\n",
    "    'number': 20,\n",
    "}\n",
    "other_kwargs = {\n",
    "    'divisor': 7,\n",
    "}\n",
    "\n",
    "print(remainder(**my_kwargs, **other_kwargs))"
   ]
  },
  {
   "cell_type": "code",
   "execution_count": 11,
   "metadata": {},
   "outputs": [
    {
     "name": "stdout",
     "output_type": "stream",
     "text": [
      "alpha = 1.5\n",
      "beta = 9\n",
      "gamma = 4\n"
     ]
    }
   ],
   "source": [
    "def print_parameters(**kwargs):\n",
    "    for key, value in kwargs.items():\n",
    "        print(f'{key} = {value}')\n",
    "\n",
    "print_parameters(alpha=1.5, beta=9, gamma=4)"
   ]
  },
  {
   "cell_type": "markdown",
   "metadata": {},
   "source": [
    "## Item 24: Use None and Docstrings to Specify Dynamic Default Arguments"
   ]
  },
  {
   "cell_type": "code",
   "execution_count": 12,
   "metadata": {},
   "outputs": [
    {
     "name": "stdout",
     "output_type": "stream",
     "text": [
      "2019-12-31 16:20:38.928119: Hi there!\n",
      "2019-12-31 16:20:38.928119: Hello again!\n"
     ]
    }
   ],
   "source": [
    "from time import sleep\n",
    "from datetime import datetime\n",
    "\n",
    "# This doesn't work as expected as datetime.now is excuted only once.\n",
    "def log(message, when=datetime.now()):\n",
    "    print(f'{when}: {message}')\n",
    "\n",
    "log('Hi there!')\n",
    "sleep(0.1)\n",
    "log('Hello again!')"
   ]
  },
  {
   "cell_type": "code",
   "execution_count": 13,
   "metadata": {},
   "outputs": [
    {
     "name": "stdout",
     "output_type": "stream",
     "text": [
      "2019-12-31 16:21:36.400700: Hi there!\n",
      "2019-12-31 16:21:36.502143: Hello again!\n"
     ]
    }
   ],
   "source": [
    "# Fix\n",
    "def log(message, when=None):\n",
    "    \"\"\"Log a message with a timestamp.\n",
    "\n",
    "    Args:\n",
    "        message: Message to print.\n",
    "        when: datetime of when the message occurred.\n",
    "            Defaults to the present time.\n",
    "    \"\"\"\n",
    "    if when is None:\n",
    "        when = datetime.now()\n",
    "    print(f'{when}: {message}')\n",
    "    \n",
    "log('Hi there!')\n",
    "sleep(0.1)\n",
    "log('Hello again!')"
   ]
  },
  {
   "cell_type": "code",
   "execution_count": 18,
   "metadata": {},
   "outputs": [
    {
     "name": "stdout",
     "output_type": "stream",
     "text": [
      "2019-12-31 16:26:23.900533: Hi there!\n",
      "2019-12-31 16:26:24.002201: Hello again!\n"
     ]
    }
   ],
   "source": [
    "# Fix with type annotations\n",
    "from typing import Optional\n",
    "\n",
    "def log_typed(message: str,\n",
    "              when: Optional[datetime]=None) -> None:\n",
    "    \"\"\"Log a message with a timestamp.\n",
    "\n",
    "    Args:\n",
    "        message: Message to print.\n",
    "        when: datetime of when the message occurred.\n",
    "            Defaults to the present time.\n",
    "    \"\"\"\n",
    "    if when is None:\n",
    "        when = datetime.now()\n",
    "    print(f'{when}: {message}')\n",
    "    \n",
    "log('Hi there!')\n",
    "sleep(0.1)\n",
    "log('Hello again!')"
   ]
  },
  {
   "cell_type": "code",
   "execution_count": 15,
   "metadata": {},
   "outputs": [
    {
     "name": "stdout",
     "output_type": "stream",
     "text": [
      "Foo: {'stuff': 5, 'meep': 1}\n",
      "Bar: {'stuff': 5, 'meep': 1}\n",
      "True\n"
     ]
    }
   ],
   "source": [
    "import json\n",
    "\n",
    "# Using None for default argument values is \n",
    "#  especially important when the arguments are mutable. \n",
    "def decode(data, default={}):\n",
    "    try:\n",
    "        return json.loads(data)\n",
    "    except ValueError:\n",
    "        return default\n",
    "    \n",
    "foo = decode('bad data')\n",
    "foo['stuff'] = 5\n",
    "bar = decode('also bad')\n",
    "bar['meep'] = 1\n",
    "print('Foo:', foo)\n",
    "print('Bar:', bar)\n",
    "print(foo == bar)"
   ]
  },
  {
   "cell_type": "code",
   "execution_count": 19,
   "metadata": {},
   "outputs": [
    {
     "name": "stdout",
     "output_type": "stream",
     "text": [
      "Foo: {'stuff': 5}\n",
      "Bar: {'meep': 1}\n",
      "False\n"
     ]
    }
   ],
   "source": [
    "# Fix\n",
    "def decode(data, default=None):\n",
    "    \"\"\"Load JSON data from a string.\n",
    "\n",
    "    Args:\n",
    "         data: JSON data to decode.\n",
    "         default: Value to return if decoding fails.\n",
    "             Defaults to an empty dictionary.\n",
    "    \"\"\"\n",
    "    try:\n",
    "         return json.loads(data)\n",
    "    except ValueError:\n",
    "         if default is None:\n",
    "             default = {}\n",
    "    return default\n",
    "\n",
    "foo = decode('bad data')\n",
    "foo['stuff'] = 5\n",
    "bar = decode('also bad')\n",
    "bar['meep'] = 1\n",
    "print('Foo:', foo)\n",
    "print('Bar:', bar)\n",
    "print(foo == bar)"
   ]
  },
  {
   "cell_type": "markdown",
   "metadata": {},
   "source": [
    "## Item 25: Enforce Clarity with Keyword-Only and Positional-Only Arguments"
   ]
  },
  {
   "cell_type": "code",
   "execution_count": 32,
   "metadata": {},
   "outputs": [
    {
     "name": "stdout",
     "output_type": "stream",
     "text": [
      "ZeroDivisionError('float division by zero')\n"
     ]
    }
   ],
   "source": [
    "# The `*` symbol in the argument list indicates \n",
    "#  the end of positional arguments and \n",
    "#  the beginning of keyword-only arguments:\n",
    "def safe_division(number, divisor, *,\n",
    "                  ignore_overflow=False,\n",
    "                  ignore_zero_division=False):\n",
    "    try:\n",
    "        return number / divisor\n",
    "    except OverflowError:\n",
    "        if ignore_overflow:\n",
    "             return 0\n",
    "    except ZeroDivisionError:\n",
    "        if ignore_zero_division:\n",
    "            return float('inf')\n",
    "        else:\n",
    "            raise\n",
    "\n",
    "            \n",
    "try:\n",
    "    safe_division(1.0, 0)\n",
    "except Exception as e:\n",
    "    print(repr(e))"
   ]
  },
  {
   "cell_type": "markdown",
   "metadata": {},
   "source": [
    "Python 3.8 introduces positional-only arguments.\n",
    "The / symbol in the argument list indicates \n",
    " where positional-only arguments end:\n",
    "        \n",
    "```python\n",
    "def safe_division(number, divisor, /, *,\n",
    "                  ignore_overflow=False,\n",
    "                  ignore_zero_division=False):\n",
    "    ...\n",
    "```"
   ]
  },
  {
   "cell_type": "markdown",
   "metadata": {},
   "source": [
    "One notable consequence of keyword- and positional-only arguments \n",
    "is that any parameter name between the / and * symbols \n",
    "in the argument list may be passed either by position \n",
    "or by keyword \n",
    "(which is the default for all function arguments in Python). \n",
    "\n",
    "```python\n",
    "def safe_division_e(numerator, denominator, /,\n",
    "                    ndigits=10, *,               # Changed\n",
    "                    ignore_overflow=False,\n",
    "                    ignore_zero_division=False):\n",
    "    try:\n",
    "        fraction = numerator / denominator       # Changed\n",
    "        return round(fraction, ndigits)          # Changed\n",
    "    except OverflowError:\n",
    "        if ignore_overflow:\n",
    "            return 0\n",
    "        else:\n",
    "            raise\n",
    "    except ZeroDivisionError:\n",
    "        if ignore_zero_division:\n",
    "            return float('inf')\n",
    "        else:\n",
    "            raise\n",
    "            \n",
    "result = safe_division_e(22, 7)\n",
    "print(result)\n",
    "\n",
    "result = safe_division_e(22, 7, 5)\n",
    "print(result)\n",
    "\n",
    "result = safe_division_e(22, 7, ndigits=2)\n",
    "print(result)\n",
    "\n",
    ">>>\n",
    "3.1428571429\n",
    "3.14286\n",
    "3.14\n",
    "```"
   ]
  },
  {
   "cell_type": "markdown",
   "metadata": {},
   "source": [
    "## Item 26: Define Function Decorators with functools.wraps"
   ]
  },
  {
   "cell_type": "code",
   "execution_count": 36,
   "metadata": {},
   "outputs": [
    {
     "name": "stdout",
     "output_type": "stream",
     "text": [
      "fibonacci((0,), {}) -> 0\n",
      "fibonacci((1,), {}) -> 1\n",
      "fibonacci((2,), {}) -> 1\n",
      "fibonacci((1,), {}) -> 1\n",
      "fibonacci((0,), {}) -> 0\n",
      "fibonacci((1,), {}) -> 1\n",
      "fibonacci((2,), {}) -> 1\n",
      "fibonacci((3,), {}) -> 2\n",
      "fibonacci((4,), {}) -> 3\n"
     ]
    },
    {
     "data": {
      "text/plain": [
       "3"
      ]
     },
     "execution_count": 36,
     "metadata": {},
     "output_type": "execute_result"
    }
   ],
   "source": [
    "def trace(func):\n",
    "    def wrapper(*args, **kwargs):\n",
    "        result = func(*args, **kwargs)\n",
    "        print(f'{func.__name__}({args!r}, {kwargs!r}) '\n",
    "              f'-> {result!r}')\n",
    "        return result\n",
    "    return wrapper\n",
    "\n",
    "\n",
    "# This is equivalent to \n",
    "# fibonacci = trace(fibonacci)\n",
    "@trace\n",
    "def fibonacci(n):\n",
    "    \"\"\"Return the n-th Fibonacci number\"\"\"\n",
    "    if n in (0, 1):\n",
    "        return n\n",
    "    \n",
    "    return (fibonacci(n - 2) + fibonacci(n - 1))\n",
    "\n",
    "\n",
    "fibonacci(4)"
   ]
  },
  {
   "cell_type": "markdown",
   "metadata": {},
   "source": [
    "### Problem"
   ]
  },
  {
   "cell_type": "code",
   "execution_count": 39,
   "metadata": {},
   "outputs": [
    {
     "name": "stdout",
     "output_type": "stream",
     "text": [
      "<function trace.<locals>.wrapper at 0x7f5310732f28>\n"
     ]
    }
   ],
   "source": [
    "print(fibonacci)"
   ]
  },
  {
   "cell_type": "code",
   "execution_count": 40,
   "metadata": {},
   "outputs": [
    {
     "name": "stdout",
     "output_type": "stream",
     "text": [
      "Help on function wrapper in module __main__:\n",
      "\n",
      "wrapper(*args, **kwargs)\n",
      "\n"
     ]
    }
   ],
   "source": [
    "help(fibonacci)"
   ]
  },
  {
   "cell_type": "code",
   "execution_count": 42,
   "metadata": {},
   "outputs": [
    {
     "name": "stdout",
     "output_type": "stream",
     "text": [
      "AttributeError(\"Can't pickle local object 'trace.<locals>.wrapper'\")\n"
     ]
    }
   ],
   "source": [
    "import pickle\n",
    "\n",
    "try:\n",
    "    # Object serializers break because \n",
    "    # they can’t determine the location of \n",
    "    #the original function that was decorated:\n",
    "    pickle.dumps(fibonacci)\n",
    "except Exception as e:\n",
    "    print(f'{e!r}')"
   ]
  },
  {
   "cell_type": "code",
   "execution_count": null,
   "metadata": {},
   "outputs": [],
   "source": [
    "# Solution\n",
    "from functools import wraps\n",
    "\n",
    "def trace(func):\n",
    "    @wraps(func)\n",
    "    def wrapper(*args, **kwargs):\n",
    "         ...\n",
    "    return wrapper"
   ]
  }
 ],
 "metadata": {
  "kernelspec": {
   "display_name": "Python 3",
   "language": "python",
   "name": "python3"
  },
  "language_info": {
   "codemirror_mode": {
    "name": "ipython",
    "version": 3
   },
   "file_extension": ".py",
   "mimetype": "text/x-python",
   "name": "python",
   "nbconvert_exporter": "python",
   "pygments_lexer": "ipython3",
   "version": "3.7.3"
  }
 },
 "nbformat": 4,
 "nbformat_minor": 2
}
