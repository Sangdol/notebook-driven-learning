{
 "cells": [
  {
   "cell_type": "markdown",
   "metadata": {},
   "source": [
    "# Python hidden features from [Stack Overflow](https://stackoverflow.com/questions/101268/hidden-features-of-python?answertab=votes#tab-top)"
   ]
  },
  {
   "cell_type": "markdown",
   "metadata": {},
   "source": [
    "### Chaining comparison operators"
   ]
  },
  {
   "cell_type": "code",
   "execution_count": 1,
   "metadata": {},
   "outputs": [
    {
     "name": "stdout",
     "output_type": "stream",
     "text": [
      "10\n"
     ]
    }
   ],
   "source": [
    "x = 10\n",
    "if 5 < x < 15:\n",
    "    print(x)"
   ]
  },
  {
   "cell_type": "markdown",
   "metadata": {},
   "source": [
    "### Regex debugging"
   ]
  },
  {
   "cell_type": "code",
   "execution_count": 2,
   "metadata": {},
   "outputs": [
    {
     "name": "stdout",
     "output_type": "stream",
     "text": [
      "AT AT_BEGINNING\n",
      "LITERAL 91\n",
      "LITERAL 102\n",
      "LITERAL 111\n",
      "LITERAL 110\n",
      "LITERAL 116\n",
      "MAX_REPEAT 0 1\n",
      "  LITERAL 61\n",
      "  SUBPATTERN 1 0 0\n",
      "    IN\n",
      "      LITERAL 45\n",
      "      LITERAL 43\n",
      "    MAX_REPEAT 1 2\n",
      "      IN\n",
      "        RANGE (48, 57)\n",
      "LITERAL 93\n",
      "SUBPATTERN 2 0 0\n",
      "  MIN_REPEAT 0 MAXREPEAT\n",
      "    ANY None\n",
      "IN\n",
      "  LITERAL 47\n",
      "  LITERAL 102\n",
      "  LITERAL 111\n",
      "  LITERAL 110\n",
      "  LITERAL 116\n",
      "\n",
      " 0. INFO 4 0b0 7 MAXREPEAT (to 5)\n",
      " 5: AT BEGINNING\n",
      " 7. LITERAL 0x5b ('[')\n",
      " 9. LITERAL 0x66 ('f')\n",
      "11. LITERAL 0x6f ('o')\n",
      "13. LITERAL 0x6e ('n')\n",
      "15. LITERAL 0x74 ('t')\n",
      "17. REPEAT 27 0 1 (to 45)\n",
      "21.   LITERAL 0x3d ('=')\n",
      "23.   MARK 0\n",
      "25.   IN 6 (to 32)\n",
      "27.     LITERAL 0x2d ('-')\n",
      "29.     LITERAL 0x2b ('+')\n",
      "31.     FAILURE\n",
      "32:   REPEAT_ONE 10 1 2 (to 43)\n",
      "36.     IN 5 (to 42)\n",
      "38.       RANGE 0x30 0x39 ('0'-'9')\n",
      "41.       FAILURE\n",
      "42:     SUCCESS\n",
      "43:   MARK 1\n",
      "45: MAX_UNTIL\n",
      "46. LITERAL 0x5d (']')\n",
      "48. MARK 2\n",
      "50. MIN_REPEAT_ONE 5 0 MAXREPEAT (to 56)\n",
      "54.   ANY\n",
      "55.   SUCCESS\n",
      "56: MARK 3\n",
      "58. IN 11 (to 70)\n",
      "60.   CHARSET [0x00000000, 0x00008000, 0x00000000, 0x0010c040, 0x00000000, 0x00000000, 0x00000000, 0x00000000]\n",
      "69.   FAILURE\n",
      "70: SUCCESS\n"
     ]
    },
    {
     "data": {
      "text/plain": [
       "re.compile(r'^\\[font(?:=(?P<size>[-+][0-9]{1,2}))?\\](.*?)[/font]',\n",
       "re.UNICODE|re.DEBUG)"
      ]
     },
     "execution_count": 2,
     "metadata": {},
     "output_type": "execute_result"
    }
   ],
   "source": [
    "import re\n",
    "\n",
    "re.compile(\"^\\[font(?:=(?P<size>[-+][0-9]{1,2}))?\\](.*?)[/font]\", re.DEBUG)"
   ]
  },
  {
   "cell_type": "code",
   "execution_count": 3,
   "metadata": {},
   "outputs": [
    {
     "name": "stdout",
     "output_type": "stream",
     "text": [
      "AT AT_BEGINNING\n",
      "LITERAL 91\n",
      "LITERAL 102\n",
      "LITERAL 111\n",
      "LITERAL 110\n",
      "LITERAL 116\n",
      "MAX_REPEAT 0 1\n",
      "  LITERAL 61\n",
      "  SUBPATTERN 1 0 0\n",
      "    IN\n",
      "      LITERAL 45\n",
      "      LITERAL 43\n",
      "    MAX_REPEAT 1 2\n",
      "      IN\n",
      "        RANGE (48, 57)\n",
      "LITERAL 93\n",
      "SUBPATTERN 2 0 0\n",
      "  MIN_REPEAT 0 MAXREPEAT\n",
      "    ANY None\n",
      "LITERAL 91\n",
      "LITERAL 47\n",
      "LITERAL 102\n",
      "LITERAL 111\n",
      "LITERAL 110\n",
      "LITERAL 116\n",
      "LITERAL 93\n",
      "\n",
      " 0. INFO 4 0b0 13 MAXREPEAT (to 5)\n",
      " 5: AT BEGINNING\n",
      " 7. LITERAL 0x5b ('[')\n",
      " 9. LITERAL 0x66 ('f')\n",
      "11. LITERAL 0x6f ('o')\n",
      "13. LITERAL 0x6e ('n')\n",
      "15. LITERAL 0x74 ('t')\n",
      "17. REPEAT 27 0 1 (to 45)\n",
      "21.   LITERAL 0x3d ('=')\n",
      "23.   MARK 0\n",
      "25.   IN 6 (to 32)\n",
      "27.     LITERAL 0x2d ('-')\n",
      "29.     LITERAL 0x2b ('+')\n",
      "31.     FAILURE\n",
      "32:   REPEAT_ONE 10 1 2 (to 43)\n",
      "36.     IN 5 (to 42)\n",
      "38.       RANGE 0x30 0x39 ('0'-'9')\n",
      "41.       FAILURE\n",
      "42:     SUCCESS\n",
      "43:   MARK 1\n",
      "45: MAX_UNTIL\n",
      "46. LITERAL 0x5d (']')\n",
      "48. MARK 2\n",
      "50. MIN_REPEAT_ONE 5 0 MAXREPEAT (to 56)\n",
      "54.   ANY_ALL\n",
      "55.   SUCCESS\n",
      "56: MARK 3\n",
      "58. LITERAL 0x5b ('[')\n",
      "60. LITERAL 0x2f ('/')\n",
      "62. LITERAL 0x66 ('f')\n",
      "64. LITERAL 0x6f ('o')\n",
      "66. LITERAL 0x6e ('n')\n",
      "68. LITERAL 0x74 ('t')\n",
      "70. LITERAL 0x5d (']')\n",
      "72. SUCCESS\n"
     ]
    },
    {
     "data": {
      "text/plain": [
       "re.compile(r'\\n ^              # start of a line\\n \\[font         # the font tag\\n (?:=(?P<size>  # optional [font=+size]\\n [-+][0-9]{1,2} # size specification\\n ))?\\n \\]             # end of tag\\n (.*?)          # text between the tags\\n \\[/font\\]      # end of the tag\\n ',\n",
       "re.DOTALL|re.UNICODE|re.VERBOSE|re.DEBUG)"
      ]
     },
     "execution_count": 3,
     "metadata": {},
     "output_type": "execute_result"
    }
   ],
   "source": [
    "re.compile(\"\"\"\n",
    " ^              # start of a line\n",
    " \\[font         # the font tag\n",
    " (?:=(?P<size>  # optional [font=+size]\n",
    " [-+][0-9]{1,2} # size specification\n",
    " ))?\n",
    " \\]             # end of tag\n",
    " (.*?)          # text between the tags\n",
    " \\[/font\\]      # end of the tag\n",
    " \"\"\", re.DEBUG|re.VERBOSE|re.DOTALL)"
   ]
  },
  {
   "cell_type": "markdown",
   "metadata": {},
   "source": [
    "### iter()"
   ]
  },
  {
   "cell_type": "code",
   "execution_count": 8,
   "metadata": {},
   "outputs": [
    {
     "name": "stdout",
     "output_type": "stream",
     "text": [
      "1\n",
      "2\n",
      "3\n"
     ]
    }
   ],
   "source": [
    "a = [1, 2, 3]\n",
    "for n in a:\n",
    "    print(n)"
   ]
  },
  {
   "cell_type": "code",
   "execution_count": 14,
   "metadata": {},
   "outputs": [
    {
     "name": "stdout",
     "output_type": "stream",
     "text": [
      "1\n",
      "2\n"
     ]
    }
   ],
   "source": [
    "# iter() an take a callable argument.\n",
    "a = [1, 2, 3]\n",
    "for n in iter(lambda: a.pop(0), 3):\n",
    "    print(n)"
   ]
  },
  {
   "cell_type": "markdown",
   "metadata": {},
   "source": [
    "### Function argument unpacking"
   ]
  },
  {
   "cell_type": "code",
   "execution_count": 17,
   "metadata": {},
   "outputs": [
    {
     "name": "stdout",
     "output_type": "stream",
     "text": [
      "1 2 3\n",
      "1 2 3\n"
     ]
    }
   ],
   "source": [
    "def abc(a, b, c):\n",
    "    print(a, b, c)\n",
    "    \n",
    "lst = (1, 2, 3)\n",
    "abc(*lst)\n",
    "\n",
    "d = {'a': 1, 'b': 2, 'c': 3}\n",
    "abc(**d)"
   ]
  },
  {
   "cell_type": "markdown",
   "metadata": {},
   "source": [
    "### Operator overloading for the `set` builtin"
   ]
  },
  {
   "cell_type": "code",
   "execution_count": 18,
   "metadata": {},
   "outputs": [],
   "source": [
    "a = set([1, 2, 3, 4])\n",
    "b = set([3, 4, 5, 6])"
   ]
  },
  {
   "cell_type": "code",
   "execution_count": 20,
   "metadata": {},
   "outputs": [
    {
     "data": {
      "text/plain": [
       "{1, 2, 3, 4, 5, 6}"
      ]
     },
     "execution_count": 20,
     "metadata": {},
     "output_type": "execute_result"
    }
   ],
   "source": [
    "a | b # union"
   ]
  },
  {
   "cell_type": "code",
   "execution_count": 22,
   "metadata": {},
   "outputs": [
    {
     "data": {
      "text/plain": [
       "{3, 4}"
      ]
     },
     "execution_count": 22,
     "metadata": {},
     "output_type": "execute_result"
    }
   ],
   "source": [
    "a & b # intersection"
   ]
  },
  {
   "cell_type": "code",
   "execution_count": 23,
   "metadata": {},
   "outputs": [
    {
     "data": {
      "text/plain": [
       "False"
      ]
     },
     "execution_count": 23,
     "metadata": {},
     "output_type": "execute_result"
    }
   ],
   "source": [
    "a < b # subset (no it's not subset. it returns false when a == b.)"
   ]
  },
  {
   "cell_type": "code",
   "execution_count": 24,
   "metadata": {},
   "outputs": [
    {
     "data": {
      "text/plain": [
       "{1, 2}"
      ]
     },
     "execution_count": 24,
     "metadata": {},
     "output_type": "execute_result"
    }
   ],
   "source": [
    "a - b # difference"
   ]
  },
  {
   "cell_type": "code",
   "execution_count": 25,
   "metadata": {},
   "outputs": [
    {
     "data": {
      "text/plain": [
       "{1, 2, 5, 6}"
      ]
     },
     "execution_count": 25,
     "metadata": {},
     "output_type": "execute_result"
    }
   ],
   "source": [
    "a ^ b # symmetric difference"
   ]
  },
  {
   "cell_type": "markdown",
   "metadata": {},
   "source": [
    "### Transpose an array"
   ]
  },
  {
   "cell_type": "code",
   "execution_count": 27,
   "metadata": {},
   "outputs": [
    {
     "data": {
      "text/plain": [
       "[(1, 3, 5), (2, 4, 6)]"
      ]
     },
     "execution_count": 27,
     "metadata": {},
     "output_type": "execute_result"
    }
   ],
   "source": [
    "a = [(1, 2), (3, 4), (5, 6)]\n",
    "list(zip(*a))"
   ]
  },
  {
   "cell_type": "markdown",
   "metadata": {},
   "source": [
    "### `dir()` and `help()`"
   ]
  },
  {
   "cell_type": "code",
   "execution_count": 31,
   "metadata": {},
   "outputs": [
    {
     "data": {
      "text/plain": [
       "['__add__',\n",
       " '__class__',\n",
       " '__contains__',\n",
       " '__delattr__',\n",
       " '__dir__',\n",
       " '__doc__',\n",
       " '__eq__',\n",
       " '__format__',\n",
       " '__ge__',\n",
       " '__getattribute__',\n",
       " '__getitem__',\n",
       " '__getnewargs__',\n",
       " '__gt__',\n",
       " '__hash__',\n",
       " '__init__',\n",
       " '__init_subclass__',\n",
       " '__iter__',\n",
       " '__le__',\n",
       " '__len__',\n",
       " '__lt__',\n",
       " '__mod__',\n",
       " '__mul__',\n",
       " '__ne__',\n",
       " '__new__',\n",
       " '__reduce__',\n",
       " '__reduce_ex__',\n",
       " '__repr__',\n",
       " '__rmod__',\n",
       " '__rmul__',\n",
       " '__setattr__',\n",
       " '__sizeof__',\n",
       " '__str__',\n",
       " '__subclasshook__',\n",
       " 'capitalize',\n",
       " 'casefold',\n",
       " 'center',\n",
       " 'count',\n",
       " 'encode',\n",
       " 'endswith',\n",
       " 'expandtabs',\n",
       " 'find',\n",
       " 'format',\n",
       " 'format_map',\n",
       " 'index',\n",
       " 'isalnum',\n",
       " 'isalpha',\n",
       " 'isascii',\n",
       " 'isdecimal',\n",
       " 'isdigit',\n",
       " 'isidentifier',\n",
       " 'islower',\n",
       " 'isnumeric',\n",
       " 'isprintable',\n",
       " 'isspace',\n",
       " 'istitle',\n",
       " 'isupper',\n",
       " 'join',\n",
       " 'ljust',\n",
       " 'lower',\n",
       " 'lstrip',\n",
       " 'maketrans',\n",
       " 'partition',\n",
       " 'replace',\n",
       " 'rfind',\n",
       " 'rindex',\n",
       " 'rjust',\n",
       " 'rpartition',\n",
       " 'rsplit',\n",
       " 'rstrip',\n",
       " 'split',\n",
       " 'splitlines',\n",
       " 'startswith',\n",
       " 'strip',\n",
       " 'swapcase',\n",
       " 'title',\n",
       " 'translate',\n",
       " 'upper',\n",
       " 'zfill']"
      ]
     },
     "execution_count": 31,
     "metadata": {},
     "output_type": "execute_result"
    }
   ],
   "source": [
    "dir('a')"
   ]
  },
  {
   "cell_type": "code",
   "execution_count": 32,
   "metadata": {},
   "outputs": [
    {
     "name": "stdout",
     "output_type": "stream",
     "text": [
      "Help on built-in function zfill:\n",
      "\n",
      "zfill(width, /) method of builtins.str instance\n",
      "    Pad a numeric string with zeros on the left, to fill a field of the given width.\n",
      "    \n",
      "    The string is never truncated.\n",
      "\n"
     ]
    }
   ],
   "source": [
    "help('a'.zfill)"
   ]
  },
  {
   "cell_type": "code",
   "execution_count": null,
   "metadata": {},
   "outputs": [],
   "source": []
  }
 ],
 "metadata": {
  "kernelspec": {
   "display_name": "Python 3",
   "language": "python",
   "name": "python3"
  },
  "language_info": {
   "codemirror_mode": {
    "name": "ipython",
    "version": 3
   },
   "file_extension": ".py",
   "mimetype": "text/x-python",
   "name": "python",
   "nbconvert_exporter": "python",
   "pygments_lexer": "ipython3",
   "version": "3.7.5"
  }
 },
 "nbformat": 4,
 "nbformat_minor": 4
}
