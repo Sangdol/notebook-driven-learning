{
 "cells": [
  {
   "cell_type": "markdown",
   "metadata": {},
   "source": [
    "# [Python Patterns](https://python-patterns.guide/)"
   ]
  },
  {
   "cell_type": "markdown",
   "metadata": {},
   "source": [
    "## The Sentinel Object Pattern"
   ]
  },
  {
   "cell_type": "markdown",
   "metadata": {},
   "source": [
    "Verdict\n",
    "\n",
    "> The Sentinel Object pattern is a standard Pythonic approach that’s used both in the Standard Library and beyond. The pattern most often uses Python’s built-in None object, but in situations where None might be a useful value, a unique sentinel object() can be used instead to indicate missing or unspecified data."
   ]
  },
  {
   "cell_type": "code",
   "execution_count": 2,
   "metadata": {},
   "outputs": [
    {
     "name": "stdout",
     "output_type": "stream",
     "text": [
      "-1\n"
     ]
    }
   ],
   "source": [
    "# -1 is a sentinel value in this case.\n",
    "#\n",
    "# If str.find() had been invented today, \n",
    "# it would instead have used the Sentinel Object pattern \n",
    "# that we will describe below by simply returning None \n",
    "# for “not found”. That would have left no possibility \n",
    "# of the return value being used accidentally as an index.\n",
    "#\n",
    "print('a'.find('b'))"
   ]
  },
  {
   "cell_type": "code",
   "execution_count": 3,
   "metadata": {},
   "outputs": [
    {
     "name": "stdout",
     "output_type": "stream",
     "text": [
      "Name Error for not defined.\n",
      "Name Error for deleted.\n"
     ]
    }
   ],
   "source": [
    "# The Null Pointer Pattern is impossible in Python\n",
    "try:\n",
    "    a.count()\n",
    "except NameError:\n",
    "    print('Name Error for not defined.')\n",
    "    \n",
    "a = 'a'\n",
    "del a\n",
    "\n",
    "try:\n",
    "    a.count()\n",
    "except NameError:\n",
    "    print('Name Error for deleted.')"
   ]
  },
  {
   "cell_type": "markdown",
   "metadata": {},
   "source": [
    "There's no such a thing like `null` in Python. `None` is an object and contain a valid address."
   ]
  },
  {
   "cell_type": "markdown",
   "metadata": {},
   "source": [
    "You can use `None` as a sentinel but you need a sentinel object when you need `None` for a different use."
   ]
  },
  {
   "cell_type": "code",
   "execution_count": null,
   "metadata": {},
   "outputs": [],
   "source": []
  }
 ],
 "metadata": {
  "kernelspec": {
   "display_name": "Python 3",
   "language": "python",
   "name": "python3"
  },
  "language_info": {
   "codemirror_mode": {
    "name": "ipython",
    "version": 3
   },
   "file_extension": ".py",
   "mimetype": "text/x-python",
   "name": "python",
   "nbconvert_exporter": "python",
   "pygments_lexer": "ipython3",
   "version": "3.7.5"
  }
 },
 "nbformat": 4,
 "nbformat_minor": 4
}
