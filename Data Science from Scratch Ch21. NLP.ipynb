{
 "cells": [
  {
   "cell_type": "markdown",
   "metadata": {},
   "source": [
    "# Ch21. Natural Language Processing"
   ]
  },
  {
   "cell_type": "markdown",
   "metadata": {},
   "source": [
    "### n-Gram Language Models"
   ]
  },
  {
   "cell_type": "code",
   "execution_count": 1,
   "metadata": {},
   "outputs": [],
   "source": [
    "def fix_unicode(text: str) -> str:\n",
    "    return text.replace(u\"\\u2019\", \"'\")"
   ]
  },
  {
   "cell_type": "code",
   "execution_count": 2,
   "metadata": {},
   "outputs": [],
   "source": [
    "import re\n",
    "from bs4 import BeautifulSoup\n",
    "import requests\n",
    "\n",
    "url = \"https://www.oreilly.com/ideas/what-is-data-science\"\n",
    "html = requests.get(url).text\n",
    "soup = BeautifulSoup(html, 'html5lib')\n",
    "\n",
    "content = soup.find(\"div\", \"main-post-radar-content\")\n",
    "regex = r\"[\\w']+|[\\.]\"                       # matches a word or a period\n",
    "\n",
    "document = []\n",
    "\n",
    "for paragraph in content(\"p\"):\n",
    "    words = re.findall(regex, fix_unicode(paragraph.text))\n",
    "    document.extend(words)"
   ]
  },
  {
   "cell_type": "code",
   "execution_count": 3,
   "metadata": {},
   "outputs": [
    {
     "data": {
      "text/plain": [
       "['Weâ',\n",
       " 've',\n",
       " 'all',\n",
       " 'heard',\n",
       " 'it',\n",
       " 'according',\n",
       " 'to',\n",
       " 'Hal',\n",
       " 'Varian',\n",
       " 'statistics']"
      ]
     },
     "execution_count": 3,
     "metadata": {},
     "output_type": "execute_result"
    }
   ],
   "source": [
    "document[:10]"
   ]
  },
  {
   "cell_type": "code",
   "execution_count": 4,
   "metadata": {},
   "outputs": [
    {
     "data": {
      "text/plain": [
       "5225"
      ]
     },
     "execution_count": 4,
     "metadata": {},
     "output_type": "execute_result"
    }
   ],
   "source": [
    "len(document)"
   ]
  },
  {
   "cell_type": "code",
   "execution_count": 5,
   "metadata": {},
   "outputs": [
    {
     "data": {
      "text/plain": [
       "['ve', 'all', 'heard', 'it']"
      ]
     },
     "execution_count": 5,
     "metadata": {},
     "output_type": "execute_result"
    }
   ],
   "source": [
    "document[1:5]"
   ]
  },
  {
   "cell_type": "code",
   "execution_count": 6,
   "metadata": {},
   "outputs": [],
   "source": [
    "from collections import defaultdict\n",
    "\n",
    "transitions = defaultdict(list)\n",
    "for prev, current in zip(document, document[1:]):\n",
    "    transitions[prev].append(current)"
   ]
  },
  {
   "cell_type": "code",
   "execution_count": 7,
   "metadata": {},
   "outputs": [
    {
     "data": {
      "text/plain": [
       "{'Weâ': ['ve', 're', 've', 're', 've'],\n",
       " 've': ['all',\n",
       "  'ever',\n",
       "  'taken',\n",
       "  'made',\n",
       "  'seen',\n",
       "  'ever',\n",
       "  'parsed',\n",
       "  'all',\n",
       "  'heard',\n",
       "  'analyzed',\n",
       "  'seen',\n",
       "  'collected',\n",
       "  'all',\n",
       "  'gotten',\n",
       "  'just'],\n",
       " 'all': ['heard',\n",
       "  'the',\n",
       "  'of',\n",
       "  'of',\n",
       "  'carefully',\n",
       "  'the',\n",
       "  'in',\n",
       "  'equipment',\n",
       "  'youâ',\n",
       "  'heard',\n",
       "  'data',\n",
       "  'of',\n",
       "  'heard',\n",
       "  'locked',\n",
       "  'at',\n",
       "  'trying',\n",
       "  'aspects',\n",
       "  'tapped',\n",
       "  'The'],\n",
       " 'heard': ['it', 'a', 'â', 'the'],\n",
       " 'it': ['according',\n",
       "  'to',\n",
       "  'does',\n",
       "  'to',\n",
       "  'to',\n",
       "  '.',\n",
       "  'into',\n",
       "  'tell',\n",
       "  'comes',\n",
       "  'and',\n",
       "  'goes',\n",
       "  'possible',\n",
       "  'and',\n",
       "  '.',\n",
       "  '.',\n",
       "  'well',\n",
       "  'simpler',\n",
       "  'necessary',\n",
       "  'and',\n",
       "  'onto',\n",
       "  'much',\n",
       "  '.',\n",
       "  'might',\n",
       "  'easy',\n",
       "  'easier',\n",
       "  'arrives',\n",
       "  'takes',\n",
       "  'complements',\n",
       "  'comes',\n",
       "  '.',\n",
       "  '.',\n",
       "  'up',\n",
       "  '.',\n",
       "  'look',\n",
       "  'involves',\n",
       "  'isnâ',\n",
       "  'tell',\n",
       "  'started',\n",
       "  'was',\n",
       "  '.',\n",
       "  'â',\n",
       "  'all',\n",
       "  'to',\n",
       "  'to',\n",
       "  'to',\n",
       "  'to',\n",
       "  'â',\n",
       "  'appears'],\n",
       " 'according': ['to'],\n",
       " 'to': ['Hal',\n",
       "  'a',\n",
       "  'a',\n",
       "  'rip',\n",
       "  'CDDB',\n",
       "  'use',\n",
       "  'suggest',\n",
       "  'create',\n",
       "  'drive',\n",
       "  'use',\n",
       "  'the',\n",
       "  'do',\n",
       "  'mashup',\n",
       "  'convert',\n",
       "  'latitude',\n",
       "  'place',\n",
       "  'attract',\n",
       "  'use',\n",
       "  'others',\n",
       "  'see',\n",
       "  'many',\n",
       "  'update',\n",
       "  'hiking',\n",
       "  'data',\n",
       "  'capture',\n",
       "  '3',\n",
       "  'roughly',\n",
       "  'say',\n",
       "  'data',\n",
       "  'fill',\n",
       "  'store',\n",
       "  'put',\n",
       "  'consume',\n",
       "  'die',\n",
       "  'be',\n",
       "  'process',\n",
       "  'parse',\n",
       "  'do',\n",
       "  'be',\n",
       "  'do',\n",
       "  'be',\n",
       "  'use',\n",
       "  'XML',\n",
       "  'get',\n",
       "  'get',\n",
       "  'work',\n",
       "  'the',\n",
       "  'understand',\n",
       "  'be',\n",
       "  'parse',\n",
       "  'figure',\n",
       "  'know',\n",
       "  '10',\n",
       "  'classify',\n",
       "  'expand',\n",
       "  'petabytes',\n",
       "  'do',\n",
       "  'Jeff',\n",
       "  'build',\n",
       "  'traditional',\n",
       "  'go',\n",
       "  'define',\n",
       "  'support',\n",
       "  'many',\n",
       "  'Northern',\n",
       "  'Southern',\n",
       "  'be',\n",
       "  'provide',\n",
       "  'have',\n",
       "  'Googleâ',\n",
       "  'distribute',\n",
       "  'be',\n",
       "  'many',\n",
       "  'machine',\n",
       "  'put',\n",
       "  'work',\n",
       "  'build',\n",
       "  'test',\n",
       "  'consult',\n",
       "  'figure',\n",
       "  'pursue',\n",
       "  'drop',\n",
       "  'be',\n",
       "  'within',\n",
       "  'Hilary',\n",
       "  'precompute',\n",
       "  'get',\n",
       "  'incorporate',\n",
       "  'look',\n",
       "  'see',\n",
       "  'Hadoop',\n",
       "  'develop',\n",
       "  'develop',\n",
       "  'classify',\n",
       "  'Mike',\n",
       "  'â',\n",
       "  'the',\n",
       "  'notice',\n",
       "  'know',\n",
       "  'understanding',\n",
       "  'someone',\n",
       "  'providing',\n",
       "  'end',\n",
       "  'generate',\n",
       "  'each',\n",
       "  'Martin',\n",
       "  'data',\n",
       "  'find',\n",
       "  'get',\n",
       "  'create',\n",
       "  'look',\n",
       "  'other',\n",
       "  'verify',\n",
       "  'mathematics',\n",
       "  'art',\n",
       "  'other',\n",
       "  'DJ',\n",
       "  'be',\n",
       "  'think',\n",
       "  'make',\n",
       "  'break',\n",
       "  'turn',\n",
       "  'do',\n",
       "  'Cornell',\n",
       "  'join',\n",
       "  'looking',\n",
       "  'solve',\n",
       "  'solve',\n",
       "  'â',\n",
       "  'the',\n",
       "  'investigate',\n",
       "  'build',\n",
       "  'build',\n",
       "  'find',\n",
       "  'being',\n",
       "  'build',\n",
       "  'explore',\n",
       "  'iterate',\n",
       "  'drawing',\n",
       "  'come',\n",
       "  'view',\n",
       "  'work',\n",
       "  'the',\n",
       "  'collect',\n",
       "  'others',\n",
       "  'take',\n",
       "  'be',\n",
       "  'understand',\n",
       "  'process',\n",
       "  'extract',\n",
       "  'visualize',\n",
       "  'communicate',\n",
       "  'be',\n",
       "  'the',\n",
       "  'ignore'],\n",
       " 'Hal': ['Varian', 'Varianâ'],\n",
       " 'Varian': ['statistics'],\n",
       " 'statistics': ['is', 'and', 'where', 'is', 'building', 'is', 'to', 'work']}"
      ]
     },
     "execution_count": 7,
     "metadata": {},
     "output_type": "execute_result"
    }
   ],
   "source": [
    "import itertools\n",
    "\n",
    "dict(itertools.islice(transitions.items(), 10))"
   ]
  },
  {
   "cell_type": "code",
   "execution_count": 8,
   "metadata": {},
   "outputs": [],
   "source": [
    "import random\n",
    "\n",
    "def generate_using_bigrams() -> str:\n",
    "    current = \".\"   # this means the next word will start a sentence\n",
    "    result = []\n",
    "    while True:\n",
    "        next_word_candidates = transitions[current]    # bigrams (current, _)\n",
    "        current = random.choice(next_word_candidates)  # choose one at random\n",
    "        result.append(current)                         # append it to results\n",
    "        if current == \".\": return \" \".join(result)     # if \".\" we're done"
   ]
  },
  {
   "cell_type": "code",
   "execution_count": 9,
   "metadata": {},
   "outputs": [
    {
     "data": {
      "text/plain": [
       "'According to data productsâ .'"
      ]
     },
     "execution_count": 9,
     "metadata": {},
     "output_type": "execute_result"
    }
   ],
   "source": [
    "generate_using_bigrams()"
   ]
  },
  {
   "cell_type": "code",
   "execution_count": 10,
   "metadata": {},
   "outputs": [],
   "source": [
    "trigram_transitions = defaultdict(list)\n",
    "starts = []\n",
    "\n",
    "for prev, current, next in zip(document, document[1:], document[2:]):\n",
    "\n",
    "    if prev == \".\":              # if the previous \"word\" was a period\n",
    "        starts.append(current)   # then this is a start word\n",
    "\n",
    "    trigram_transitions[(prev, current)].append(next)"
   ]
  },
  {
   "cell_type": "code",
   "execution_count": 11,
   "metadata": {},
   "outputs": [],
   "source": [
    "def generate_using_trigrams() -> str:\n",
    "    current = random.choice(starts)   # choose a random starting word\n",
    "    prev = \".\"                        # and precede it with a '.'\n",
    "    result = [current]\n",
    "    while True:\n",
    "        next_word_candidates = trigram_transitions[(prev, current)]\n",
    "        next_word = random.choice(next_word_candidates)\n",
    "\n",
    "        prev, current = current, next_word\n",
    "        result.append(current)\n",
    "\n",
    "        if current == \".\":\n",
    "            return \" \".join(result)"
   ]
  },
  {
   "cell_type": "code",
   "execution_count": 12,
   "metadata": {},
   "outputs": [
    {
     "data": {
      "text/plain": [
       "'â Whether humans or software decided to ignore anomalous data it appears that data might mean itâ s easy to notice that one advertisement for R in a sea of data wherever they go .'"
      ]
     },
     "execution_count": 12,
     "metadata": {},
     "output_type": "execute_result"
    }
   ],
   "source": [
    "generate_using_trigrams()"
   ]
  },
  {
   "cell_type": "markdown",
   "metadata": {},
   "source": [
    "### Grammars"
   ]
  },
  {
   "cell_type": "code",
   "execution_count": 13,
   "metadata": {},
   "outputs": [],
   "source": [
    "from typing import List, Dict\n",
    "\n",
    "# Type alias to refer to grammars later\n",
    "Grammar = Dict[str, List[str]]\n",
    "\n",
    "grammar = {\n",
    "    \"_S\"  : [\"_NP _VP\"], # NP: noun phrase, VP: verb phrase\n",
    "    \"_NP\" : [\"_N\",\n",
    "             \"_A _NP _P _A _N\"],\n",
    "    \"_VP\" : [\"_V\",\n",
    "             \"_V _NP\"],\n",
    "    \"_N\"  : [\"data science\", \"Python\", \"regression\"],\n",
    "    \"_A\"  : [\"big\", \"linear\", \"logistic\"],\n",
    "    \"_P\"  : [\"about\", \"near\"],\n",
    "    \"_V\"  : [\"learns\", \"trains\", \"tests\", \"is\"]\n",
    "}"
   ]
  },
  {
   "cell_type": "code",
   "execution_count": 14,
   "metadata": {},
   "outputs": [],
   "source": [
    "def is_terminal(token: str) -> bool:\n",
    "    return token[0] != \"_\""
   ]
  },
  {
   "cell_type": "code",
   "execution_count": 15,
   "metadata": {},
   "outputs": [],
   "source": [
    "def expand(grammar: Grammar, tokens: List[str]) -> List[str]:\n",
    "    for i, token in enumerate(tokens):\n",
    "        # If this is a terminal token, skip it.\n",
    "        if is_terminal(token): continue\n",
    "\n",
    "        # Otherwise, it's a nonterminal token,\n",
    "        # so we need to choose a replacement at random.\n",
    "        replacement = random.choice(grammar[token])\n",
    "\n",
    "        if is_terminal(replacement):\n",
    "            tokens[i] = replacement\n",
    "        else:\n",
    "            # Replacement could be, e.g., \"_NP _VP\", so we need to\n",
    "            # split it on spaces and splice it in.\n",
    "            tokens = tokens[:i] + replacement.split() + tokens[(i+1):]\n",
    "\n",
    "        # Now call expand on the new list of tokens.\n",
    "        return expand(grammar, tokens)\n",
    "\n",
    "    # If we get here, we had all terminals and are done.\n",
    "    return tokens"
   ]
  },
  {
   "cell_type": "code",
   "execution_count": 16,
   "metadata": {},
   "outputs": [],
   "source": [
    "def generate_sentence(grammar: Grammar) -> List[str]:\n",
    "    return expand(grammar, [\"_S\"])"
   ]
  },
  {
   "cell_type": "code",
   "execution_count": 17,
   "metadata": {},
   "outputs": [
    {
     "data": {
      "text/plain": [
       "['data science', 'is']"
      ]
     },
     "execution_count": 17,
     "metadata": {},
     "output_type": "execute_result"
    }
   ],
   "source": [
    "generate_sentence(grammar)"
   ]
  },
  {
   "cell_type": "markdown",
   "metadata": {},
   "source": [
    "### An Aside: Gibbs Sampling"
   ]
  },
  {
   "cell_type": "code",
   "execution_count": 18,
   "metadata": {},
   "outputs": [],
   "source": [
    "from typing import Tuple\n",
    "import random\n",
    "\n",
    "def roll_a_die() -> int:\n",
    "    return random.choice([1, 2, 3, 4, 5, 6])\n",
    "\n",
    "def direct_sample() -> Tuple[int, int]:\n",
    "    d1 = roll_a_die()\n",
    "    d2 = roll_a_die()\n",
    "    return d1, d1 + d2"
   ]
  },
  {
   "cell_type": "code",
   "execution_count": 19,
   "metadata": {},
   "outputs": [],
   "source": [
    "def random_y_given_x(x: int) -> int:\n",
    "    \"\"\"equally likely to be x + 1, x + 2, ... , x + 6\"\"\"\n",
    "    return x + roll_a_die()"
   ]
  },
  {
   "cell_type": "code",
   "execution_count": 20,
   "metadata": {},
   "outputs": [],
   "source": [
    "def random_x_given_y(y: int) -> int:\n",
    "    if y <= 7:\n",
    "        # if the total is 7 or less, the first die is equally likely to be\n",
    "        # 1, 2, ..., (total - 1)\n",
    "        return random.randrange(1, y)\n",
    "    else:\n",
    "        # if the total is 7 or more, the first die is equally likely to be\n",
    "        # (total - 6), (total - 5), ..., 6\n",
    "        return random.randrange(y - 6, 7)"
   ]
  },
  {
   "cell_type": "code",
   "execution_count": 21,
   "metadata": {},
   "outputs": [],
   "source": [
    "def gibbs_sample(num_iters: int = 100) -> Tuple[int, int]:\n",
    "    x, y = 1, 2 # doesn't really matter\n",
    "    for _ in range(num_iters):\n",
    "        x = random_x_given_y(y)\n",
    "        y = random_y_given_x(x)\n",
    "    return x, y"
   ]
  },
  {
   "cell_type": "code",
   "execution_count": 22,
   "metadata": {},
   "outputs": [],
   "source": [
    "def compare_distributions(num_samples: int = 1000) -> Dict[int, List[int]]:\n",
    "    counts = defaultdict(lambda: [0, 0])\n",
    "    for _ in range(num_samples):\n",
    "        counts[gibbs_sample()][0] += 1\n",
    "        counts[direct_sample()][1] += 1\n",
    "    return counts"
   ]
  },
  {
   "cell_type": "markdown",
   "metadata": {},
   "source": [
    "### Topic Modeling"
   ]
  },
  {
   "cell_type": "code",
   "execution_count": 23,
   "metadata": {},
   "outputs": [],
   "source": [
    "# if you give it weights [1, 1, 3], then one-fifth of the time it will return 0, \n",
    "# one-fifth of the time it will return 1, \n",
    "# and three-fifths of the time it will return 2.\n",
    "def sample_from(weights: List[float]) -> int:\n",
    "    \"\"\"returns i with probability weights[i] / sum(weights)\"\"\"\n",
    "    total = sum(weights)\n",
    "    rnd = total * random.random()      # uniform between 0 and total\n",
    "    for i, w in enumerate(weights):\n",
    "        rnd -= w                       # return the smallest i such that\n",
    "        if rnd <= 0: return i          # weights[0] + ... + weights[i] >= rnd"
   ]
  },
  {
   "cell_type": "code",
   "execution_count": 24,
   "metadata": {},
   "outputs": [],
   "source": [
    "from collections import Counter\n",
    "\n",
    "# Draw 1000 times and count\n",
    "draws = Counter(sample_from([0.1, 0.1, 0.8]) for _ in range(1000))\n",
    "assert 10 < draws[0] < 190   # should be ~10%, this is a really loose test\n",
    "assert 10 < draws[1] < 190   # should be ~10%, this is a really loose test\n",
    "assert 650 < draws[2] < 950  # should be ~80%, this is a really loose test\n",
    "assert draws[0] + draws[1] + draws[2] == 1000"
   ]
  },
  {
   "cell_type": "code",
   "execution_count": 25,
   "metadata": {},
   "outputs": [],
   "source": [
    "documents = [\n",
    "    [\"Hadoop\", \"Big Data\", \"HBase\", \"Java\", \"Spark\", \"Storm\", \"Cassandra\"],\n",
    "    [\"NoSQL\", \"MongoDB\", \"Cassandra\", \"HBase\", \"Postgres\"],\n",
    "    [\"Python\", \"scikit-learn\", \"scipy\", \"numpy\", \"statsmodels\", \"pandas\"],\n",
    "    [\"R\", \"Python\", \"statistics\", \"regression\", \"probability\"],\n",
    "    [\"machine learning\", \"regression\", \"decision trees\", \"libsvm\"],\n",
    "    [\"Python\", \"R\", \"Java\", \"C++\", \"Haskell\", \"programming languages\"],\n",
    "    [\"statistics\", \"probability\", \"mathematics\", \"theory\"],\n",
    "    [\"machine learning\", \"scikit-learn\", \"Mahout\", \"neural networks\"],\n",
    "    [\"neural networks\", \"deep learning\", \"Big Data\", \"artificial intelligence\"],\n",
    "    [\"Hadoop\", \"Java\", \"MapReduce\", \"Big Data\"],\n",
    "    [\"statistics\", \"R\", \"statsmodels\"],\n",
    "    [\"C++\", \"deep learning\", \"artificial intelligence\", \"probability\"],\n",
    "    [\"pandas\", \"R\", \"Python\"],\n",
    "    [\"databases\", \"HBase\", \"Postgres\", \"MySQL\", \"MongoDB\"],\n",
    "    [\"libsvm\", \"regression\", \"support vector machines\"]\n",
    "]"
   ]
  },
  {
   "cell_type": "code",
   "execution_count": 26,
   "metadata": {},
   "outputs": [],
   "source": [
    "K = 4"
   ]
  },
  {
   "cell_type": "code",
   "execution_count": 27,
   "metadata": {},
   "outputs": [],
   "source": [
    "# How many times each topic is assigned to each document:\n",
    "# a list of Counters, one for each document\n",
    "document_topic_counts = [Counter() for _ in documents]"
   ]
  },
  {
   "cell_type": "code",
   "execution_count": 28,
   "metadata": {},
   "outputs": [
    {
     "data": {
      "text/plain": [
       "[Counter(),\n",
       " Counter(),\n",
       " Counter(),\n",
       " Counter(),\n",
       " Counter(),\n",
       " Counter(),\n",
       " Counter(),\n",
       " Counter(),\n",
       " Counter(),\n",
       " Counter(),\n",
       " Counter(),\n",
       " Counter(),\n",
       " Counter(),\n",
       " Counter(),\n",
       " Counter()]"
      ]
     },
     "execution_count": 28,
     "metadata": {},
     "output_type": "execute_result"
    }
   ],
   "source": [
    "document_topic_counts"
   ]
  },
  {
   "cell_type": "code",
   "execution_count": 29,
   "metadata": {},
   "outputs": [],
   "source": [
    "# How many times each word is assigned to each topic:\n",
    "# a list of Counters, one for each topic\n",
    "topic_word_counts = [Counter() for _ in range(K)]"
   ]
  },
  {
   "cell_type": "code",
   "execution_count": 30,
   "metadata": {},
   "outputs": [],
   "source": [
    "# The total number of words assigned to each topic:\n",
    "# a list of numbers, one for each topic\n",
    "topic_counts = [0 for _ in range(K)]"
   ]
  },
  {
   "cell_type": "code",
   "execution_count": 31,
   "metadata": {},
   "outputs": [],
   "source": [
    "# The total number of words contained in each document:\n",
    "# a list of numbers, one for each document\n",
    "document_lengths = [len(document) for document in documents]"
   ]
  },
  {
   "cell_type": "code",
   "execution_count": 32,
   "metadata": {},
   "outputs": [],
   "source": [
    "# The number of distinct words:\n",
    "distinct_words = set(word for document in documents for word in document)\n",
    "W = len(distinct_words)"
   ]
  },
  {
   "cell_type": "code",
   "execution_count": 33,
   "metadata": {},
   "outputs": [],
   "source": [
    "# And the number of documents:\n",
    "D = len(documents)"
   ]
  },
  {
   "cell_type": "code",
   "execution_count": 34,
   "metadata": {},
   "outputs": [
    {
     "data": {
      "text/plain": [
       "0"
      ]
     },
     "execution_count": 34,
     "metadata": {},
     "output_type": "execute_result"
    }
   ],
   "source": [
    "#  the number of words in documents[3] associated with topic 1 as follows:\n",
    "document_topic_counts[3][1]"
   ]
  },
  {
   "cell_type": "code",
   "execution_count": 35,
   "metadata": {},
   "outputs": [
    {
     "data": {
      "text/plain": [
       "0"
      ]
     },
     "execution_count": 35,
     "metadata": {},
     "output_type": "execute_result"
    }
   ],
   "source": [
    "# And we can find the number of times nlp is associated with topic 2 as follows:\n",
    "topic_word_counts[2][\"nlp\"]"
   ]
  },
  {
   "cell_type": "code",
   "execution_count": 36,
   "metadata": {},
   "outputs": [],
   "source": [
    "def p_topic_given_document(topic: int, d: int, alpha: float = 0.1) -> float:\n",
    "    \"\"\"\n",
    "    The fraction of words in document 'd'\n",
    "    that are assigned to 'topic' (plus some smoothing)\n",
    "    \"\"\"\n",
    "    return ((document_topic_counts[d][topic] + alpha) /\n",
    "            (document_lengths[d] + K * alpha))\n",
    "\n",
    "def p_word_given_topic(word: str, topic: int, beta: float = 0.1) -> float:\n",
    "    \"\"\"\n",
    "    The fraction of words assigned to 'topic'\n",
    "    that equal 'word' (plus some smoothing)\n",
    "    \"\"\"\n",
    "    return ((topic_word_counts[topic][word] + beta) /\n",
    "            (topic_counts[topic] + W * beta))"
   ]
  },
  {
   "cell_type": "code",
   "execution_count": 37,
   "metadata": {},
   "outputs": [],
   "source": [
    "def topic_weight(d: int, word: str, k: int) -> float:\n",
    "    \"\"\"\n",
    "    Given a document and a word in that document,\n",
    "    return the weight for the kth topic\n",
    "    \"\"\"\n",
    "    return p_word_given_topic(word, k) * p_topic_given_document(k, d)\n",
    "\n",
    "def choose_new_topic(d: int, word: str) -> int:\n",
    "    return sample_from([topic_weight(d, word, k)\n",
    "                        for k in range(K)])"
   ]
  },
  {
   "cell_type": "code",
   "execution_count": 38,
   "metadata": {},
   "outputs": [],
   "source": [
    "random.seed(0)\n",
    "document_topics = [[random.randrange(K) for word in document]\n",
    "                   for document in documents]\n",
    "\n",
    "for d in range(D):\n",
    "    for word, topic in zip(documents[d], document_topics[d]):\n",
    "        document_topic_counts[d][topic] += 1\n",
    "        topic_word_counts[topic][word] += 1\n",
    "        topic_counts[topic] += 1"
   ]
  },
  {
   "cell_type": "code",
   "execution_count": 39,
   "metadata": {},
   "outputs": [
    {
     "name": "stderr",
     "output_type": "stream",
     "text": [
      "100%|██████████| 1000/1000 [00:00<00:00, 1678.48it/s]\n"
     ]
    }
   ],
   "source": [
    "import tqdm\n",
    "\n",
    "for iter in tqdm.trange(1000):\n",
    "    for d in range(D):\n",
    "        for i, (word, topic) in enumerate(zip(documents[d],\n",
    "                                              document_topics[d])):\n",
    "\n",
    "            # remove this word / topic from the counts\n",
    "            # so that it doesn't influence the weights\n",
    "            document_topic_counts[d][topic] -= 1\n",
    "            topic_word_counts[topic][word] -= 1\n",
    "            topic_counts[topic] -= 1\n",
    "            document_lengths[d] -= 1\n",
    "\n",
    "            # choose a new topic based on the weights\n",
    "            new_topic = choose_new_topic(d, word)\n",
    "            document_topics[d][i] = new_topic\n",
    "\n",
    "            # and now add it back to the counts\n",
    "            document_topic_counts[d][new_topic] += 1\n",
    "            topic_word_counts[new_topic][word] += 1\n",
    "            topic_counts[new_topic] += 1\n",
    "            document_lengths[d] += 1"
   ]
  },
  {
   "cell_type": "code",
   "execution_count": 40,
   "metadata": {},
   "outputs": [
    {
     "name": "stdout",
     "output_type": "stream",
     "text": [
      "0 Java 3\n",
      "0 Big Data 3\n",
      "0 Hadoop 2\n",
      "0 HBase 1\n",
      "0 C++ 1\n",
      "0 Spark 1\n",
      "0 Storm 1\n",
      "0 programming languages 1\n",
      "0 MapReduce 1\n",
      "0 Cassandra 1\n",
      "0 deep learning 1\n",
      "1 HBase 2\n",
      "1 neural networks 2\n",
      "1 Postgres 2\n",
      "1 MongoDB 2\n",
      "1 machine learning 2\n",
      "1 Cassandra 1\n",
      "1 numpy 1\n",
      "1 decision trees 1\n",
      "1 deep learning 1\n",
      "1 databases 1\n",
      "1 MySQL 1\n",
      "1 NoSQL 1\n",
      "1 artificial intelligence 1\n",
      "1 scipy 1\n",
      "2 regression 3\n",
      "2 Python 2\n",
      "2 R 2\n",
      "2 libsvm 2\n",
      "2 scikit-learn 2\n",
      "2 mathematics 1\n",
      "2 support vector machines 1\n",
      "2 Haskell 1\n",
      "2 Mahout 1\n",
      "3 statistics 3\n",
      "3 probability 3\n",
      "3 Python 2\n",
      "3 R 2\n",
      "3 pandas 2\n",
      "3 statsmodels 2\n",
      "3 C++ 1\n",
      "3 artificial intelligence 1\n",
      "3 theory 1\n"
     ]
    }
   ],
   "source": [
    "for k, word_counts in enumerate(topic_word_counts):\n",
    "    for word, count in word_counts.most_common():\n",
    "        if count > 0:\n",
    "            print(k, word, count)"
   ]
  },
  {
   "cell_type": "code",
   "execution_count": 41,
   "metadata": {},
   "outputs": [],
   "source": [
    "topic_names = [\"Big Data and programming languages\",\n",
    "               \"Python and statistics\",\n",
    "               \"databases\",\n",
    "               \"machine learning\"]"
   ]
  },
  {
   "cell_type": "code",
   "execution_count": 42,
   "metadata": {},
   "outputs": [
    {
     "name": "stdout",
     "output_type": "stream",
     "text": [
      "['Hadoop', 'Big Data', 'HBase', 'Java', 'Spark', 'Storm', 'Cassandra']\n",
      "Big Data and programming languages 7\n",
      "\n",
      "['NoSQL', 'MongoDB', 'Cassandra', 'HBase', 'Postgres']\n",
      "Python and statistics 5\n",
      "\n",
      "['Python', 'scikit-learn', 'scipy', 'numpy', 'statsmodels', 'pandas']\n",
      "Python and statistics 2\n",
      "databases 2\n",
      "machine learning 2\n",
      "\n",
      "['R', 'Python', 'statistics', 'regression', 'probability']\n",
      "machine learning 3\n",
      "databases 2\n",
      "\n",
      "['machine learning', 'regression', 'decision trees', 'libsvm']\n",
      "databases 2\n",
      "Python and statistics 2\n",
      "\n",
      "['Python', 'R', 'Java', 'C++', 'Haskell', 'programming languages']\n",
      "databases 3\n",
      "Big Data and programming languages 3\n",
      "\n",
      "['statistics', 'probability', 'mathematics', 'theory']\n",
      "machine learning 3\n",
      "databases 1\n",
      "\n",
      "['machine learning', 'scikit-learn', 'Mahout', 'neural networks']\n",
      "databases 2\n",
      "Python and statistics 2\n",
      "\n",
      "['neural networks', 'deep learning', 'Big Data', 'artificial intelligence']\n",
      "Python and statistics 3\n",
      "Big Data and programming languages 1\n",
      "\n",
      "['Hadoop', 'Java', 'MapReduce', 'Big Data']\n",
      "Big Data and programming languages 4\n",
      "\n",
      "['statistics', 'R', 'statsmodels']\n",
      "machine learning 3\n",
      "\n",
      "['C++', 'deep learning', 'artificial intelligence', 'probability']\n",
      "machine learning 3\n",
      "Big Data and programming languages 1\n",
      "\n",
      "['pandas', 'R', 'Python']\n",
      "machine learning 3\n",
      "\n",
      "['databases', 'HBase', 'Postgres', 'MySQL', 'MongoDB']\n",
      "Python and statistics 5\n",
      "\n",
      "['libsvm', 'regression', 'support vector machines']\n",
      "databases 3\n",
      "\n"
     ]
    }
   ],
   "source": [
    "for document, topic_counts in zip(documents, document_topic_counts):\n",
    "    print(document)\n",
    "    for topic, count in topic_counts.most_common():\n",
    "        if count > 0:\n",
    "            print(topic_names[topic], count)\n",
    "    print()"
   ]
  },
  {
   "cell_type": "markdown",
   "metadata": {},
   "source": [
    "### Word vectors"
   ]
  },
  {
   "cell_type": "code",
   "execution_count": 43,
   "metadata": {},
   "outputs": [],
   "source": [
    "from scratch.linear_algebra import dot, Vector\n",
    "import math\n",
    "\n",
    "def cosine_similarity(v1: Vector, v2: Vector) -> float:\n",
    "    return dot(v1, v2) / math.sqrt(dot(v1, v1) * dot(v2, v2))\n",
    "\n",
    "assert cosine_similarity([1., 1, 1], [2., 2, 2]) == 1, \"same direction\"\n",
    "assert cosine_similarity([-1., -1], [2., 2]) == -1,    \"opposite direction\"\n",
    "assert cosine_similarity([1., 0], [0., 1]) == 0,       \"orthogonal\""
   ]
  },
  {
   "cell_type": "code",
   "execution_count": 44,
   "metadata": {},
   "outputs": [
    {
     "name": "stdout",
     "output_type": "stream",
     "text": [
      "-4\n",
      "2\n",
      "8\n"
     ]
    },
    {
     "data": {
      "text/plain": [
       "4.0"
      ]
     },
     "execution_count": 44,
     "metadata": {},
     "output_type": "execute_result"
    }
   ],
   "source": [
    "v1 = [-1, -1]\n",
    "v2 = [2, 2]\n",
    "print(dot(v1, v2))\n",
    "\n",
    "vv1 = dot(v1, v1)\n",
    "vv2 = dot(v2, v2)\n",
    "print(vv1)\n",
    "print(vv2)\n",
    "math.sqrt(vv1 * vv2)"
   ]
  },
  {
   "cell_type": "code",
   "execution_count": 45,
   "metadata": {},
   "outputs": [],
   "source": [
    "import random\n",
    "\n",
    "colors = [\"red\", \"green\", \"blue\", \"yellow\", \"black\", \"\"]\n",
    "nouns = [\"bed\", \"car\", \"boat\", \"cat\"]\n",
    "verbs = [\"is\", \"was\", \"seems\"]\n",
    "adverbs = [\"very\", \"quite\", \"extremely\", \"\"]\n",
    "adjectives = [\"slow\", \"fast\", \"soft\", \"hard\"]\n",
    "\n",
    "def make_sentence() -> str:\n",
    "    return \" \".join([\n",
    "        \"The\",\n",
    "        random.choice(colors),\n",
    "        random.choice(nouns),\n",
    "        random.choice(verbs),\n",
    "        random.choice(adverbs),\n",
    "        random.choice(adjectives),\n",
    "        \".\"\n",
    "    ])\n",
    "\n",
    "NUM_SENTENCES = 50\n",
    "\n",
    "random.seed(0)\n",
    "sentences = [make_sentence() for _ in range(NUM_SENTENCES)]"
   ]
  },
  {
   "cell_type": "code",
   "execution_count": 46,
   "metadata": {},
   "outputs": [
    {
     "data": {
      "text/plain": [
       "<Figure size 432x288 with 0 Axes>"
      ]
     },
     "metadata": {},
     "output_type": "display_data"
    }
   ],
   "source": [
    "from scratch.deep_learning import Tensor\n",
    "\n",
    "class Vocabulary:\n",
    "    def __init__(self, words: List[str] = None) -> None:\n",
    "        self.w2i: Dict[str, int] = {}  # mapping word -> word_id\n",
    "        self.i2w: Dict[int, str] = {}  # mapping word_id -> word\n",
    "\n",
    "        for word in (words or []):     # If words were provided,\n",
    "            self.add(word)             # add them.\n",
    "\n",
    "    @property\n",
    "    def size(self) -> int:\n",
    "        \"\"\"how many words are in the vocabulary\"\"\"\n",
    "        return len(self.w2i)\n",
    "\n",
    "    def add(self, word: str) -> None:\n",
    "        if word not in self.w2i:        # If the word is new to us:\n",
    "            word_id = len(self.w2i)     # Find the next id.\n",
    "            self.w2i[word] = word_id    # Add to the word -> word_id map.\n",
    "            self.i2w[word_id] = word    # Add to the word_id -> word map.\n",
    "\n",
    "    def get_id(self, word: str) -> int:\n",
    "        \"\"\"return the id of the word (or None)\"\"\"\n",
    "        return self.w2i.get(word)\n",
    "\n",
    "    def get_word(self, word_id: int) -> str:\n",
    "        \"\"\"return the word with the given id (or None)\"\"\"\n",
    "        return self.i2w.get(word_id)\n",
    "\n",
    "    def one_hot_encode(self, word: str) -> Tensor:\n",
    "        word_id = self.get_id(word)\n",
    "        assert word_id is not None, f\"unknown word {word}\"\n",
    "\n",
    "        return [1.0 if i == word_id else 0.0 for i in range(self.size)]"
   ]
  },
  {
   "cell_type": "code",
   "execution_count": 47,
   "metadata": {},
   "outputs": [],
   "source": [
    "vocab = Vocabulary([\"a\", \"b\", \"c\"])\n",
    "assert vocab.size == 3,              \"there are 3 words in the vocab\"\n",
    "assert vocab.get_id(\"b\") == 1,       \"b should have word_id 1\"\n",
    "assert vocab.one_hot_encode(\"b\") == [0, 1, 0]\n",
    "assert vocab.get_id(\"z\") is None,    \"z is not in the vocab\"\n",
    "assert vocab.get_word(2) == \"c\",     \"word_id 2 should be c\"\n",
    "vocab.add(\"z\")\n",
    "assert vocab.size == 4,              \"now there are 4 words in the vocab\"\n",
    "assert vocab.get_id(\"z\") == 3,       \"now z should have id 3\"\n",
    "assert vocab.one_hot_encode(\"z\") == [0, 0, 0, 1]"
   ]
  },
  {
   "cell_type": "code",
   "execution_count": 48,
   "metadata": {},
   "outputs": [],
   "source": [
    "import json\n",
    "\n",
    "def save_vocab(vocab: Vocabulary, filename: str) -> None:\n",
    "    with open(filename, 'w') as f:\n",
    "        json.dump(vocab.w2i, f)       # Only need to save w2i\n",
    "\n",
    "def load_vocab(filename: str) -> Vocabulary:\n",
    "    vocab = Vocabulary()\n",
    "    with open(filename) as f:\n",
    "        # Load w2i and generate i2w from it\n",
    "        vocab.w2i = json.load(f)\n",
    "        vocab.i2w = {id: word for word, id in vocab.w2i.items()}\n",
    "    return vocab"
   ]
  },
  {
   "cell_type": "code",
   "execution_count": 53,
   "metadata": {},
   "outputs": [],
   "source": [
    "from typing import Iterable\n",
    "from scratch.deep_learning import Layer, Tensor, random_tensor, zeros_like\n",
    "\n",
    "class Embedding(Layer):\n",
    "    def __init__(self, num_embeddings: int, embedding_dim: int) -> None:\n",
    "        self.num_embeddings = num_embeddings\n",
    "        self.embedding_dim = embedding_dim\n",
    "\n",
    "        # One vector of size embedding_dim for each desired embedding\n",
    "        self.embeddings = random_tensor(num_embeddings, embedding_dim)\n",
    "        self.grad = zeros_like(self.embeddings)\n",
    "\n",
    "        # Save last input id\n",
    "        self.last_input_id = None\n",
    "        \n",
    "    def forward(self, input_id: int) -> Tensor:\n",
    "        \"\"\"Just select the embedding vector corresponding to the input id\"\"\"\n",
    "        self.input_id = input_id    # remember for use in backpropagation\n",
    "\n",
    "        return self.embeddings[input_id]\n",
    "    \n",
    "    def backward(self, gradient: Tensor) -> None:\n",
    "        # Zero out the gradient corresponding to the last input.\n",
    "        # This is way cheaper than creating a new all-zero tensor each time.\n",
    "        if self.last_input_id is not None:\n",
    "            zero_row = [0 for _ in range(self.embedding_dim)]\n",
    "            self.grad[self.last_input_id] = zero_row\n",
    "\n",
    "        self.last_input_id = self.input_id\n",
    "        self.grad[self.input_id] = gradient\n",
    "        \n",
    "    def params(self) -> Iterable[Tensor]:\n",
    "        return [self.embeddings]\n",
    "\n",
    "    def grads(self) -> Iterable[Tensor]:\n",
    "        return [self.grad]"
   ]
  },
  {
   "cell_type": "code",
   "execution_count": 54,
   "metadata": {},
   "outputs": [],
   "source": [
    "class TextEmbedding(Embedding):\n",
    "    def __init__(self, vocab: Vocabulary, embedding_dim: int) -> None:\n",
    "        # Call the superclass constructor\n",
    "        super().__init__(vocab.size, embedding_dim)\n",
    "\n",
    "        # And hang onto the vocab\n",
    "        self.vocab = vocab\n",
    "        \n",
    "    def __getitem__(self, word: str) -> Tensor:\n",
    "        word_id = self.vocab.get_id(word)\n",
    "        if word_id is not None:\n",
    "            return self.embeddings[word_id]\n",
    "        else:\n",
    "            return None\n",
    "        \n",
    "    def closest(self, word: str, n: int = 5) -> List[Tuple[float, str]]:\n",
    "        \"\"\"Returns the n closest words based on cosine similarity\"\"\"\n",
    "        vector = self[word]\n",
    "\n",
    "        # Compute pairs (similarity, other_word), and sort most similar first\n",
    "        scores = [(cosine_similarity(vector, self.embeddings[i]), other_word)\n",
    "                  for other_word, i in self.vocab.w2i.items()]\n",
    "        scores.sort(reverse=True)\n",
    "\n",
    "        return scores[:n]"
   ]
  },
  {
   "cell_type": "code",
   "execution_count": 58,
   "metadata": {},
   "outputs": [
    {
     "data": {
      "text/plain": [
       "[['the', 'yellow', 'cat', 'is', 'extremely', 'hard', '.'],\n",
       " ['the', 'yellow', 'boat', 'was', 'extremely', 'fast', '.']]"
      ]
     },
     "execution_count": 58,
     "metadata": {},
     "output_type": "execute_result"
    }
   ],
   "source": [
    "import re\n",
    "\n",
    "# This is not a great regex, but it works on our data.\n",
    "tokenized_sentences = [re.findall(\"[a-z]+|[.]\", sentence.lower())\n",
    "                       for sentence in sentences]\n",
    "tokenized_sentences[:2]"
   ]
  },
  {
   "cell_type": "code",
   "execution_count": 61,
   "metadata": {},
   "outputs": [],
   "source": [
    "# Create a vocabulary (that is, a mapping word -> word_id) based on our text.\n",
    "vocab = Vocabulary(word\n",
    "                   for sentence_words in tokenized_sentences\n",
    "                   for word in sentence_words)"
   ]
  },
  {
   "cell_type": "code",
   "execution_count": 62,
   "metadata": {},
   "outputs": [],
   "source": [
    "from scratch.deep_learning import Tensor, one_hot_encode\n",
    "\n",
    "inputs: List[int] = []\n",
    "targets: List[Tensor] = []\n",
    "\n",
    "for sentence in tokenized_sentences:\n",
    "    for i, word in enumerate(sentence):          # For each word\n",
    "        for j in [i - 2, i - 1, i + 1, i + 2]:   # take the nearby locations\n",
    "            if 0 <= j < len(sentence):           # that aren't out of bounds\n",
    "                nearby_word = sentence[j]        # and get those words.\n",
    "\n",
    "                # Add an input that's the original word_id\n",
    "                inputs.append(vocab.get_id(word))\n",
    "\n",
    "                # Add a target that's the one-hot-encoded nearby word\n",
    "                targets.append(vocab.one_hot_encode(nearby_word))"
   ]
  },
  {
   "cell_type": "code",
   "execution_count": 63,
   "metadata": {},
   "outputs": [],
   "source": [
    "from scratch.deep_learning import Sequential, Linear\n",
    "\n",
    "random.seed(0)\n",
    "EMBEDDING_DIM = 5  # seems like a good size\n",
    "\n",
    "# Define the embedding layer separately, so we can reference it.\n",
    "embedding = TextEmbedding(vocab=vocab, embedding_dim=EMBEDDING_DIM)\n",
    "\n",
    "model = Sequential([\n",
    "    # Given a word (as a vector of word_ids), look up its embedding.\n",
    "    embedding,\n",
    "    # And use a linear layer to compute scores for \"nearby words.\"\n",
    "    Linear(input_dim=EMBEDDING_DIM, output_dim=vocab.size)\n",
    "])"
   ]
  },
  {
   "cell_type": "code",
   "execution_count": 64,
   "metadata": {},
   "outputs": [
    {
     "name": "stdout",
     "output_type": "stream",
     "text": [
      "0 2970.156429387063\n",
      "[(1.0, 'black'), (0.7927247753692507, 'blue'), (0.5911733314896048, 'cat'), (0.5716654981660781, 'the'), (0.3026892975059721, 'car')]\n",
      "[(1.0, 'slow'), (0.8936272640937163, 'green'), (0.5272141409772461, '.'), (0.356013304388346, 'yellow'), (0.29982973123116025, 'blue')]\n",
      "[(1.0, 'car'), (0.7030889033452818, 'cat'), (0.519105254858335, 'fast'), (0.4236692673437953, 'very'), (0.3848186865089063, 'quite')]\n",
      "1 2865.855510833289\n",
      "[(1.0, 'black'), (0.8076054877794636, 'blue'), (0.6112459000264461, 'cat'), (0.5676562111596322, 'the'), (0.3273307461476133, 'car')]\n",
      "[(1.0, 'slow'), (0.8795208130766505, 'green'), (0.5675261127213351, '.'), (0.3624106663078739, 'yellow'), (0.3593451263736934, 'boat')]\n",
      "[(1.0, 'car'), (0.7121322616680856, 'cat'), (0.49717481866583696, 'fast'), (0.4099921723101964, 'very'), (0.3655326707405854, 'quite')]\n",
      "2 2815.035526656466\n",
      "[(1.0, 'black'), (0.8240340241906855, 'blue'), (0.6310891601317347, 'cat'), (0.5448895203899405, 'the'), (0.3541498544488745, 'car')]\n",
      "[(1.0, 'slow'), (0.8382557477816177, 'green'), (0.6128230321870294, '.'), (0.4644151711544872, 'boat'), (0.42575868442758635, 'bed')]\n",
      "[(1.0, 'car'), (0.7229666991636668, 'cat'), (0.4707033140618388, 'fast'), (0.3854511828109098, 'very'), (0.3541498544488745, 'black')]\n",
      "3 2775.056320623602\n",
      "[(1.0, 'black'), (0.8399443403928238, 'blue'), (0.6492854016513254, 'cat'), (0.5159235516544087, 'the'), (0.38002810863571673, 'car')]\n",
      "[(1.0, 'slow'), (0.7372746324842714, 'green'), (0.6672509687313023, '.'), (0.6095209262748522, 'bed'), (0.6049936584363959, 'boat')]\n",
      "[(1.0, 'car'), (0.7330558358719491, 'cat'), (0.4449000644475153, 'fast'), (0.38002810863571673, 'black'), (0.35316402491218574, 'very')]\n",
      "4 2740.559222808394\n",
      "[(1.0, 'black'), (0.8546748192228948, 'blue'), (0.6657217320373369, 'cat'), (0.4908771803572172, 'the'), (0.40348839398557823, 'car')]\n",
      "[(1.0, 'slow'), (0.7773818151773346, 'bed'), (0.7485901948833701, 'boat'), (0.7147940344370566, '.'), (0.5179654214966631, 'green')]\n",
      "[(1.0, 'car'), (0.7410181737870407, 'cat'), (0.4223983142993469, 'fast'), (0.40348839398557823, 'black'), (0.3618087275561693, 'blue')]\n",
      "5 2710.3116245812657\n",
      "[(1.0, 'black'), (0.8679538522996558, 'blue'), (0.6803567530755632, 'cat'), (0.47292733567587025, 'the'), (0.42372535631597674, 'car')]\n",
      "[(1.0, 'slow'), (0.8183591189926008, 'bed'), (0.7949264849652443, 'boat'), (0.7204883434267197, 'soft'), (0.6979618532596844, '.')]\n",
      "[(1.0, 'car'), (0.7465118866217969, 'cat'), (0.42372535631597674, 'black'), (0.40366103474028453, 'fast'), (0.37367125971485043, 'blue')]\n",
      "6 2683.6186740957255\n",
      "[(1.0, 'black'), (0.8797023538335507, 'blue'), (0.6932160076418026, 'cat'), (0.4615913266735975, 'the'), (0.4404587409935181, 'car')]\n",
      "[(1.0, 'slow'), (0.8464190939549763, 'soft'), (0.8247941062662434, 'hard'), (0.7001947796005756, 'boat'), (0.6990759210479923, 'bed')]\n",
      "[(1.0, 'car'), (0.7499064419317932, 'cat'), (0.4404587409935181, 'black'), (0.387917870757643, 'fast'), (0.3798519137036573, 'blue')]\n",
      "7 2660.0367473531987\n",
      "[(1.0, 'black'), (0.8899697425890145, 'blue'), (0.7044035958742458, 'cat'), (0.4657475441442679, 'red'), (0.45542223506903357, 'the')]\n",
      "[(1.0, 'slow'), (0.8961685232892641, 'hard'), (0.871613775995127, 'soft'), (0.584437693808125, 'extremely'), (0.5535933661555645, 'boat')]\n",
      "[(1.0, 'car'), (0.7518718968471145, 'cat'), (0.45373528215514525, 'black'), (0.3814443812953128, 'blue'), (0.3740380120306318, 'fast')]\n",
      "8 2639.208677430489\n",
      "[(1.0, 'black'), (0.8988970994545782, 'blue'), (0.7140322757388028, 'cat'), (0.48959895671472575, 'red'), (0.4698536787235758, 'yellow')]\n",
      "[(1.0, 'slow'), (0.9104908985984158, 'hard'), (0.8600898288206641, 'soft'), (0.5994148262424945, 'extremely'), (0.42843610812189187, '.')]\n",
      "[(1.0, 'car'), (0.7531073118401143, 'cat'), (0.46373838384371785, 'black'), (0.3794199870051995, 'blue'), (0.3610676877468999, 'fast')]\n",
      "9 2620.772371394313\n",
      "[(1.0, 'black'), (0.906683509218615, 'blue'), (0.7221315229945585, 'cat'), (0.511974784415396, 'red'), (0.4953079523334607, 'yellow')]\n",
      "[(1.0, 'slow'), (0.9060900750726031, 'hard'), (0.8416592037577746, 'soft'), (0.6036332303145074, 'extremely'), (0.4770095914883219, 'fast')]\n",
      "[(1.0, 'car'), (0.7542257280654523, 'cat'), (0.4706702532416764, 'black'), (0.3745245047913884, 'blue'), (0.3484359758928654, 'fast')]\n",
      "10 2604.369994998486\n",
      "[(1.0, 'black'), (0.9135473746691183, 'blue'), (0.7285844171156141, 'cat'), (0.5329378149188578, 'red'), (0.519409063870222, 'yellow')]\n",
      "[(1.0, 'slow'), (0.896969328464972, 'hard'), (0.8248778885080613, 'soft'), (0.6036522204811171, 'extremely'), (0.5414699860610567, 'fast')]\n",
      "[(1.0, 'car'), (0.7557303344944517, 'cat'), (0.4747090741200157, 'black'), (0.3673138589580275, 'blue'), (0.3359421028123457, 'fast')]\n",
      "11 2589.681275666489\n",
      "[(1.0, 'black'), (0.9196912595300674, 'blue'), (0.7331191728476139, 'cat'), (0.552566515444839, 'red'), (0.5419355686651876, 'yellow')]\n",
      "[(1.0, 'slow'), (0.8877515501493153, 'hard'), (0.8114802027933822, 'soft'), (0.6016653652531865, 'extremely'), (0.585825442326762, 'fast')]\n",
      "[(1.0, 'car'), (0.7580226583030913, 'cat'), (0.4760216752544465, 'black'), (0.3582375718113467, 'blue'), (0.32364676034762135, 'fast')]\n",
      "12 2576.439388258561\n",
      "[(1.0, 'black'), (0.9252794967002103, 'blue'), (0.7353496786826688, 'cat'), (0.5709239605157724, 'red'), (0.5627834494415991, 'yellow')]\n",
      "[(1.0, 'slow'), (0.8798999841316745, 'hard'), (0.8014097171658854, 'soft'), (0.6181027208526458, 'fast'), (0.598517456647996, 'extremely')]\n",
      "[(1.0, 'car'), (0.7614106443841174, 'cat'), (0.47480185810951564, 'black'), (0.3477126032143577, 'blue'), (0.3117523207134789, 'fast')]\n",
      "13 2564.4297125289027\n",
      "[(1.0, 'black'), (0.9304302649180368, 'blue'), (0.7348433273350908, 'cat'), (0.5880468951562037, 'red'), (0.5819389717665883, 'yellow')]\n",
      "[(1.0, 'slow'), (0.8737963957906321, 'hard'), (0.7942241900925557, 'soft'), (0.642939839468955, 'fast'), (0.5946431518469691, 'extremely')]\n",
      "[(1.0, 'car'), (0.7661068202268687, 'cat'), (0.471306114080091, 'black'), (0.3361642554123076, 'blue'), (0.30050954356498855, 'fast')]\n",
      "14 2553.4825306384073\n",
      "[(1.0, 'black'), (0.9352186106046434, 'blue'), (0.7311953380331877, 'cat'), (0.60394860779094, 'red'), (0.5994489108958969, 'yellow')]\n",
      "[(1.0, 'slow'), (0.8694232374338849, 'hard'), (0.7894465913647175, 'soft'), (0.6631004329252044, 'fast'), (0.5903408303167019, 'extremely')]\n",
      "[(1.0, 'car'), (0.7722188749576921, 'cat'), (0.4658692737256293, 'black'), (0.3240330472326341, 'blue'), (0.29015641037658546, 'fast')]\n",
      "15 2543.465957233125\n",
      "[(1.0, 'black'), (0.9396856319005084, 'blue'), (0.7240953737228187, 'cat'), (0.6186290388956557, 'red'), (0.6153960740666122, 'yellow')]\n",
      "[(1.0, 'slow'), (0.8666007974379233, 'hard'), (0.7866372714390383, 'soft'), (0.6802451566309055, 'fast'), (0.5858492957928573, 'extremely')]\n",
      "[(1.0, 'car'), (0.7797397036037226, 'cat'), (0.4588952366754735, 'black'), (0.3117570265252931, 'blue'), (0.2808819627765562, 'fast')]\n",
      "16 2534.2798851019024\n",
      "[(1.0, 'black'), (0.943849769632062, 'blue'), (0.7133777183982776, 'cat'), (0.6320868655322577, 'red'), (0.6298822905671055, 'yellow')]\n",
      "[(1.0, 'slow'), (0.8650826872862538, 'hard'), (0.7854021656169237, 'soft'), (0.6953533874674177, 'fast'), (0.5813686518009797, 'extremely')]\n",
      "[(1.0, 'car'), (0.7885446091798068, 'cat'), (0.45082764539308534, 'black'), (0.2997423183081641, 'blue'), (0.27280716261830434, 'fast')]\n",
      "17 2525.8498014467195\n",
      "[(1.0, 'black'), (0.9477173800032387, 'blue'), (0.699050039255538, 'cat'), (0.6443299445799064, 'red'), (0.6430179288917803, 'yellow')]\n",
      "[(1.0, 'slow'), (0.8646037963990141, 'hard'), (0.7853912851550033, 'soft'), (0.7089763449051222, 'fast'), (0.5878822828894432, 'quite')]\n",
      "[(1.0, 'car'), (0.7984012990206347, 'cat'), (0.4421106407468967, 'black'), (0.28833382564018134, 'blue'), (0.26597799586462556, 'fast')]\n",
      "18 2518.119929835703\n",
      "[(1.0, 'black'), (0.9512909696766538, 'blue'), (0.6812990949812056, 'cat'), (0.6553821324630429, 'red'), (0.6549159292581755, 'yellow')]\n",
      "[(1.0, 'slow'), (0.8649085892220001, 'hard'), (0.7862976835646307, 'soft'), (0.7214013070212207, 'fast'), (0.5947228057669146, 'quite')]\n",
      "[(1.0, 'car'), (0.8089942948053909, 'cat'), (0.43315067195386253, 'black'), (0.2777945048229176, 'blue'), (0.26036855591512525, 'fast')]\n",
      "19 2511.046227366493\n",
      "[(1.0, 'black'), (0.9545745131049609, 'blue'), (0.6656884483570683, 'yellow'), (0.665285946666834, 'red'), (0.6604751064063588, 'cat')]\n",
      "[(1.0, 'slow'), (0.8657679315027695, 'hard'), (0.7878569446404701, 'soft'), (0.7327622678064329, 'fast'), (0.6005435101992006, 'quite')]\n",
      "[(1.0, 'car'), (0.8199607758571835, 'cat'), (0.4242876900386435, 'black'), (0.2748661389108832, 'bed'), (0.2682969696612198, 'blue')]\n"
     ]
    },
    {
     "name": "stdout",
     "output_type": "stream",
     "text": [
      "20 2504.5902126634855\n",
      "[(1.0, 'black'), (0.957576053669443, 'blue'), (0.6754448002775352, 'yellow'), (0.6741016113281826, 'red'), (0.6370593374009472, 'cat')]\n",
      "[(1.0, 'slow'), (0.8669876605786818, 'hard'), (0.7898461908470056, 'soft'), (0.7431142187795304, 'fast'), (0.6054838693034814, 'quite')]\n",
      "[(1.0, 'car'), (0.8309314677594278, 'cat'), (0.41577966556459073, 'black'), (0.2950449738583089, 'bed'), (0.25992691986485333, 'blue')]\n",
      "21 2498.7143878987954\n",
      "[(1.0, 'black'), (0.9603082452264213, 'blue'), (0.6842899903173367, 'yellow'), (0.6819036185885786, 'red'), (0.6116210913792692, 'cat')]\n",
      "[(1.0, 'slow'), (0.8684111458357192, 'hard'), (0.792082223341027, 'soft'), (0.7524810526902487, 'fast'), (0.6096628372717496, 'quite')]\n",
      "[(1.0, 'car'), (0.8415691158802513, 'cat'), (0.40780015696694516, 'black'), (0.3138234920502818, 'bed'), (0.2526952060710574, 'blue')]\n",
      "22 2493.3795337812226\n",
      "[(1.0, 'black'), (0.9627876259396498, 'blue'), (0.6923235655936569, 'yellow'), (0.6887760594265789, 'red'), (0.607418360119304, 'green')]\n",
      "[(1.0, 'slow'), (0.869917815148893, 'hard'), (0.7944188493957738, 'soft'), (0.7608840869276485, 'fast'), (0.6131855497854608, 'quite')]\n",
      "[(1.0, 'car'), (0.8515983049261712, 'cat'), (0.40044591019401293, 'black'), (0.3311768011777115, 'bed'), (0.24784017901989083, 'fast')]\n",
      "23 2488.543714300541\n",
      "[(1.0, 'black'), (0.9650333206630431, 'blue'), (0.6996387209532832, 'yellow'), (0.6948077749862032, 'red'), (0.6163353040335012, 'green')]\n",
      "[(1.0, 'slow'), (0.8714192952798184, 'hard'), (0.796743579885607, 'soft'), (0.7683566660543341, 'fast'), (0.6161455378997859, 'quite')]\n",
      "[(1.0, 'car'), (0.8608230072323747, 'cat'), (0.3937504804107571, 'black'), (0.3471408989216782, 'bed'), (0.24640834579619553, 'fast')]\n",
      "24 2484.1625607550036\n",
      "[(1.0, 'black'), (0.967065663449092, 'blue'), (0.7063216663413666, 'yellow'), (0.7000880351894033, 'red'), (0.624970326612461, 'green')]\n",
      "[(1.0, 'slow'), (0.8728544085794727, 'hard'), (0.7989738687474632, 'soft'), (0.7749492559156934, 'fast'), (0.618624656303033, 'quite')]\n",
      "[(1.0, 'car'), (0.8691311996452354, 'cat'), (0.38770017574594434, 'black'), (0.3617953117946959, 'bed'), (0.24534493983491637, 'fast')]\n",
      "25 2480.1903238722925\n",
      "[(1.0, 'black'), (0.9689050185797982, 'blue'), (0.7124512600225144, 'yellow'), (0.704703110427255, 'red'), (0.6332780026026811, 'green')]\n",
      "[(1.0, 'slow'), (0.8741838814423556, 'hard'), (0.8010530469124191, 'soft'), (0.7807285694284868, 'fast'), (0.6206923114071161, 'quite')]\n",
      "[(1.0, 'car'), (0.8764883791350558, 'cat'), (0.382249565011843, 'black'), (0.37524679245707204, 'bed'), (0.24451869560792958, 'fast')]\n",
      "26 2476.5812399263195\n",
      "[(1.0, 'black'), (0.9705709117872738, 'blue'), (0.7180988914424978, 'yellow'), (0.7087338393161159, 'red'), (0.6412311707631081, 'green')]\n",
      "[(1.0, 'slow'), (0.8753853074754071, 'hard'), (0.8029461106676803, 'soft'), (0.7857734676728807, 'fast'), (0.6224049518128482, 'quite')]\n",
      "[(1.0, 'car'), (0.882923379645931, 'cat'), (0.38761588495464255, 'bed'), (0.37733485414255613, 'black'), (0.24381771418186335, 'fast')]\n",
      "27 2473.290881604695\n",
      "[(1.0, 'black'), (0.9720814774042608, 'blue'), (0.7233285798385574, 'yellow'), (0.7122541276134091, 'red'), (0.6488185525222294, 'green')]\n",
      "[(1.0, 'slow'), (0.8764486782826195, 'hard'), (0.8046355430655611, 'soft'), (0.7901696381671929, 'fast'), (0.6238062550598273, 'quite')]\n",
      "[(1.0, 'car'), (0.8885104084154731, 'cat'), (0.39902685820787687, 'bed'), (0.3728843491462966, 'black'), (0.24314891086831114, 'fast')]\n",
      "28 2470.2772967811507\n",
      "[(1.0, 'black'), (0.9734531731794627, 'blue'), (0.7281972450982319, 'yellow'), (0.7153302259698546, 'red'), (0.6560414787112137, 'green')]\n",
      "[(1.0, 'slow'), (0.8773726324078005, 'hard'), (0.8061173515610114, 'soft'), (0.7940043807940629, 'fast'), (0.6249280672540768, 'quite')]\n",
      "[(1.0, 'car'), (0.8933508126024176, 'cat'), (0.4096007629400713, 'bed'), (0.3688258924572303, 'black'), (0.2424362321832659, 'fast')]\n",
      "29 2467.501845387068\n",
      "[(1.0, 'black'), (0.974700695884685, 'blue'), (0.7327551048511036, 'yellow'), (0.7180206036134033, 'red'), (0.6629105042720078, 'green')]\n",
      "[(1.0, 'slow'), (0.8781614604562219, 'hard'), (0.807397482446949, 'soft'), (0.7973622617279659, 'fast'), (0.6257919334211841, 'quite')]\n",
      "[(1.0, 'car'), (0.8975570919816468, 'cat'), (0.41945104804288924, 'bed'), (0.3650915833087081, 'black'), (0.24161836062297903, 'fast')]\n",
      "30 2464.92971855165\n",
      "[(1.0, 'black'), (0.9758370323475675, 'blue'), (0.7370461542088432, 'yellow'), (0.7203762397189104, 'red'), (0.6694423671454716, 'green')]\n",
      "[(1.0, 'slow'), (0.8788228287006518, 'hard'), (0.808488725797414, 'soft'), (0.8003219537893719, 'fast'), (0.6264109693370236, 'quite')]\n",
      "[(1.0, 'car'), (0.9012404968346179, 'cat'), (0.4286811114829904, 'bed'), (0.36162030957789276, 'black'), (0.24064638601209024, 'fast')]\n",
      "31 2462.5301699739503\n",
      "[(1.0, 'black'), (0.9768735912512703, 'blue'), (0.7411086900479686, 'yellow'), (0.7224411779082559, 'red'), (0.6756574947646673, 'green')]\n",
      "[(1.0, 'slow'), (0.8793661365515406, 'hard'), (0.8094081662833704, 'soft'), (0.8029542774060812, 'fast'), (0.6267918285346828, 'quite')]\n",
      "[(1.0, 'car'), (0.9045025253314671, 'cat'), (0.43738322704884586, 'bed'), (0.358358680780977, 'black'), (0.23948171455384304, 'fast')]\n",
      "32 2460.276514126105\n",
      "[(1.0, 'black'), (0.9778203743719971, 'blue'), (0.7449758487693914, 'yellow'), (0.7242532209737377, 'red'), (0.6815780959381258, 'green')]\n",
      "[(1.0, 'slow'), (0.8798013995857275, 'hard'), (0.8101751796299478, 'soft'), (0.8053212787652243, 'fast'), (0.6269365700041538, 'quite')]\n",
      "[(1.0, 'car'), (0.9074299388227816, 'cat'), (0.44563839909215375, 'bed'), (0.3552609127453067, 'black'), (0.238094332073713, 'fast')]\n",
      "33 2458.1459548149373\n",
      "[(1.0, 'black'), (0.9786861584860688, 'blue'), (0.7486761339511248, 'yellow'), (0.7258446754244945, 'red'), (0.687226784819645, 'green')]\n",
      "[(1.0, 'slow'), (0.880138544243705, 'hard'), (0.8108099316294617, 'soft'), (0.807476104799642, 'fast'), (0.6268443005176524, 'quite')]\n",
      "[(1.0, 'car'), (0.9100925687025213, 'cat'), (0.4535168096879453, 'bed'), (0.3522881204855281, 'black'), (0.23646143665082453, 'fast')]\n",
      "34 2456.119305125458\n",
      "[(1.0, 'black'), (0.9794786695694653, 'blue'), (0.7522339174562165, 'yellow'), (0.7272430846515369, 'red'), (0.6926256450547398, 'green')]\n",
      "[(1.0, 'slow'), (0.8803870074660934, 'hard'), (0.8113323104577117, 'soft'), (0.8094634265602523, 'fast'), (0.6265125298221447, 'quite')]\n",
      "[(1.0, 'car'), (0.9125431183430855, 'cat'), (0.4610786182220309, 'bed'), (0.34940736255330224, 'black'), (0.23456639813064248, 'fast')]\n",
      "35 2454.180649892812\n",
      "[(1.0, 'black'), (0.9802047388299914, 'blue'), (0.7556699038862926, 'yellow'), (0.7284719133558407, 'red'), (0.6977956353016868, 'green')]\n",
      "[(1.0, 'slow'), (0.8805555492545312, 'hard'), (0.8117612125234699, 'soft'), (0.8113201936719199, 'fast'), (0.6259382268941219, 'quite')]\n",
      "[(1.0, 'car'), (0.9148182584672372, 'cat'), (0.4683749478047107, 'bed'), (0.34659067101344465, 'black'), (0.23239797529614772, 'fast')]\n",
      "36 2452.3169885130496\n",
      "[(1.0, 'black'), (0.9808704357788881, 'blue'), (0.759001553533714, 'yellow'), (0.7295511638466832, 'red'), (0.7027562466998819, 'green')]\n",
      "[(1.0, 'slow'), (0.8806522040254883, 'hard'), (0.8130765501407369, 'fast'), (0.8121141033972772, 'soft'), (0.6251185983963536, 'quite')]\n",
      "[(1.0, 'car'), (0.9169404771313856, 'cat'), (0.4754489476713442, 'bed'), (0.3438142086777276, 'black'), (0.2452349313406054, 'boat')]\n",
      "37 2450.5178823973556\n",
      "[(1.0, 'black'), (0.9814811773862886, 'blue'), (0.7622434630918863, 'yellow'), (0.7304979173063602, 'red'), (0.7075253386209204, 'green')]\n",
      "[(1.0, 'slow'), (0.8806843145049073, 'hard'), (0.8147567909289327, 'fast'), (0.8124067839690344, 'soft'), (0.6240516282303854, 'quite')]\n",
      "[(1.0, 'car'), (0.9189203107884716, 'cat'), (0.4823368594163771, 'bed'), (0.3410576235227308, 'black'), (0.26575456796981667, 'boat')]\n",
      "38 2448.7751199415566\n",
      "[(1.0, 'black'), (0.9820418148169795, 'blue'), (0.7654077063396842, 'yellow'), (0.7313268010456332, 'red'), (0.7121190956480661, 'green')]\n",
      "[(1.0, 'slow'), (0.880658607871969, 'hard'), (0.8163802814910235, 'fast'), (0.8126533039039257, 'soft'), (0.6227364233916747, 'quite')]\n",
      "[(1.0, 'car'), (0.9207587170428503, 'cat'), (0.4890690412274436, 'bed'), (0.33830361842200324, 'black'), (0.2860020783189159, 'boat')]\n"
     ]
    },
    {
     "name": "stdout",
     "output_type": "stream",
     "text": [
      "39 2447.0824036457702\n",
      "[(1.0, 'black'), (0.9825567006914961, 'blue'), (0.7685041388865602, 'yellow'), (0.7320503872193427, 'red'), (0.7165520635306126, 'green')]\n",
      "[(1.0, 'slow'), (0.8805812870264129, 'hard'), (0.8179622958405542, 'fast'), (0.8128659768571114, 'soft'), (0.621173410211933, 'quite')]\n",
      "[(1.0, 'car'), (0.9224494425335463, 'cat'), (0.49567092149459063, 'bed'), (0.33553771910956887, 'black'), (0.3059141909676227, 'boat')]\n",
      "40 2445.435059175928\n",
      "[(1.0, 'black'), (0.9830297405543987, 'blue'), (0.771540671956823, 'yellow'), (0.7326795304623553, 'red'), (0.7208372338967365, 'green')]\n",
      "[(1.0, 'slow'), (0.880458120067408, 'hard'), (0.8195147526151283, 'fast'), (0.8130554630744775, 'soft'), (0.6193644198955738, 'quite')]\n",
      "[(1.0, 'car'), (0.9239812945585655, 'cat'), (0.5021638639789027, 'bed'), (0.3327482008616001, 'black'), (0.32542179659037257, 'boat')]\n",
      "41 2443.829764277178\n",
      "[(1.0, 'black'), (0.9834644324611019, 'blue'), (0.7745235202523253, 'yellow'), (0.7332236523136183, 'red'), (0.724986156724789, 'green')]\n",
      "[(1.0, 'slow'), (0.8802945185856285, 'hard'), (0.8210468443982984, 'fast'), (0.8132308941749018, 'soft'), (0.6173126954708407, 'quite')]\n",
      "[(1.0, 'car'), (0.9253402525533306, 'cat'), (0.5085659333662396, 'bed'), (0.34445305702652873, 'boat'), (0.3299261215797454, 'black')]\n",
      "42 2442.264295734095\n",
      "[(1.0, 'black'), (0.9838638984531363, 'blue'), (0.7774574283509825, 'yellow'), (0.7336909797999465, 'red'), (0.7290090663195653, 'green')]\n",
      "[(1.0, 'slow'), (0.8800956006165671, 'hard'), (0.8225655650831559, 'fast'), (0.8134000219295204, 'soft'), (0.6150228454224619, 'quite')]\n",
      "[(1.0, 'car'), (0.9265113667690471, 'cat'), (0.5148925543055599, 'bed'), (0.3629366516409576, 'boat'), (0.3270654036801444, 'black')]\n",
      "43 2440.7372940829005\n",
      "[(1.0, 'black'), (0.9842309112733131, 'blue'), (0.7803458790974236, 'yellow'), (0.7340887446453956, 'red'), (0.7329150113056568, 'green')]\n",
      "[(1.0, 'slow'), (0.8798662375505796, 'hard'), (0.8240761451097196, 'fast'), (0.8135693779411222, 'soft'), (0.6125007631682907, 'quite')]\n",
      "[(1.0, 'car'), (0.9274803965411219, 'cat'), (0.5211570603065466, 'bed'), (0.3808049878235649, 'boat'), (0.3241629082741863, 'black')]\n",
      "44 2439.2480475986154\n",
      "[(1.0, 'black'), (0.9845679190527895, 'blue'), (0.7831912862612096, 'yellow'), (0.7367119824254053, 'green'), (0.734423348589687, 'red')]\n",
      "[(1.0, 'slow'), (0.8796110863738061, 'hard'), (0.8255824064731757, 'fast'), (0.8137444346723232, 'soft'), (0.6097535264977443, 'quite')]\n",
      "[(1.0, 'car'), (0.9282351467228199, 'cat'), (0.5273711320580377, 'bed'), (0.39799718050911004, 'boat'), (0.3212184519175322, 'black')]\n",
      "45 2437.7962984572205\n",
      "[(1.0, 'black'), (0.9848770699564354, 'blue'), (0.7859951726037778, 'yellow'), (0.7404070341455014, 'green'), (0.73470049943853, 'red')]\n",
      "[(1.0, 'slow'), (0.8793346096890985, 'hard'), (0.8270870496302086, 'fast'), (0.8139297607130197, 'soft'), (0.6067892871059231, 'quite')]\n",
      "[(1.0, 'car'), (0.9287664721910778, 'cat'), (0.5335451282623784, 'bed'), (0.41446160803288357, 'boat'), (0.31823472801843933, 'black')]\n",
      "46 2436.3820744499985\n",
      "[(1.0, 'black'), (0.9851602379820531, 'blue'), (0.788758333587113, 'yellow'), (0.7440063975817319, 'green'), (0.7349253218192383, 'red')]\n",
      "[(1.0, 'slow'), (0.8790410863361713, 'hard'), (0.8285918836474355, 'fast'), (0.8141291649238984, 'soft'), (0.6036171572793828, 'quite')]\n",
      "[(1.0, 'car'), (0.9290689375592871, 'cat'), (0.5396883159574942, 'bed'), (0.4301578804531383, 'boat'), (0.3152171106709064, 'black')]\n",
      "47 2435.0055490808377\n",
      "[(1.0, 'black'), (0.9854190503567293, 'blue'), (0.791480986381486, 'yellow'), (0.747515583304396, 'green'), (0.7351024461821858, 'red')]\n",
      "[(1.0, 'slow'), (0.8787346153358918, 'hard'), (0.830098009688568, 'fast'), (0.8143458254739641, 'soft'), (0.6002470984149427, 'quite')]\n",
      "[(1.0, 'car'), (0.9291411404758737, 'cat'), (0.5458090111797608, 'bed'), (0.4450581082210777, 'boat'), (0.31217333637757877, 'black')]\n",
      "48 2433.666931497153\n",
      "[(1.0, 'black'), (0.985654916336102, 'blue'), (0.7941629036098224, 'yellow'), (0.7509394733615354, 'green'), (0.735236079321043, 'red')]\n",
      "[(1.0, 'slow'), (0.8784191155158503, 'hard'), (0.8316059665630314, 'fast'), (0.814582401034031, 'soft'), (0.5966898141975797, 'quite')]\n",
      "[(1.0, 'car'), (0.9289857287033005, 'cat'), (0.5519146441965843, 'bed'), (0.45914742545194703, 'boat'), (0.3091130764875909, 'black')]\n",
      "49 2432.3663858820887\n",
      "[(1.0, 'black'), (0.9858690567459752, 'blue'), (0.7968035313536798, 'yellow'), (0.7542824024553468, 'green'), (0.7353300595034519, 'red')]\n",
      "[(1.0, 'slow'), (0.8780983226803464, 'hard'), (0.8331158457411325, 'fast'), (0.8148411226130713, 'soft'), (0.5929566497948109, 'quite')]\n",
      "[(1.0, 'car'), (0.9286091598058557, 'cat'), (0.5580117659084824, 'bed'), (0.47242379188407924, 'boat'), (0.3060474277311183, 'black')]\n",
      "50 2431.1039781153777\n",
      "[(1.0, 'black'), (0.9860625333376533, 'blue'), (0.799402091246192, 'yellow'), (0.7575482286767119, 'green'), (0.7353878991300573, 'red')]\n",
      "[(1.0, 'slow'), (0.8777757856747642, 'hard'), (0.8346273820575744, 'fast'), (0.8151238657496699, 'soft'), (0.5890594972687372, 'quite')]\n",
      "[(1.0, 'car'), (0.9280212647797902, 'cat'), (0.5641060130510902, 'bed'), (0.4848971596855345, 'boat'), (0.3029883579752868, 'black')]\n",
      "51 2429.8796460566405\n",
      "[(1.0, 'black'), (0.9862362769539849, 'blue'), (0.8019576668830201, 'yellow'), (0.7607403945583204, 'green'), (0.7354128176165599, 'red')]\n",
      "[(1.0, 'slow'), (0.8774548622321866, 'hard'), (0.8361400252916821, 'fast'), (0.8154322039431585, 'soft'), (0.5850107065360284, 'quite')]\n",
      "[(1.0, 'car'), (0.9272346818899444, 'cat'), (0.5702020494304215, 'bed'), (0.4965881369100481, 'boat'), (0.29994814816862103, 'black')]\n",
      "52 2428.693188921338\n",
      "[(1.0, 'black'), (0.9863911135906329, 'blue'), (0.8044692751991877, 'yellow'), (0.7638619794491208, 'green'), (0.7354077668962031, 'red')]\n",
      "[(1.0, 'slow'), (0.8771387151169724, 'hard'), (0.8376529969147354, 'fast'), (0.815767445237391, 'soft'), (0.5808230006201297, 'quite')]\n",
      "[(1.0, 'car'), (0.9262642245320334, 'cat'), (0.5763034987613281, 'bed'), (0.507526304112256, 'boat'), (0.29693886943231534, 'black')]\n",
      "53 2427.54427093853\n",
      "[(1.0, 'black'), (0.9865277876376025, 'blue'), (0.8069359238217565, 'yellow'), (0.7669157443432049, 'green'), (0.7353754515762677, 'red')]\n",
      "[(1.0, 'slow'), (0.8768303088082382, 'hard'), (0.8391653355102752, 'fast'), (0.8161306546626154, 'soft'), (0.5765093936427175, 'quite')]\n",
      "[(1.0, 'car'), (0.9251262386311622, 'cat'), (0.5824128820926538, 'bed'), (0.5177483443487376, 'boat'), (0.2939719274741523, 'black')]\n",
      "54 2426.432434705451\n",
      "[(1.0, 'black'), (0.9866469818452102, 'blue'), (0.809356655680603, 'yellow'), (0.7699041703240015, 'green'), (0.7353183453815281, 'red')]\n",
      "[(1.0, 'slow'), (0.8765324067904066, 'hard'), (0.8406759336843717, 'fast'), (0.8165226657332149, 'soft'), (0.5720831099833591, 'quite')]\n",
      "[(1.0, 'car'), (0.923837993139838, 'cat'), (0.5885315697173935, 'bed'), (0.5272961330222875, 'boat'), (0.2910576966912039, 'black')]\n",
      "55 2425.3571202264775\n",
      "[(1.0, 'black'), (0.9867493338271562, 'blue'), (0.8117305823321486, 'yellow'), (0.7728294917281567, 'green'), (0.7352387051191196, 'red')]\n",
      "[(1.0, 'slow'), (0.8762475694226624, 'hard'), (0.8421835686796039, 'fast'), (0.8169440843700609, 'soft'), (0.5675575032649364, 'quite')]\n",
      "[(1.0, 'car'), (0.922417133925336, 'cat'), (0.5946597542898078, 'bed'), (0.5362149083205974, 'boat'), (0.28820525543511494, 'black')]\n",
      "56 2424.317686377957\n",
      "[(1.0, 'black'), (0.9868354491536893, 'blue'), (0.8140569075299376, 'yellow'), (0.7756937250168627, 'green'), (0.7351385830384334, 'red')]\n",
      "[(1.0, 'slow'), (0.8759781523249693, 'hard'), (0.8436869283851354, 'fast'), (0.8173952884891529, 'soft'), (0.5629459742415402, 'quite')]\n",
      "[(1.0, 'car'), (0.9208812186652289, 'cat'), (0.6007964489257929, 'bed'), (0.5445516113690885, 'boat'), (0.28542222365708025, 'black')]\n",
      "57 2423.313432338467\n",
      "[(1.0, 'black'), (0.9869059112771511, 'blue'), (0.8163349425758566, 'yellow'), (0.7784986941911077, 'green'), (0.7350198381609799, 'red')]\n",
      "[(1.0, 'slow'), (0.8757263052259359, 'hard'), (0.8451846339943574, 'fast'), (0.8178764261311168, 'soft'), (0.5582618872023026, 'quite')]\n",
      "[(1.0, 'car'), (0.919247339602609, 'cat'), (0.6069395115534132, 'bed'), (0.5523534529205236, 'boat'), (0.2827146957464995, 'black')]\n",
      "58 2422.3436172744496\n",
      "[(1.0, 'black'), (0.9869612886613347, 'blue'), (0.8185641149236659, 'yellow'), (0.7812460534241508, 'green'), (0.734884146929122, 'red')]\n",
      "[(1.0, 'slow'), (0.8754939712504384, 'hard'), (0.8466752601990104, 'fast'), (0.818387414476262, 'soft'), (0.5535184850799434, 'quite')]\n",
      "[(1.0, 'car'), (0.9175318327923289, 'cat'), (0.6130856947996437, 'bed'), (0.5596667342742355, 'boat'), (0.28008725545283686, 'black')]\n"
     ]
    },
    {
     "name": "stdout",
     "output_type": "stream",
     "text": [
      "59 2421.4074772212234\n",
      "[(1.0, 'black'), (0.9870021395567539, 'blue'), (0.8207439713993813, 'yellow'), (0.78393730742721, 'green'), (0.7347330133673399, 'red')]\n",
      "[(1.0, 'slow'), (0.8752828866686732, 'hard'), (0.848157353519796, 'fast'), (0.8189279414780526, 'soft'), (0.5487288039931084, 'quite')]\n",
      "[(1.0, 'car'), (0.9157500668927478, 'cat'), (0.6192307192501065, 'bed'), (0.5665359263949067, 'boat'), (0.2775430564257161, 'black')]\n",
      "60 2420.50423862855\n",
      "[(1.0, 'black'), (0.9870290148847191, 'blue'), (0.8228741772663025, 'yellow'), (0.7865738299248013, 'green'), (0.7345677788547076, 'red')]\n",
      "[(1.0, 'slow'), (0.8750945811724076, 'hard'), (0.8496294491509623, 'fast'), (0.8194974712260712, 'soft'), (0.5439055883980406, 'quite')]\n",
      "[(1.0, 'car'), (0.9139163013482309, 'cat'), (0.6253693669470449, 'bed'), (0.5730029937205466, 'boat'), (0.27508395082824433, 'black')]\n",
      "61 2419.6331284472003\n",
      "[(1.0, 'black'), (0.9870424596759124, 'blue'), (0.8249545122095633, 'yellow'), (0.7891568805009261, 'green'), (0.7343896315578985, 'red')]\n",
      "[(1.0, 'slow'), (0.8749303787807924, 'hard'), (0.851090086531167, 'fast'), (0.8200952535737444, 'soft'), (0.539061208339291, 'quite')]\n",
      "[(1.0, 'car'), (0.9120436024931778, 'cat'), (0.6314955914156297, 'bed'), (0.5791069377111735, 'boat'), (0.27271064916324533, 'black')]\n",
      "62 2418.7933809279984\n",
      "[(1.0, 'black'), (0.987043013466362, 'blue'), (0.8269848641569836, 'yellow'), (0.7916876199885129, 'green'), (0.7341996155549942, 'red')]\n",
      "[(1.0, 'slow'), (0.8747913995017903, 'hard'), (0.8525378237354861, 'fast'), (0.82072033807367, 'soft'), (0.5342075804542825, 'quite')]\n",
      "[(1.0, 'car'), (0.910143806159822, 'cat'), (0.6376026402436777, 'bed'), (0.5848835289593209, 'boat'), (0.2704228963277756, 'black')]\n",
      "63 2417.9842415030885\n",
      "[(1.0, 'black'), (0.9870312099963517, 'blue'), (0.8289652216983345, 'yellow'), (0.7941671245111771, 'green'), (0.7339986396783794, 'red')]\n",
      "[(1.0, 'slow'), (0.8746785618832935, 'hard'), (0.8539712507047236, 'fast'), (0.8213715918741855, 'soft'), (0.5293560944053529, 'quite')]\n",
      "[(1.0, 'car'), (0.908227516297664, 'cat'), (0.6436831862067329, 'bed'), (0.5903651945382874, 'boat'), (0.26821965144712073, 'black')]\n",
      "64 2417.2049682362713\n",
      "[(1.0, 'black'), (0.9870075764947288, 'blue'), (0.8308956657200054, 'yellow'), (0.7965963982453753, 'green'), (0.7337874861099152, 'red')]\n",
      "[(1.0, 'slow'), (0.874592586579747, 'hard'), (0.8553890012801418, 'fast'), (0.8220477209504008, 'soft'), (0.5245175463032581, 'quite')]\n",
      "[(1.0, 'car'), (0.9063041305073699, 'cat'), (0.6497294630651366, 'bed'), (0.5955810280454924, 'boat'), (0.2660992618058908, 'black')]\n",
      "65 2416.454831382085\n",
      "[(1.0, 'black'), (0.9869726327686594, 'blue'), (0.8327763607404188, 'yellow'), (0.798976384948269, 'green'), (0.7335668187666117, 'red')]\n",
      "[(1.0, 'slow'), (0.8745340010369508, 'hard'), (0.8567897639876807, 'fast'), (0.8227472938662684, 'soft'), (0.5197020804751817, 'quite')]\n",
      "[(1.0, 'car'), (0.9043818849545007, 'cat'), (0.6557334024126615, 'bed'), (0.600556892466702, 'boat'), (0.2640596238823045, 'black')]\n",
      "66 2415.7331115962347\n",
      "[(1.0, 'black'), (0.9869268902613426, 'blue'), (0.8346075463154011, 'yellow'), (0.8013079782875527, 'green'), (0.7333371915164947, 'red')]\n",
      "[(1.0, 'slow'), (0.8745031453626951, 'hard'), (0.8581722915100538, 'fast'), (0.8234687671795806, 'soft'), (0.5149191406494348, 'quite')]\n",
      "[(1.0, 'car'), (0.9024679126551243, 'cat'), (0.6616867682908038, 'bed'), (0.6053155896967851, 'boat'), (0.26209832690799434, 'black')]\n",
      "67 2415.0390973060826\n",
      "[(1.0, 'black'), (0.986870851189855, 'blue'), (0.8363895287826573, 'yellow'), (0.8035920310098186, 'green'), (0.7330990562608615, 'red')]\n",
      "[(1.0, 'slow'), (0.8745001794078835, 'hard'), (0.8595354087931701, 'fast'), (0.8242105115935068, 'soft'), (0.5101774313089321, 'quite')]\n",
      "[(1.0, 'car'), (0.9005683104951302, 'cat'), (0.6675812866716913, 'bed'), (0.6098770746712869, 'boat'), (0.2602127764190216, 'black')]\n",
      "68 2414.3720816915124\n",
      "[(1.0, 'black'), (0.9868050078332417, 'blue'), (0.8381226735301671, 'yellow'), (0.8058293629899475, 'green'), (0.7328527709109631, 'red')]\n",
      "[(1.0, 'slow'), (0.8745250910362113, 'hard'), (0.8608780197511361, 'fast'), (0.8249708380094173, 'soft'), (0.5054848896335015, 'quite')]\n",
      "[(1.0, 'car'), (0.8986882114995568, 'cat'), (0.6734087673354197, 'bed'), (0.6142586961544387, 'boat'), (0.25840029690241295, 'black')]\n",
      "69 2413.7313596525078\n",
      "[(1.0, 'black'), (0.9867298420072295, 'blue'), (0.8398073979036286, 'yellow'), (0.8080207682125404, 'green'), (0.7325986072754763, 'red')]\n",
      "[(1.0, 'slow'), (0.8745777055145141, 'hard'), (0.8621991125582044, 'fast'), (0.8257480227296358, 'soft'), (0.5008486681288853, 'quite')]\n",
      "[(1.0, 'car'), (0.8968318597929905, 'cat'), (0.6791612161083251, 'bed'), (0.6184754500212267, 'boat'), (0.2566582138896872, 'black')]\n",
      "70 2413.116225059215\n",
      "[(1.0, 'black'), (0.9866458247360712, 'blue'), (0.8414441648117895, 'yellow'), (0.8101670207452395, 'green'), (0.7323367588616129, 'red')]\n",
      "[(1.0, 'slow'), (0.8746576959141611, 'hard'), (0.8634977635434061, 'fast'), (0.8265403311799727, 'soft'), (0.49627512774392557, 'quite')]\n",
      "[(1.0, 'car'), (0.8950026864004373, 'cat'), (0.6848309358740303, 'bed'), (0.6225402342175091, 'boat'), (0.25498391674399173, 'black')]\n",
      "71 2412.525968498348\n",
      "[(1.0, 'black'), (0.9865534161131726, 'blue'), (0.8430334770441583, 'yellow'), (0.8122688797715483, 'green'), (0.7320673485789388, 'red')]\n",
      "[(1.0, 'slow'), (0.8747645943791377, 'hard'), (0.8647731397316513, 'fast'), (0.8273460396570919, 'soft'), (0.4917698410172759, 'quite')]\n",
      "[(1.0, 'car'), (0.8932033845587596, 'cat'), (0.6904106152074814, 'bed'), (0.6264640974263298, 'boat'), (0.2533749039821645, 'black')]\n",
      "72 2411.959875653594\n",
      "[(1.0, 'black'), (0.9864530653293587, 'blue'), (0.8445758722817931, 'yellow'), (0.8143270937565825, 'green'), (0.7317904363224363, 'red')]\n",
      "[(1.0, 'slow'), (0.8748978040903903, 'hard'), (0.8660245001016059, 'fast'), (0.82816345474386, 'soft'), (0.48733760457678216, 'quite')]\n",
      "[(1.0, 'car'), (0.8914359835771665, 'cat'), (0.695893403903402, 'bed'), (0.6302564758131538, 'boat'), (0.2518288133216878, 'black')]\n",
      "73 2411.4172263878722\n",
      "[(1.0, 'black'), (0.9863452108398476, 'blue'), (0.8460719187572704, 'yellow'), (0.8163424038227615, 'green'), (0.7315060264010207, 'red')]\n",
      "[(1.0, 'slow'), (0.8750566117394313, 'hard'), (0.8672511956539993, 'fast'), (0.8289909301681899, 'soft'), (0.4829824601405801, 'quite')]\n",
      "[(1.0, 'car'), (0.8897019205372698, 'cat'), (0.7012729750655802, 'bed'), (0.6339254141056839, 'boat'), (0.25034343879688814, 'black')]\n",
      "74 2410.897294537263\n",
      "[(1.0, 'black'), (0.9862302806372507, 'blue'), (0.8475222115032992, 'yellow'), (0.8183155464138882, 'green'), (0.731214074770385, 'red')]\n",
      "[(1.0, 'slow'), (0.8752402003168863, 'hard'), (0.8684526684029332, 'fast'), (0.8298268810012791, 'soft'), (0.47870772303859244, 'quite')]\n",
      "[(1.0, 'car'), (0.888002109291643, 'cat'), (0.7065435737842272, 'bed'), (0.6374777687409826, 'boat'), (0.2489167372952192, 'black')]\n",
      "75 2410.3993483790086\n",
      "[(1.0, 'black'), (0.9861086925972842, 'blue'), (0.8489273691195279, 'yellow'), (0.8202472553255425, 'green'), (0.730914496024909, 'red')]\n",
      "[(1.0, 'slow'), (0.8754476620229268, 'hard'), (0.8696284494166264, 'fast'), (0.8306697951954004, 'soft'), (0.4745160171844464, 'quite')]\n",
      "[(1.0, 'car'), (0.8863370063325727, 'cat'), (0.7117000527488364, 'bed'), (0.6409193919457767, 'boat'), (0.24754682676286055, 'black')]\n",
      "76 2409.922651700774\n",
      "[(1.0, 'black'), (0.9859808548655339, 'blue'), (0.850288030982798, 'yellow'), (0.8221382631776659, 'green'), (0.730607170102434, 'red')]\n",
      "[(1.0, 'slow'), (0.8756780111150344, 'hard'), (0.8707781560424991, 'fast'), (0.8315182425473951, 'soft'), (0.4704093153779141, 'quite')]\n",
      "[(1.0, 'car'), (0.8847066731816335, 'cat'), (0.7167378954185221, 'bed'), (0.6442552964655128, 'boat'), (0.24623197815243683, 'black')]\n",
      "77 2409.4664653745926\n",
      "[(1.0, 'black'), (0.9858471662568653, 'blue'), (0.8516048548263182, 'yellow'), (0.823989302402012, 'green'), (0.7302919486576847, 'red')]\n",
      "[(1.0, 'slow'), (0.875930196522855, 'hard'), (0.8719014884547861, 'fast'), (0.8323708812410415, 'soft'), (0.4663889838032077, 'quite')]\n",
      "[(1.0, 'car'), (0.8831108350121334, 'cat'), (0.7216532275975266, 'bed'), (0.6474898012789571, 'boat'), (0.24497060296165885, 'black')]\n",
      "78 2409.030049325477\n",
      "[(1.0, 'black'), (0.9857080166433059, 'blue'), (0.8528785146169637, 'yellow'), (0.8258011058130925, 'green'), (0.7299686610645104, 'red')]\n",
      "[(1.0, 'slow'), (0.8762031140784422, 'hard'), (0.8729982256614109, 'fast'), (0.8332264621701794, 'soft'), (0.46245582960501447, 'quite')]\n",
      "[(1.0, 'car'), (0.881548935271248, 'cat'), (0.7264428184389947, 'bed'), (0.6506266590753484, 'boat'), (0.24376123796188262, 'black')]\n",
      "79 2408.6126647800666\n",
      "[(1.0, 'black'), (0.9855637873109473, 'blue'), (0.8541096986661808, 'yellow'), (0.8275744068267205, 'green'), (0.7296371200133982, 'red')]\n",
      "[(1.0, 'slow'), (0.8764956182314578, 'hard'), (0.8740682211012766, 'fast'), (0.8340838312763152, 'soft'), (0.45861015046790476, 'quite')]\n",
      "[(1.0, 'car'), (0.880020186123213, 'cat'), (0.7311040720256465, 'bed'), (0.6536691665699679, 'boat'), (0.24260252845713481, 'black')]\n"
     ]
    },
    {
     "name": "stdout",
     "output_type": "stream",
     "text": [
      "80 2408.2135766837687\n",
      "[(1.0, 'black'), (0.9854148512712754, 'blue'), (0.8552991079179565, 'yellow'), (0.8293099393854022, 'green'), (0.7292971266782381, 'red')]\n",
      "[(1.0, 'slow'), (0.8768065331415691, 'hard'), (0.8751113979543328, 'fast'), (0.8349419301515192, 'soft'), (0.45485178519148356, 'quite')]\n",
      "[(1.0, 'car'), (0.8785236145922348, 'cat'), (0.7356350107537116, 'bed'), (0.656620258923684, 'boat'), (0.24149321116016956, 'black')]\n",
      "81 2407.8320561830847\n",
      "[(1.0, 'black'), (0.9852615735169723, 'blue'), (0.8564474543662007, 'yellow'), (0.8310084376448683, 'green'), (0.7289484754345525, 'red')]\n",
      "[(1.0, 'slow'), (0.8771346630632108, 'hard'), (0.8761277442755065, 'fast'), (0.8357997951621013, 'soft'), (0.4511801643389558, 'quite')]\n",
      "[(1.0, 'car'), (0.8770581043441031, 'cat'), (0.7400342517800104, 'bed'), (0.6594825896382437, 'boat'), (0.2404320975323036, 'black')]\n",
      "82 2407.4673830822285\n",
      "[(1.0, 'black'), (0.9851043112165103, 'blue'), (0.8575554595630774, 'yellow'), (0.8326706354710252, 'green'), (0.7285909581197776, 'red')]\n",
      "[(1.0, 'slow'), (0.8774788019601545, 'hard'), (0.8771173080507738, 'fast'), (0.8366565553433329, 'soft'), (0.4475943601362667, 'quite')]\n",
      "[(1.0, 'car'), (0.8756224331075297, 'cat'), (0.7443009777862044, 'bed'), (0.6622585973421471, 'boat'), (0.23941805821484594, 'black')]\n",
      "83 2407.1188481977083\n",
      "[(1.0, 'black'), (0.9849434138455962, 'blue'), (0.8586238531887618, 'yellow'), (0.8342972657916912, 'green'), (0.7282243678342919, 'red')]\n",
      "[(1.0, 'slow'), (0.8780801922600088, 'fast'), (0.8778377423082679, 'hard'), (0.8375114293027391, 'soft'), (0.4440931349081254, 'quite')]\n",
      "[(1.0, 'car'), (0.874215305797705, 'cat'), (0.7484349032746253, 'bed'), (0.6649505608776773, 'boat'), (0.2384500089862264, 'black')]\n",
      "84 2406.78575555027\n",
      "[(1.0, 'black'), (0.984779223256658, 'blue'), (0.8596533716613931, 'yellow'), (0.8358890598426099, 'green'), (0.7278485022893808, 'red')]\n",
      "[(1.0, 'slow'), (0.8790165500174629, 'fast'), (0.8782102830639432, 'hard'), (0.8383637213514304, 'soft'), (0.4406749874518033, 'quite')]\n",
      "[(1.0, 'car'), (0.8728353834629033, 'cat'), (0.7524362375429658, 'bed'), (0.6675606440605671, 'boat'), (0.23752689851262962, 'black')]\n",
      "85 2406.4674243491186\n",
      "[(1.0, 'black'), (0.9846120736900711, 'blue'), (0.8606447567733777, 'yellow'), (0.8374467463425526, 'green'), (0.7274631667149252, 'red')]\n",
      "[(1.0, 'slow'), (0.879926579847359, 'fast'), (0.878595236792648, 'hard'), (0.8392128170614975, 'soft'), (0.437338196865478, 'quite')]\n",
      "[(1.0, 'car'), (0.8714813082277475, 'cat'), (0.7563056453967549, 'bed'), (0.6700909314195997, 'boat'), (0.23664769802165664, 'black')]\n",
      "86 2406.1631907377973\n",
      "[(1.0, 'black'), (0.9844422917327392, 'blue'), (0.8615987543464834, 'yellow'), (0.8389710506277742, 'green'), (0.7270681763452158, 'red')]\n",
      "[(1.0, 'slow'), (0.8808105211395174, 'fast'), (0.8789914359667107, 'hard'), (0.8400581784242915, 'soft'), (0.4340808634614598, 'quite')]\n",
      "[(1.0, 'car'), (0.8701517244520199, 'cat'), (0.7600442065552071, 'bed'), (0.6725434561418857, 'boat'), (0.23581139291747907, 'black')]\n",
      "87 2405.8724092845237\n",
      "[(1.0, 'black'), (0.984270196230951, 'blue'), (0.8625161129032968, 'yellow'), (0.8404626937717478, 'green'), (0.7266633585057723, 'red')]\n",
      "[(1.0, 'slow'), (0.8816686498185068, 'fast'), (0.8793977384537718, 'hard'), (0.8408993387607177, 'soft'), (0.4309009465026537, 'quite')]\n",
      "[(1.0, 'car'), (0.8688452963603172, 'cat'), (0.7636533745934247, 'bed'), (0.6749202213567703, 'boat'), (0.23501697627039267, 'black')]\n",
      "88 2405.594454210624\n",
      "[(1.0, 'black'), (0.9840960981652687, 'blue'), (0.8633975823565859, 'yellow'), (0.8419223917119952, 'green'), (0.7262485543274574, 'red')]\n",
      "[(1.0, 'slow'), (0.8825012742496539, 'fast'), (0.879813032227358, 'hard'), (0.8417358975115234, 'soft'), (0.4277962986005417, 'quite')]\n",
      "[(1.0, 'car'), (0.8675607224247042, 'cat'), (0.7671349361472555, 'bed'), (0.6772232157921207, 'boat'), (0.2342634440511927, 'black')]\n",
      "89 2405.3287203603254\n",
      "[(1.0, 'black'), (0.9839203004955804, 'blue'), (0.8642439127209783, 'yellow'), (0.8433508544019749, 'green'), (0.725823620116509, 'red')]\n",
      "[(1.0, 'slow'), (0.8833087313964905, 'fast'), (0.8802362393388818, 'hard'), (0.8425675150136523, 'soft'), (0.424764696702823, 'quite')]\n",
      "[(1.0, 'car'), (0.8662967467997783, 'cat'), (0.7704909709907166, 'bed'), (0.6794544247350542, 'boat'), (0.23354979193848655, 'black')]\n",
      "90 2405.074623922259\n",
      "[(1.0, 'black'), (0.98374309798446, 'blue'), (0.8650558528532709, 'yellow'), (0.8447487850024069, 'green'), (0.7253884284105027, 'red')]\n",
      "[(1.0, 'slow'), (0.8840913832368389, 'fast'), (0.8806663191962171, 'hard'), (0.843393907348554, 'soft'), (0.4218038696773293, 'quite')]\n",
      "[(1.0, 'car'), (0.8650521681176634, 'cat'), (0.7737238134834441, 'bed'), (0.6816158371279809, 'boat'), (0.23287501350191733, 'black')]\n",
      "91 2404.8316029183657\n",
      "[(1.0, 'black'), (0.9835647770067123, 'blue'), (0.8658341492287082, 'yellow'), (0.8461168791231525, 'green'), (0.7249428687507657, 'red')]\n",
      "[(1.0, 'slow'), (0.884849613438692, 'fast'), (0.8811022711980273, 'hard'), (0.8442148413301803, 'soft'), (0.4189115225652451, 'quite')]\n",
      "[(1.0, 'car'), (0.8638258459503111, 'cat'), (0.7768360157798329, 'bed'), (0.6837094495325488, 'boat'), (0.23223809955317984, 'black')]\n",
      "92 2404.5991174797396\n",
      "[(1.0, 'black'), (0.9833856153524748, 'blue'), (0.8665795447609148, 'yellow'), (0.8474558241238203, 'green'), (0.7244868482015786, 'red')]\n",
      "[(1.0, 'slow'), (0.8855838242922379, 'fast'), (0.8815431367754721, 'hard'), (0.8450301296843782, 'soft'), (0.4160853576308532, 'quite')]\n",
      "[(1.0, 'car'), (0.8626167052392067, 'cat'), (0.7798303130944279, 'bed'), (0.6857372676004388, 'boat'), (0.23163803845672995, 'black')]\n",
      "93 2404.376649930984\n",
      "[(1.0, 'black'), (0.9832058820306188, 'blue'), (0.8672927776729409, 'yellow'), (0.8487662984786468, 'green'), (0.7240202916456878, 'red')]\n",
      "[(1.0, 'slow'), (0.8862944338906832, 'fast'), (0.8819880008939928, 'hard'), (0.8458396264575333, 'soft'), (0.41332309237736425, 'quite')]\n",
      "[(1.0, 'car'), (0.8614237389795241, 'cat'), (0.7827095912309939, 'bed'), (0.687701305602255, 'boat'), (0.23107381720052694, 'black')]\n",
      "94 2404.163704705898\n",
      "[(1.0, 'black'), (0.983025837078418, 'blue'), (0.8679745804262345, 'yellow'), (0.8500489712089327, 'green'), (0.7235431418843908, 'red')]\n",
      "[(1.0, 'slow'), (0.8869818735498094, 'fast'), (0.882435993067804, 'hard'), (0.8466432226805278, 'soft'), (0.4106224747295547, 'quite')]\n",
      "[(1.0, 'car'), (0.8602460094282355, 'cat'), (0.7854768565061919, 'bed'), (0.6896035844848374, 'boat'), (0.23054442304154835, 'black')]\n",
      "95 2403.9598081171375\n",
      "[(1.0, 'black'), (0.9828457313826738, 'blue'), (0.8686256787134378, 'yellow'), (0.8513045013843645, 'green'), (0.7230553595688304, 'red')]\n",
      "[(1.0, 'slow'), (0.8876465854543046, 'fast'), (0.8828862879387097, 'hard'), (0.8474408423042337, 'soft'), (0.407981295604957, 'quite')]\n",
      "[(1.0, 'car'), (0.8590826480849757, 'cat'), (0.7881352081330807, 'bed'), (0.6914461288536679, 'boat'), (0.23004884555916316, 'black')]\n",
      "96 2403.7645080020047\n",
      "[(1.0, 'black'), (0.9826658065166551, 'blue'), (0.8692467905197923, 'yellow'), (0.8525335376929184, 'green'), (0.7225569229872749, 'red')]\n",
      "[(1.0, 'slow'), (0.888289020517713, 'fast'), (0.8833381054690991, 'hard'), (0.8482324384146883, 'soft'), (0.405397399107432, 'quite')]\n",
      "[(1.0, 'car'), (0.8579328546717842, 'cat'), (0.7906878130745011, 'bed'), (0.6932309632108568, 'boat'), (0.22958607896995342, 'black')]\n",
      "97 2403.5773732652515\n",
      "[(1.0, 'black'), (0.982486294596407, 'blue'), (0.8698386252567544, 'yellow'), (0.8537367180777232, 'green'), (0.7220478277311516, 'red')]\n",
      "[(1.0, 'slow'), (0.8889096364422079, 'fast'), (0.8837907107966692, 'hard'), (0.8490179897295971, 'soft'), (0.40286869058132013, 'quite')]\n",
      "[(1.0, 'car'), (0.8567958953142251, 'cat'), (0.7931378833312402, 'bed'), (0.6949601077204257, 'boat'), (0.22915512457891743, 'black')]\n",
      "98 2403.397993338262\n",
      "[(1.0, 'black'), (0.9823074181592263, 'blue'), (0.8704018829702183, 'yellow'), (0.8549146694382131, 'green'), (0.7215280862605111, 'red')]\n",
      "[(1.0, 'slow'), (0.8895088959641954, 'fast'), (0.8842434137956703, 'hard'), (0.8497974973726905, 'soft'), (0.4003931427624347, 'quite')]\n",
      "[(1.0, 'car'), (0.8556711001026828, 'cat'), (0.7954886555939003, 'bed'), (0.6966355737210198, 'boat'), (0.228754993263055, 'black')]\n"
     ]
    },
    {
     "name": "stdout",
     "output_type": "stream",
     "text": [
      "99 2403.2259775721222\n",
      "[(1.0, 'black'), (0.9821293900663808, 'blue'), (0.870937253624594, 'yellow'), (0.8560680073921026, 'green'), (0.720997727387519, 'red')]\n",
      "[(1.0, 'slow'), (0.8900872652719088, 'fast'), (0.8846955683864671, 'hard'), (0.8505709819185356, 'soft'), (0.3979688002551062, 'quite')]\n",
      "[(1.0, 'car'), (0.8545578601895444, 'cat'), (0.7977433731597632, 'bed'), (0.6982593591613971, 'boat'), (0.228384707903377, 'black')]\n"
     ]
    }
   ],
   "source": [
    "from scratch.deep_learning import SoftmaxCrossEntropy, Momentum, GradientDescent\n",
    "\n",
    "loss = SoftmaxCrossEntropy()\n",
    "optimizer = GradientDescent(learning_rate=0.01)\n",
    "\n",
    "for epoch in range(100):\n",
    "    epoch_loss = 0.0\n",
    "    for input, target in zip(inputs, targets):\n",
    "        predicted = model.forward(input)\n",
    "        epoch_loss += loss.loss(predicted, target)\n",
    "        gradient = loss.gradient(predicted, target)\n",
    "        model.backward(gradient)\n",
    "        optimizer.step(model)\n",
    "    print(epoch, epoch_loss)            # Print the loss\n",
    "    print(embedding.closest(\"black\"))   # and also a few nearest words\n",
    "    print(embedding.closest(\"slow\"))    # so we can see what's being\n",
    "    print(embedding.closest(\"car\"))     # learned."
   ]
  },
  {
   "cell_type": "code",
   "execution_count": 65,
   "metadata": {},
   "outputs": [
    {
     "name": "stdout",
     "output_type": "stream",
     "text": [
      "[(0.9948304450324577, 'bed', 'cat'), (0.9920899253848237, 'seems', 'was'), (0.9883988811665564, 'bed', 'boat'), (0.9821293900663808, 'black', 'blue'), (0.9709525703302306, 'green', 'red')]\n"
     ]
    }
   ],
   "source": [
    "pairs = [(cosine_similarity(embedding[w1], embedding[w2]), w1, w2)\n",
    "         for w1 in vocab.w2i\n",
    "         for w2 in vocab.w2i\n",
    "         if w1 < w2]\n",
    "pairs.sort(reverse=True)\n",
    "print(pairs[:5])"
   ]
  },
  {
   "cell_type": "code",
   "execution_count": 72,
   "metadata": {},
   "outputs": [],
   "source": [
    "# ???\n",
    "# from scratch.working_with_data import pca, transform\n",
    "# import matplotlib.pyplot as plt\n",
    "\n",
    "# # Extract the first two principal components and transform the word vectors\n",
    "# components = pca(embedding.embeddings, 2)\n",
    "# transformed = transform(embedding.embeddings, components)\n",
    "\n",
    "# # Scatter the points (and make them white so they're \"invisible\")\n",
    "# fig, ax = plt.subplots()\n",
    "# ax.scatter(*zip(*transformed), marker='.', color='w')\n",
    "\n",
    "# # Add annotations for each word at its transformed location\n",
    "# for word, idx in vocab.w2i.items():\n",
    "#     ax.annotate(word, transformed[idx])\n",
    "\n",
    "# # And hide the axes\n",
    "# ax.get_xaxis().set_visible(False)\n",
    "# ax.get_yaxis().set_visible(False)\n",
    "\n",
    "# plt.show()"
   ]
  },
  {
   "cell_type": "markdown",
   "metadata": {},
   "source": [
    "### Recurrent Neural Networks"
   ]
  },
  {
   "cell_type": "code",
   "execution_count": 76,
   "metadata": {},
   "outputs": [],
   "source": [
    "from scratch.deep_learning import tensor_apply, tanh\n",
    "\n",
    "class SimpleRnn(Layer):\n",
    "    \"\"\"Just about the simplest possible recurrent layer.\"\"\"\n",
    "    def __init__(self, input_dim: int, hidden_dim: int) -> None:\n",
    "        self.input_dim = input_dim\n",
    "        self.hidden_dim = hidden_dim\n",
    "\n",
    "        self.w = random_tensor(hidden_dim, input_dim, init='xavier')\n",
    "        self.u = random_tensor(hidden_dim, hidden_dim, init='xavier')\n",
    "        self.b = random_tensor(hidden_dim)\n",
    "\n",
    "        self.reset_hidden_state()\n",
    "\n",
    "    def reset_hidden_state(self) -> None:\n",
    "        self.hidden = [0 for _ in range(self.hidden_dim)]\n",
    "        \n",
    "    def forward(self, input: Tensor) -> Tensor:\n",
    "        self.input = input              # Save both input and previous\n",
    "        self.prev_hidden = self.hidden  # hidden state to use in backprop.\n",
    "\n",
    "        a = [(dot(self.w[h], input) +           # weights @ input\n",
    "              dot(self.u[h], self.hidden) +     # weights @ hidden\n",
    "              self.b[h])                        # bias\n",
    "             for h in range(self.hidden_dim)]\n",
    "\n",
    "        self.hidden = tensor_apply(tanh, a)  # Apply tanh activation\n",
    "        return self.hidden                   # and return the result.\n",
    "    \n",
    "    def backward(self, gradient: Tensor):\n",
    "        # Backpropagate through the tanh\n",
    "        a_grad = [gradient[h] * (1 - self.hidden[h] ** 2)\n",
    "                  for h in range(self.hidden_dim)]\n",
    "\n",
    "        # b has the same gradient as a\n",
    "        self.b_grad = a_grad\n",
    "\n",
    "        # Each w[h][i] is multiplied by input[i] and added to a[h],\n",
    "        # so each w_grad[h][i] = a_grad[h] * input[i]\n",
    "        self.w_grad = [[a_grad[h] * self.input[i]\n",
    "                        for i in range(self.input_dim)]\n",
    "                       for h in range(self.hidden_dim)]\n",
    "\n",
    "        # Each u[h][h2] is multiplied by hidden[h2] and added to a[h],\n",
    "        # so each u_grad[h][h2] = a_grad[h] * prev_hidden[h2]\n",
    "        self.u_grad = [[a_grad[h] * self.prev_hidden[h2]\n",
    "                        for h2 in range(self.hidden_dim)]\n",
    "                       for h in range(self.hidden_dim)]\n",
    "\n",
    "        # Each input[i] is multiplied by every w[h][i] and added to a[h],\n",
    "        # so each input_grad[i] = sum(a_grad[h] * w[h][i] for h in ...)\n",
    "        return [sum(a_grad[h] * self.w[h][i] for h in range(self.hidden_dim))\n",
    "                for i in range(self.input_dim)]\n",
    "    \n",
    "    def params(self) -> Iterable[Tensor]:\n",
    "        return [self.w, self.u, self.b]\n",
    "\n",
    "    def grads(self) -> Iterable[Tensor]:\n",
    "        return [self.w_grad, self.u_grad, self.b_grad]"
   ]
  },
  {
   "cell_type": "code",
   "execution_count": null,
   "metadata": {},
   "outputs": [],
   "source": []
  }
 ],
 "metadata": {
  "kernelspec": {
   "display_name": "Python 3",
   "language": "python",
   "name": "python3"
  },
  "language_info": {
   "codemirror_mode": {
    "name": "ipython",
    "version": 3
   },
   "file_extension": ".py",
   "mimetype": "text/x-python",
   "name": "python",
   "nbconvert_exporter": "python",
   "pygments_lexer": "ipython3",
   "version": "3.8.3"
  }
 },
 "nbformat": 4,
 "nbformat_minor": 4
}
