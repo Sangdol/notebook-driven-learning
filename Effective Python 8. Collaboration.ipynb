{
 "cells": [
  {
   "cell_type": "markdown",
   "metadata": {},
   "source": [
    "## ITEM 84: WRITE DOCSTRINGS FOR EVERY FUNCTION, CLASS, AND MODULE"
   ]
  },
  {
   "cell_type": "code",
   "execution_count": 1,
   "metadata": {},
   "outputs": [
    {
     "name": "stdout",
     "output_type": "stream",
     "text": [
      "fun1 is the best\n",
      "what if this is the best?\n"
     ]
    }
   ],
   "source": [
    "def fun1():\n",
    "    \"\"\"fun1 is the best\"\"\"\n",
    "    return 1\n",
    "\n",
    "def fun2():\n",
    "    '''what if this is the best?'''\n",
    "    return 2\n",
    "\n",
    "\n",
    "print(fun1.__doc__)\n",
    "print(fun2.__doc__)"
   ]
  },
  {
   "cell_type": "markdown",
   "metadata": {},
   "source": [
    "You can also use the built-in pydoc module from the command line to run a local web server that hosts all of the Python documentation that’s accessible to your interpreter, including modules that you’ve written:\n",
    "\n",
    "```sh\n",
    "$ python3 -m pydoc -p 1234\n",
    "Server ready at http://localhost:1234/\n",
    "Server commands: [b]rowser, [q]uit\n",
    "server> b\n",
    "```"
   ]
  },
  {
   "cell_type": "markdown",
   "metadata": {},
   "source": [
    "### Documenting Modules\n",
    "\n",
    "```python\n",
    "# words.py\n",
    "#!/usr/bin/env python3\n",
    "\"\"\"Library for finding linguistic patterns in words.\n",
    "\n",
    "Testing how words relate to each other can be tricky sometimes!\n",
    "This module provides easy ways to determine when words you've\n",
    "found have special properties.\n",
    "\n",
    "Available functions:\n",
    "- palindrome: Determine if a word is a palindrome.\n",
    "- check_anagram: Determine if two words are anagrams.\n",
    "...\n",
    "\"\"\"\n",
    "...\n",
    "```"
   ]
  },
  {
   "cell_type": "markdown",
   "metadata": {},
   "source": [
    "### Documenting Classes\n",
    "\n",
    "```python\n",
    "class Player:\n",
    "    \"\"\"Represents a player of the game.\n",
    "\n",
    "    Subclasses may override the 'tick' method to provide\n",
    "    custom animations for the player's movement depending\n",
    "    on their power level, etc.\n",
    "\n",
    "    Public attributes:\n",
    "    - power: Unused power-ups (float between 0 and 1).\n",
    "    - coins: Coins found during the level (integer).\n",
    "    \"\"\"\n",
    "\n",
    "    ...\n",
    "```"
   ]
  },
  {
   "cell_type": "markdown",
   "metadata": {},
   "source": [
    "### Documenting Functions\n",
    "\n",
    "```python\n",
    "def find_anagrams(word, dictionary):\n",
    "    \"\"\"Find all anagrams for a word.\n",
    "\n",
    "    This function only runs as fast as the test for\n",
    "    membership in the 'dictionary' container.\n",
    "\n",
    "    Args:\n",
    "        word: String of the target word.\n",
    "        dictionary: collections.abc.Container with all\n",
    "            strings that are known to be actual words.\n",
    "\n",
    "    Returns:\n",
    "        List of anagrams that were found. Empty if\n",
    "        none were found.\n",
    "    \"\"\"\n",
    "    ...\n",
    "```"
   ]
  },
  {
   "cell_type": "markdown",
   "metadata": {},
   "source": [
    "### Using Docstrings and Type Annotations\n",
    "\n",
    "```python\n",
    "from typing import Container, List\n",
    "\n",
    "def find_anagrams(word: str,\n",
    "                  dictionary: Container[str]) -> List[str]:\n",
    "    \"\"\"Find all anagrams for a word.\n",
    "\n",
    "    This function only runs as fast as the test for\n",
    "    membership in the 'dictionary' container.\n",
    "\n",
    "    Args:\n",
    "        word: Target word.\n",
    "        dictionary: All known actual words.\n",
    "\n",
    "    Returns:\n",
    "        Anagrams that were found.\n",
    "    \"\"\"\n",
    "    ...\n",
    "```"
   ]
  }
 ],
 "metadata": {
  "kernelspec": {
   "display_name": "Python 3",
   "language": "python",
   "name": "python3"
  },
  "language_info": {
   "codemirror_mode": {
    "name": "ipython",
    "version": 3
   },
   "file_extension": ".py",
   "mimetype": "text/x-python",
   "name": "python",
   "nbconvert_exporter": "python",
   "pygments_lexer": "ipython3",
   "version": "3.7.3"
  }
 },
 "nbformat": 4,
 "nbformat_minor": 2
}
