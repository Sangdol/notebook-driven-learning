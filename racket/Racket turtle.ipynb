{
 "cells": [
  {
   "cell_type": "code",
   "execution_count": 5,
   "metadata": {},
   "outputs": [],
   "source": [
    "(require pict)"
   ]
  },
  {
   "cell_type": "code",
   "execution_count": 7,
   "metadata": {},
   "outputs": [
    {
     "name": "stderr",
     "output_type": "stream",
     "text": [
      "eval-linklet: cannot use linklet loaded with non-original code inspector\n",
      "  context...:\n",
      "   compiled-module->dh+h+data-instance+declaration-instance\n",
      "   eval-module\n",
      "   standard-module-name-resolver\n",
      "   module-path-index-resolve\n",
      "   perform-require!\n",
      "   for-loop\n",
      "   expand-capturing-lifts\n",
      "   temp98_0\n",
      "   temp71_0\n",
      "   compile\n",
      "   temp65_0\n",
      "   /Applications/Racket v7.6/share/pkgs/sandbox-lib/racket/sandbox.rkt:510:0: call-with-custodian-shutdown\n",
      "   /Applications/Racket v7.6/collects/racket/private/more-scheme.rkt:148:2: call-with-break-parameterization\n",
      "   .../more-scheme.rkt:261:28\n",
      "   /Applications/Racket v7.6/share/pkgs/sandbox-lib/racket/sandbox.rkt:878:5: loop\n"
     ]
    }
   ],
   "source": [
    "(require teachpacks/racket-turtle)"
   ]
  },
  {
   "cell_type": "code",
   "execution_count": null,
   "metadata": {},
   "outputs": [],
   "source": []
  }
 ],
 "metadata": {
  "kernelspec": {
   "display_name": "Racket",
   "language": "racket",
   "name": "racket"
  },
  "language_info": {
   "codemirror_mode": "scheme",
   "file_extension": ".rkt",
   "mimetype": "text/x-racket",
   "name": "Racket",
   "pygments_lexer": "racket",
   "version": "7.6"
  }
 },
 "nbformat": 4,
 "nbformat_minor": 2
}
