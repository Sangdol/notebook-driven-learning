{
 "cells": [
  {
   "cell_type": "markdown",
   "metadata": {},
   "source": [
    "Example\n",
    "https://github.com/rmculpepper/iracket/blob/master/examples/getting-started.ipynb"
   ]
  },
  {
   "cell_type": "code",
   "execution_count": 2,
   "metadata": {},
   "outputs": [],
   "source": [
    "(require pict)"
   ]
  },
  {
   "cell_type": "code",
   "execution_count": 3,
   "metadata": {},
   "outputs": [
    {
     "data": {
      "text/html": [
       "<code><img style=\"display: inline; vertical-align: baseline; padding: 0pt; margin: 0pt; border: 0pt\" src=\"data:image/png;base64,iVBORw0KGgoAAAANSUhEUgAAABQAAAAUCAYAAACNiR0NAAAAt0lEQVQ4je2UOw7CQAxE30QU\r\n",
       "KVLQcJj0KXOEFHA0DrItIGg5RRoiOIApcDrYj0iDxEgjrbyjV9iWZWbkSNINWCdikwqAZmZK\r\n",
       "ZaosWoF+BKiXBklB0ugOXov27RN0D5yBHti4e+DifxVgZkbMgAHsgBNQvwnU/rctAR6BLhLq\r\n",
       "gEMJ8AE0kVAD3HOB85TztjtzIFegjWRaz2Rr8aEsuzb+EDAAARjdwWvzAckC/q/N91oVZCdJ\r\n",
       "qYZPTzAHKk8Lf3EoAAAAAElFTkSuQmCC\r\n",
       "\"/></code>"
      ],
      "text/plain": [
       "(pict '(picture 20 20 (put 0 5 #1=(prog #<procedure:...rivate/utils.rkt:374:8> 10)) (put 10 0 #2=(prog #<procedure:...rivate/utils.rkt:374:8> 20))) 20 20 15 0 (list (child (pict #1# 10 10 10 0 '() #f #f) 0 5 1 1 0 0) (child #0=(pict #2# 10 20 20 0 '() #f #f) 10 0 1 1 0 0)) #f #0#)"
      ]
     },
     "execution_count": 3,
     "metadata": {},
     "output_type": "execute_result"
    }
   ],
   "source": [
    "(hc-append\n",
    " (circle 10)\n",
    " (rectangle 10 20))"
   ]
  },
  {
   "cell_type": "code",
   "execution_count": 5,
   "metadata": {},
   "outputs": [],
   "source": [
    "(define (four p)\n",
    "  (define two-p (hc-append p p))\n",
    "  (vc-append two-p two-p))"
   ]
  },
  {
   "cell_type": "code",
   "execution_count": 22,
   "metadata": {},
   "outputs": [
    {
     "data": {
      "text/html": [
       "<code><img style=\"display: inline; vertical-align: baseline; padding: 0pt; margin: 0pt; border: 0pt\" src=\"data:image/png;base64,iVBORw0KGgoAAAANSUhEUgAAABQAAAAUCAYAAACNiR0NAAAAkElEQVQ4je3TIQ7CUAwA0Lev\r\n",
       "JmY5zPzkjoCAo3GQWUbAcgokHOAj+EsWxPhLviJrUtM+0aStGCNU2GPAI+WQalWMUa6DgBOu\r\n",
       "6LFL2eOWemGFc8QF9TTJbKI69Q4rnBHdN5rhDucVzgvNAmzwzHXBJ6K8+OkC7mgXTJtMriu/\r\n",
       "lLJnU/qwp6UUje1Ttk/5u095A4iad9L1dTzjAAAAAElFTkSuQmCC\r\n",
       "\"/></code>"
      ],
      "text/plain": [
       "(pict '(picture 20 20 (put 0 10 #3=(picture 20 10 (put 0 0 #1=(prog #<procedure:...rivate/utils.rkt:374:8> 10)) (put 10 0 #1#))) (put 0 0 #3#)) 20 20 10 0 (list (child #2=(pict #3# 20 10 10 0 (list (child #0=(pict #1# 10 10 10 0 '() #f #f) 0 0 1 1 0 0) (child #0# 10 0 1 1 0 0)) #f #0#) 0 10 1 1 0 0) (child #2# 0 0 1 1 0 0)) #f (list #2# #0#))"
      ]
     },
     "execution_count": 22,
     "metadata": {},
     "output_type": "execute_result"
    }
   ],
   "source": [
    "(four (circle 10))"
   ]
  },
  {
   "cell_type": "code",
   "execution_count": 24,
   "metadata": {},
   "outputs": [
    {
     "data": {
      "text/html": [
       "<code>#t</code>"
      ],
      "text/plain": [
       "#t"
      ]
     },
     "execution_count": 24,
     "metadata": {},
     "output_type": "execute_result"
    }
   ],
   "source": [
    "(require racket) ; ???\n",
    "(empty? '())"
   ]
  },
  {
   "cell_type": "code",
   "execution_count": 27,
   "metadata": {},
   "outputs": [],
   "source": [
    "; Realm of Racket Ch 7 (the book has errata.)\n",
    "(define (my-filter pred lst)\n",
    "  (cond [(empty? lst) empty]\n",
    "        [(pred (first lst))\n",
    "         (cons (first lst) (my-filter pred (rest lst)))]\n",
    "        [else (my-filter pred (rest lst))]))"
   ]
  },
  {
   "cell_type": "code",
   "execution_count": 28,
   "metadata": {},
   "outputs": [
    {
     "data": {
      "text/html": [
       "<code>'(1 3)</code>"
      ],
      "text/plain": [
       "'(1 3)"
      ]
     },
     "execution_count": 28,
     "metadata": {},
     "output_type": "execute_result"
    }
   ],
   "source": [
    "(my-filter odd? '(1 2 3))"
   ]
  },
  {
   "cell_type": "code",
   "execution_count": 29,
   "metadata": {},
   "outputs": [
    {
     "data": {
      "text/html": [
       "<code>'(1 3)</code>"
      ],
      "text/plain": [
       "'(1 3)"
      ]
     },
     "execution_count": 29,
     "metadata": {},
     "output_type": "execute_result"
    }
   ],
   "source": [
    "(filter odd? '(1 2 3))"
   ]
  },
  {
   "cell_type": "code",
   "execution_count": 30,
   "metadata": {},
   "outputs": [],
   "source": [
    "(define (my-foldl f base lst)\n",
    "  (cond [(empty? lst) base]\n",
    "        [else (my-foldl f (f (first lst) base) (rest lst))]))"
   ]
  },
  {
   "cell_type": "code",
   "execution_count": 31,
   "metadata": {},
   "outputs": [
    {
     "data": {
      "text/html": [
       "<code>6</code>"
      ],
      "text/plain": [
       "6"
      ]
     },
     "execution_count": 31,
     "metadata": {},
     "output_type": "execute_result"
    }
   ],
   "source": [
    "(my-foldl + 0 '(1 2 3))"
   ]
  },
  {
   "cell_type": "code",
   "execution_count": 32,
   "metadata": {},
   "outputs": [
    {
     "data": {
      "text/html": [
       "<code>6</code>"
      ],
      "text/plain": [
       "6"
      ]
     },
     "execution_count": 32,
     "metadata": {},
     "output_type": "execute_result"
    }
   ],
   "source": [
    "(foldl + 0 '(1 2 3))"
   ]
  },
  {
   "cell_type": "code",
   "execution_count": 33,
   "metadata": {},
   "outputs": [
    {
     "data": {
      "text/html": [
       "<code>'(3 2 1)</code>"
      ],
      "text/plain": [
       "'(3 2 1)"
      ]
     },
     "execution_count": 33,
     "metadata": {},
     "output_type": "execute_result"
    }
   ],
   "source": [
    "(foldl cons empty '(1 2 3))"
   ]
  },
  {
   "cell_type": "code",
   "execution_count": 39,
   "metadata": {},
   "outputs": [],
   "source": [
    "(define (my-foldr f base lst)\n",
    "  (cond [(empty? lst) base]\n",
    "        [else (f (first lst) (my-foldr f (f (first lst) base) (rest lst)))]))"
   ]
  },
  {
   "cell_type": "code",
   "execution_count": 41,
   "metadata": {},
   "outputs": [
    {
     "data": {
      "text/html": [
       "<code>'(1 2 3)</code>"
      ],
      "text/plain": [
       "'(1 2 3)"
      ]
     },
     "execution_count": 41,
     "metadata": {},
     "output_type": "execute_result"
    }
   ],
   "source": [
    "(foldr cons empty '(1 2 3))"
   ]
  },
  {
   "cell_type": "code",
   "execution_count": 42,
   "metadata": {},
   "outputs": [
    {
     "data": {
      "text/html": [
       "<code>6</code>"
      ],
      "text/plain": [
       "6"
      ]
     },
     "execution_count": 42,
     "metadata": {},
     "output_type": "execute_result"
    }
   ],
   "source": [
    "(foldr + 0 '(1 2 3))"
   ]
  },
  {
   "cell_type": "code",
   "execution_count": 43,
   "metadata": {},
   "outputs": [],
   "source": [
    "(define (my-build-list n f)\n",
    "  (define (builder k)\n",
    "    (cond [(= n k) empty]\n",
    "          [else (cons (f k) (builder (add1 k)))]))\n",
    "  (builder 0))"
   ]
  },
  {
   "cell_type": "code",
   "execution_count": 45,
   "metadata": {},
   "outputs": [
    {
     "name": "stdout",
     "output_type": "stream",
     "text": [
      "'(1 2 3)\n",
      "'(1 2 3)\n"
     ]
    }
   ],
   "source": [
    "(println (my-build-list 3 add1))\n",
    "(println (build-list 3 add1))"
   ]
  },
  {
   "cell_type": "code",
   "execution_count": null,
   "metadata": {},
   "outputs": [],
   "source": []
  }
 ],
 "metadata": {
  "kernelspec": {
   "display_name": "Racket",
   "language": "racket",
   "name": "racket"
  },
  "language_info": {
   "codemirror_mode": "scheme",
   "file_extension": ".rkt",
   "mimetype": "text/x-racket",
   "name": "Racket",
   "pygments_lexer": "racket",
   "version": "7.6"
  }
 },
 "nbformat": 4,
 "nbformat_minor": 2
}
