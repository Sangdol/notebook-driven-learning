{
 "cells": [
  {
   "cell_type": "code",
   "execution_count": 1,
   "metadata": {},
   "outputs": [],
   "source": [
    "; https://docs.racket-lang.org/pict/\n",
    "(require pict)\n",
    "(require 2htdp/image)"
   ]
  },
  {
   "cell_type": "code",
   "execution_count": 2,
   "metadata": {},
   "outputs": [
    {
     "data": {
      "text/html": [
       "<code><img style=\"display: inline; vertical-align: baseline; padding: 0pt; margin: 0pt; border: 0pt\" src=\"data:image/png;base64,iVBORw0KGgoAAAANSUhEUgAAADAAAAAwCAYAAABXAvmHAAACY0lEQVRoge2Z3UsiYRSHf+Po\r\n",
       "Zm2rseKqu7Pmx3jZf+s4ZJ8SERUkQnVlgnVTQVAYIlEQRRRDhKFkY9bszRpL+THvO+/LsDDP\r\n",
       "3Yzn8DvPhTNzZoRSqWTgP8Zl9wBWcQTsxhGwG0fAbhwBu+Eq4KvV4KvVeEZwFDAMyKqKVDoN\r\n",
       "GPyeVrgJhItF+CsV+KpVhIpFXjF8BERdR3xu7v04OTMDsdXiEcVHYHJ5GV5Nez8eub9HdGWF\r\n",
       "RxR7Aa+mQVpf/3Q+urYG7+0t6zj2AnImA1HXPwe125CzWdZxbAX8lQqCe3t9fw+Wy5g4PmYZ\r\n",
       "yU5AMAykFGXoJTOlKBDe3ljFshP4ubmJb2dnQ+vGLy4Q2dpiFctGwN1sIr6wYLo+MTsLT6PB\r\n",
       "IpqNQCyXg6deN13vaTQwubTEItq6wNjVFaRCgbhPyufx9fLSarx1ATmTgdDpEPcJr6+QFcVq\r\n",
       "vDWBwP4+AoeH1P3fj44QODiwMgK9gNDpQFZVS+EAkEqn4Xp5oe6nFpDyeYxdX1MHdxm9ucEv\r\n",
       "iv9QFyoBT72OGKOrCADEFhfx5eGBqpdKIDE/D3ezSRXYC/fTE+K5HFUvscD4+Tki29tUYYOI\r\n",
       "mLyTf4RYgPWzTBfBMKjWTyKBH+UyJk5OiAJI8J+eIri7S9RjWsDVbiM5PU08FCkpVe25T/TD\r\n",
       "tEB0dRXeuzuqoUgY0TT87rHR9cOUAM+dthfRDzv1IEwJJLNZiM/PloYiQdR1JP55qzGIoQL+\r\n",
       "ahWhnR3LQ5ES+vteaRjuYQXSxgZa4TCToUiRCgU8Tk0NrBGcr5Q24wjYjSNgN46A3TgCdvMH\r\n",
       "j5S+xaGAwKgAAAAASUVORK5CYII=\r\n",
       "\"/></code>"
      ],
      "text/plain": [
       "(object:image% #f #f #f #f 1 0 (object:image-snipclass% #f \"((lib \\\"image-core.ss\\\" \\\"mrlib\\\") (lib \\\"image-core-wxme.rkt\\\" \\\"mrlib\\\"))\" 1) #0=(object:style% (object:color% 0 0 0 1.0 #f) (object:color% 255 255 255 1.0 #f) (object:font% #f 'aligned '#(12.0 default normal normal #f default #f aligned) #f #f #f 'default 12.0 #f 'default 'normal 'normal 1 '#(1 12.0 normal normal #f default #f aligned)) 'bottom 0.0 0.0 0.0 0.0 (object:style-list% #<hash> #0# '(#0#) 1 #<procedure:add-member>) \"Basic\" #f #f (object:style-delta% 'default #f 0 12 'normal 'base 'normal 'base 'default 'base #f #t #f #t #f #f 'bottom 'base (object:mult-color% 0 0 0) (object:mult-color% 0 0 0) (object:add-color% 0 0 0) (object:add-color% 255 255 255)) #t (object:pen% '#(0 0 0 1.0 0 solid round round) #t 0 #f (object:color% 0 0 0 1.0 #t) 'round 'round 'solid 0) (object:brush% '#(255 255 255 1.0 solid) (object:color% 255 255 255 1.0 #t) 'solid #t 0 #f #f #f #f) 0 '()) (crop (list (point 0 0) (point 48 0) (point 48 48) (point 0 48)) (translate 0 0 (overlay (translate 8.0 10.143593539448979 (translate -0.0 27.712812921102042 (polygon (list (pulled-point 0 0 0 0 0 0) (pulled-point 0 0 32 0 0 0) (pulled-point 0 0 16.000000000000007 -27.712812921102042 0 0)) 255 \"red\"))) (translate 0 0 (translate 0 0 (polygon (list (pulled-point 0 0 0 0 0 0) (pulled-point 0 0 48 0 0 0) (pulled-point 0 0 48 48 0 0) (pulled-point 0 0 0 48 0 0)) 255 \"gray\")))))) (bb 48 48 48.0) #f #f #f #f #t)"
      ]
     },
     "execution_count": 2,
     "metadata": {},
     "output_type": "execute_result"
    }
   ],
   "source": [
    "(place-image\n",
    " (triangle 32 \"solid\" \"red\")\n",
    " 24 24\n",
    " (rectangle 48 48 \"solid\" \"gray\"))"
   ]
  },
  {
   "cell_type": "code",
   "execution_count": 4,
   "metadata": {},
   "outputs": [
    {
     "data": {
      "text/html": [
       "<code><img style=\"display: inline; vertical-align: baseline; padding: 0pt; margin: 0pt; border: 0pt\" src=\"data:image/png;base64,iVBORw0KGgoAAAANSUhEUgAAABgAAAAYCAYAAADgdz34AAABAUlEQVRIie2UsWrDMBRFj1OT\r\n",
       "wUu6GOql9BuavbvzTc2WJR/ST6g7N5A1eO4QiBcnhFBihKByInUobeM4XVSJEqjG99A7cPV0\r\n",
       "gpeHG4PH0/E5HCDYK2HkasomH6OquXuAMcYAaLVlkaXsZOkU8BVRp9sjvr13OrwBAIiSO78A\r\n",
       "cL9QDYAsJ/4A+7dX1rORc0Coa4Esn1nPRuzk0jkgOPuf/A/4e0D4q8tRQtwfEl19KOaUla3X\r\n",
       "NIwSrgcZF93LRv3YytYRxf1hazi0rWwN+IzlZO/Ayp4e+Tt1a4BcTX/uHVjZGrDJx2i1bdWP\r\n",
       "rWwNUNWcRZYiigxdC3QtEMUjxdOgYeV3P95tR335gr8AAAAASUVORK5CYII=\r\n",
       "\"/></code>"
      ],
      "text/plain": [
       "(object:image% #f #f #f #f 1 0 (object:image-snipclass% #f \"((lib \\\"image-core.ss\\\" \\\"mrlib\\\") (lib \\\"image-core-wxme.rkt\\\" \\\"mrlib\\\"))\" 1) #0=(object:style% (object:color% 0 0 0 1.0 #f) (object:color% 255 255 255 1.0 #f) (object:font% #f 'aligned '#(12.0 default normal normal #f default #f aligned) #f #f #f 'default 12.0 #f 'default 'normal 'normal 1 '#(1 12.0 normal normal #f default #f aligned)) 'bottom 0.0 0.0 0.0 0.0 (object:style-list% #<hash> #0# '(#0#) 1 #<procedure:add-member>) \"Basic\" #f #f (object:style-delta% 'default #f 0 12 'normal 'base 'normal 'base 'default 'base #f #t #f #t #f #f 'bottom 'base (object:mult-color% 0 0 0) (object:mult-color% 0 0 0) (object:add-color% 0 0 0) (object:add-color% 255 255 255)) #t (object:pen% '#(0 0 0 1.0 0 solid round round) #t 0 #f (object:color% 0 0 0 1.0 #t) 'round 'round 'solid 0) (object:brush% '#(255 255 255 1.0 solid) (object:color% 255 255 255 1.0 #t) 'solid #t 0 #f #f #f #f) 0 '()) (crop (list (point 0 0) (point 24 0) (point 24 24) (point 0 24)) (translate 0 0 (overlay (translate 14 16 (translate 4 4 (ellipse 8 8 0 255 \"white\"))) (translate 0 0 (crop (list (point 0 0) (point 24 0) (point 24 24) (point 0 24)) (translate -4 0 (overlay (translate 0 2 (translate 4 4 (ellipse 8 8 0 255 \"white\"))) (translate 4 0 (translate 0 0 (polygon (list (pulled-point 0 0 0 0 0 0) (pulled-point 0 0 24 0 0 0) (pulled-point 0 0 24 24 0 0) (pulled-point 0 0 0 24 0 0)) 255 \"goldenrod\")))))))))) (bb 24 24 24) #f #f #f #f #t)"
      ]
     },
     "execution_count": 4,
     "metadata": {},
     "output_type": "execute_result"
    }
   ],
   "source": [
    "(place-image\n",
    " (circle 4 \"solid\" \"white\")\n",
    " 18 20\n",
    " (place-image\n",
    "  (circle 4 \"solid\" \"white\")\n",
    "  0 6\n",
    "  (rectangle 24 24 \"solid\" \"goldenrod\")))"
   ]
  },
  {
   "cell_type": "code",
   "execution_count": 6,
   "metadata": {},
   "outputs": [
    {
     "data": {
      "text/html": [
       "<code><img style=\"display: inline; vertical-align: baseline; padding: 0pt; margin: 0pt; border: 0pt\" src=\"data:image/png;base64,iVBORw0KGgoAAAANSUhEUgAAAGQAAABkCAYAAABw4pVUAAAHzklEQVR4nO2dX0xUVx7Hv/cK\r\n",
       "zGWEYRAYkWE3iIwsyqA+ICtdsE7/hUa0wrbStJtsm1ZMAI1Pq5ts2qfaJpu0WOyupaYxMZ1I\r\n",
       "w+ja7dpmUyjK0iq00SJbZUhpFYUZYHRghplhJs4+NCVLKf9mzrn33Dv3k/D6+/44n7kz5945\r\n",
       "cw73luutMCTCM+rBUO8QnHYnnAM//k2OTmJ6ahq++z4EpgIAAI1Wg0R9IhK0CUjOSIYhzwCD\r\n",
       "6ce/bHM2ktKTpPoXiMOJKWTaN42b7Tdhv2SH/ZIdI9+OIByOLp7jOKzZsAamMhNMZSbk78hH\r\n",
       "vBBPqGPxoS4k/CCMwSuD6DnTg69tX8M/6acZByFZgPlJMzbv3oyCxwrAr+Cp5pGGmpBgIIjL\r\n",
       "py+jvakd4z+M04hYlLScNFjqLSh5rgRxmjhJelguxIVM+6bRebITnx//HBOOCZKlI0a3WgdL\r\n",
       "gwWlL5QiITFB6nYWhKiQvk/60Hq4Fa5bLlIliaLP0mPPa3uwadcmqVuZFyJCXLdcaP1TK/o+\r\n",
       "7SPRE3UKKwpR/UY1UrNTpW5lDlEL6f24F9YGK6buT5HqSRSEZAF7G/diy1NbpG5lFhFPQUKB\r\n",
       "EGxHbDj5h5OykwEA/kk/Tr14Ci2HWhAKhKRuZ4aIph5elxfNNc34vud7wu2IT9epLgzfGMbL\r\n",
       "H7wMbapW6naWf4W4R9xo2tWkCBk/MXh5EI0Vjbh/577UrSxPiMPuwJuPvYnh/w7T6kcyHP0O\r\n",
       "NFY0wjnglLSPJQtxD7tx4vcnmHgV0eLe0D0c330crtvSTduXJMTr8uKdPe9I2qhYuIfdePeZ\r\n",
       "dzF1T5qJyqJCQoEQmmua4eh3iNEPE4zcHEHzs82SzL4WFXLuL+cU9QG+VAavDOL8q+dFz11Q\r\n",
       "yLXz19D5XqdYvTDHxRMX8c1H34iaOa8Q1y0XrAesYvbCJNYDVlE/O+cV0nq4Ff4Jut9dyAGf\r\n",
       "24ezR86KlveLQno/7kXfJ/J4UCgGvf8SbzzmCJn2TePsn8V7RcgF2xEbgv4g9Zw5Qjrf64yJ\r\n",
       "+43lMv7DOLre76KeM0tIKBBCx986qIfKlc+OfYZggO5VMkvIl6e/hHvETTVQzkw4JtBt7aaa\r\n",
       "MSMk/CCM9qZ2qmFKoO3ttqiXLi3EjJCB/wxItjpETowNjuG7L76jVn9GSE9LD7UQpdF9ht7b\r\n",
       "Fg8AQX8Q1z66Ri1EaVw9d5XaFJgHgBttN9S78mXgn/TDftFOpTYPAPZLdIorGVpjpgqJkP6L\r\n",
       "/VTq8p5RD0a+HaFSXMnc7bsL77iXeF1+qHeI6rxaqYQfhHHn+h3idXmnXdpVFnKGxtjxUi97\r\n",
       "kTM0xk4VEgVUrpBJ5yTxorHChJP871/4gCdAvGisQGPseL9HvUOPFBpjxwe86hUSKVSuEOIV\r\n",
       "VaKC16zUSN2DbNEkkR87XkgSiBeNFWiMHU/DcqxA5QpJNiQTLxor6Aw64jV5Q56BeNFYwWAi\r\n",
       "P3aqkCigMXY8DcuxApUrJLsoGxzHES+sdDieg9FsJF6XT0pPQmZBJvHCSsdYaMTKVSuJ1+UB\r\n",
       "YH35euKFlY6pzESlLk+zuJIxlVMUkr8jH4JOvWNfKoJOoHuFxAvx2FTJ7h5SrLHlqS3U9nWc\r\n",
       "edpbvLeYSoASoTlWM0LWla5DWk4atSClkJ6bjrW/XUut/owQjudgqbdQC1IKlgYL1fu2WV9Q\r\n",
       "lTxXgpTMFGphckefpcfWmq1UM2YJidPE4eG6h6kGyhlLg4X6drNzvsJ96MWHsOrXq6iGypH0\r\n",
       "tenY9sdt1HPmCElITMDTf32aerDcqDpahXgN/S3Mf3GRQ8GjBSisKKQeLheKdhZhw+MbRMma\r\n",
       "d9VJ9RvVSExJFKUJltHqtag6WiVa3rxCUrNT8fzfn4/pR/Mcx6HmWA30Rr1omQuuy9r4xEaU\r\n",
       "7SsTqxfm2L5/O4p2FomauehCuV2v7sLarfTuTFkld1suKl+pFD13USFxmjjUttTCWEj+2zFW\r\n",
       "yfxNJl46/RJWJKwQPXtJS0kFnYB9Z/Zh1a+Uf3+iz9KjtqVWsl2ul7y2N2VNCva37mfyRAFS\r\n",
       "pGanou4fdZL+j8tabG3IM+DQvw8ha2MWrX4kIzM/EwcvHETGugxJ+1j26nfdah3qz9cr6oM+\r\n",
       "d1suDlw4IOr0dj4i+jmCNlWLhn824JGDj8j6PoXjOJTXlqPubB20eulPRgAiPK4CAPg4HpWv\r\n",
       "VCKnOAfWenke6FJzrAabd2+WupVZRP0s2fykGcYOI2yHbbh+4TqJnqhTtLMIVUermHiL+jlk\r\n",
       "DwX7tA+2wzZmN0JLy0lD9evVoj0ojATix+YF/UF0vd+FtqY2uIfZ2L9Rn6XHjvodKH2hVJRH\r\n",
       "6NFA7WDJUCCEK9YraHu7DWODYzQiFiU9Nx2WBgtKni2R5K47EkQ5C/f21dvoPtONrz78Cl4X\r\n",
       "+R10/h9BJ8BcYUZxTTFM5SbZzQJFPZw4GAjC3mFHf0c/7J123O27i/CDKA8n5jkYC43I+10e\r\n",
       "1m9fD1O5ifm3pYUQVcjP8Y57MdQ7hNGBUTjsDjjtTnjGPPB7/PC5ffjpN/SalRokpiRCSBKQ\r\n",
       "nJGMjLwMrDathsFkgNFMZxW6VEgqRGUu6sYBjKEKYQxVCGOoQhhDFcIYqhDGUIUwhiqEMVQh\r\n",
       "jKEKYQxVCGOoQhhDFcIYqhDGUIUwhiqEMVQhjKEKYQxVCGP8D6psds3XmAx+AAAAAElFTkSu\r\n",
       "QmCC\r\n",
       "\"/></code>"
      ],
      "text/plain": [
       "(object:image% #f #f #f #f 1 0 (object:image-snipclass% #f \"((lib \\\"image-core.ss\\\" \\\"mrlib\\\") (lib \\\"image-core-wxme.rkt\\\" \\\"mrlib\\\"))\" 1) #0=(object:style% (object:color% 0 0 0 1.0 #f) (object:color% 255 255 255 1.0 #f) (object:font% #f 'aligned '#(12.0 default normal normal #f default #f aligned) #f #f #f 'default 12.0 #f 'default 'normal 'normal 1 '#(1 12.0 normal normal #f default #f aligned)) 'bottom 0.0 0.0 0.0 0.0 (object:style-list% #<hash> #0# '(#0#) 1 #<procedure:add-member>) \"Basic\" #f #f (object:style-delta% 'default #f 0 12 'normal 'base 'normal 'base 'default 'base #f #t #f #t #f #f 'bottom 'base (object:mult-color% 0 0 0) (object:mult-color% 0 0 0) (object:add-color% 0 0 0) (object:add-color% 255 255 255)) #t (object:pen% '#(0 0 0 1.0 0 solid round round) #t 0 #f (object:color% 0 0 0 1.0 #t) 'round 'round 'solid 0) (object:brush% '#(255 255 255 1.0 solid) (object:color% 255 255 255 1.0 #t) 'solid #t 0 #f #f #f #f) 0 '()) (crop (list (point 0 0) (point 100 0) (point 100 100) (point 0 100)) (translate 0 0 (overlay (translate 0 0 (translate 40 40 (ellipse 80 80 0 255 \"black\"))) (translate 0 0 (translate 0 0 (polygon (list (pulled-point 0 0 0 0 0 0) (pulled-point 0 0 100 0 0 0) (pulled-point 0 0 100 100 0 0) (pulled-point 0 0 0 100 0 0)) 255 \"lightgreen\")))))) (bb 100 100 100) #f #f #f #f #t)"
      ]
     },
     "execution_count": 6,
     "metadata": {},
     "output_type": "execute_result"
    }
   ],
   "source": [
    "(place-image/align\n",
    " (circle 40 \"solid\" \"black\")\n",
    " 0 0 \"left\" \"top\"\n",
    " (rectangle 100 100 \"solid\" \"lightgreen\"))"
   ]
  },
  {
   "cell_type": "code",
   "execution_count": 7,
   "metadata": {},
   "outputs": [
    {
     "data": {
      "text/html": [
       "<code><img style=\"display: inline; vertical-align: baseline; padding: 0pt; margin: 0pt; border: 0pt\" src=\"data:image/png;base64,iVBORw0KGgoAAAANSUhEUgAAAGQAAABkCAYAAABw4pVUAAAD4klEQVR4nO3dzUtUURjH8e+E\r\n",
       "gVRY9EIGtSqoVRG0yI2LFvYHtHDn0k206S8potrXpoJoPxFBISr4UhSlaBt7U5OGjJxJpdPi\r\n",
       "MGHRi+a95/npeT4gs5G5D3y5c+bembm3EpaWAouLsLAAX7/C/DzMzMD0dHx8/Ro+f8alUQkh\r\n",
       "hL/+Rwjw9i2Mj8e/Fy9gaSnRePn5d5BfNRrw5AkMD8Pz5/DtW0mj5WntQVaam4NqFfr6YHm5\r\n",
       "wLHytb4gTZ8+xTCPHsHiYgFj5auYIE21Gty5AyMjhT1lbooN0vT0Kdy6BR8/Fv7Um105QSAu\r\n",
       "/jdvwtBQKU+/WZUXpOnx47i3+KK/KuUHAXj1Cq5ehS9fSt/URpcmCMD793D5clz43R+lCwJx\r\n",
       "kb90KZ6Scb+1JenWdu+Gixdhz56km91I0gYB2LULLlyA7duTb3ojSB8E4MABOH8eWlpMNq/M\r\n",
       "JgjA4cNw7pzZ5lXZBQE4cwZOnjQdQY1tEICeHl/kV7APsm0bdHdbTyHDPgjAiRNw/Lj1FBI0\r\n",
       "gkDcS7ZutZ7CnE6QvXuhs9N6CnM6QQDOns1+L9EKsnMndHRYT2FKKwhAVxdUKtZTmNELsm8f\r\n",
       "HDliPYUZvSAAp09bT2BGM8ipU9ku7ppBWlvh2DHrKUxoBgE4etR6AhO6QXwPEXPwIOzYYT1F\r\n",
       "crpBKhU4dMh6iuR0gwDs3289QXLaQdrbrSdITjuI7yFi2tqsJ0hOO0hrq/UEyXkQMR5EjHaQ\r\n",
       "DGkHaTSsJ0jOg4jxIGK0g8zPW0+QnHaQDH9ppR1ketp6guS0g/geIiQEmJqyniI53SBv3mT5\r\n",
       "u3bdIGNj1hOY8CBiNIPU6/FyghnSDDI0lO11HTWDDA5aT2BGL8jsLExOWk9hRi9ItRqPQTKl\r\n",
       "FaRWg/5+6ylMaQWpVrO/8pxOkA8f4uUAM6cT5PbtbN/qrqQRZHQUnj2znkKCfZCFhbh3OMA6\r\n",
       "SAhw44ZfGHMF2yAPHsSXK/eDXZCJCbh3z2zzqmyCvHsH169nf8zxO+mD1Gpw5UqWnwauRtrL\r\n",
       "gjYvpOx3TfijdEH8UuOrkibIxARcuxaPOdxflRskBHj4EO7e9QV8lcoL0mjEg77h4dI2sRmV\r\n",
       "E2R0NJ4O8fVizYoNMjcX76bjJwr/WzFBajW4fz/eNs9Poa/L+oLMzsZP+fr7fdEuyNqD1Ovx\r\n",
       "tngDA/HbhRl/IaEM/w4SQvzi8/g4vHwZH/1lqTQtLC/H23bX6/Gt6q+3756a8vNOCVVCb6+/\r\n",
       "5gix/wjX/cSDiPEgYjyIGA8ixoOI8SBiPIgYDyLGg4jxIGI8iBgPIsaDiPEgYjyIGA8ixoOI\r\n",
       "8SBivgPhMD4BREPB2gAAAABJRU5ErkJggg==\r\n",
       "\"/></code>"
      ],
      "text/plain": [
       "(object:image% #f #f #f #f 1 0 (object:image-snipclass% #f \"((lib \\\"image-core.ss\\\" \\\"mrlib\\\") (lib \\\"image-core-wxme.rkt\\\" \\\"mrlib\\\"))\" 1) #0=(object:style% (object:color% 0 0 0 1.0 #f) (object:color% 255 255 255 1.0 #f) (object:font% #f 'aligned '#(12.0 default normal normal #f default #f aligned) #f #f #f 'default 12.0 #f 'default 'normal 'normal 1 '#(1 12.0 normal normal #f default #f aligned)) 'bottom 0.0 0.0 0.0 0.0 (object:style-list% #<hash> #0# '(#0#) 1 #<procedure:add-member>) \"Basic\" #f #f (object:style-delta% 'default #f 0 12 'normal 'base 'normal 'base 'default 'base #f #t #f #t #f #f 'bottom 'base (object:mult-color% 0 0 0) (object:mult-color% 0 0 0) (object:add-color% 0 0 0) (object:add-color% 255 255 255)) #t (object:pen% '#(0 0 0 1.0 0 solid round round) #t 0 #f (object:color% 0 0 0 1.0 #t) 'round 'round 'solid 0) (object:brush% '#(255 255 255 1.0 solid) (object:color% 255 255 255 1.0 #t) 'solid #t 0 #f #f #f #f) 0 '()) (crop (list (point 0 0) (point 100 0) (point 100 100) (point 0 100)) (translate -40 0 (overlay (translate 0 0 (translate 40 40 (ellipse 80 80 0 255 \"white\"))) (translate 40 0 (translate 0 0 (polygon (list (pulled-point 0 0 0 0 0 0) (pulled-point 0 0 100 0 0 0) (pulled-point 0 0 100 100 0 0) (pulled-point 0 0 0 100 0 0)) 255 \"lightred\")))))) (bb 100 100 100) #f #f #f #f #t)"
      ]
     },
     "execution_count": 7,
     "metadata": {},
     "output_type": "execute_result"
    }
   ],
   "source": [
    "(place-image/align\n",
    " (circle 40 \"solid\" \"white\")\n",
    " 0 0 \"center\" \"top\"\n",
    " (rectangle 100 100 \"solid\" \"lightred\"))"
   ]
  },
  {
   "cell_type": "code",
   "execution_count": null,
   "metadata": {},
   "outputs": [],
   "source": []
  }
 ],
 "metadata": {
  "kernelspec": {
   "display_name": "Racket",
   "language": "racket",
   "name": "racket"
  },
  "language_info": {
   "codemirror_mode": "scheme",
   "file_extension": ".rkt",
   "mimetype": "text/x-racket",
   "name": "Racket",
   "pygments_lexer": "racket",
   "version": "7.6"
  }
 },
 "nbformat": 4,
 "nbformat_minor": 2
}
