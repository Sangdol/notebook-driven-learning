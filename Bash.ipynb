{
 "cells": [
  {
   "cell_type": "code",
   "execution_count": 1,
   "metadata": {},
   "outputs": [
    {
     "name": "stdout",
     "output_type": "stream",
     "text": [
      "'Effective Python 1. Pythonic Thinking.ipynb'\n",
      "'Effective Python 2. Lists and Dictionaries.ipynb'\n",
      "'Effective Python 3. Functions.ipynb'\n",
      "'Effective Python 4. Comprehensions and Generators.ipynb'\n",
      "'Effective Python 5. Classes and Interfaces.ipynb'\n",
      "'Effective Python 6. Metaclasses and Attributes.ipynb'\n",
      "'Hello Spark.ipynb'\n",
      "'Python3 Printing Exceptions.ipynb'\n",
      " python-unicode-encoding.html\n",
      "'Python Unicode.ipynb'\n",
      " README.md\n",
      " stub\n",
      " Untitled.ipynb\n"
     ]
    }
   ],
   "source": [
    "ls"
   ]
  },
  {
   "cell_type": "markdown",
   "metadata": {},
   "source": [
    "## IF statement"
   ]
  },
  {
   "cell_type": "code",
   "execution_count": 2,
   "metadata": {},
   "outputs": [
    {
     "name": "stdout",
     "output_type": "stream",
     "text": [
      "1\n"
     ]
    }
   ],
   "source": [
    "if [[ 1 ]]; then\n",
    "    echo 1\n",
    "elif [[ 2 ]]; then\n",
    "    echo \"noop\"\n",
    "else\n",
    "    echo \"noop\"\n",
    "fi"
   ]
  },
  {
   "cell_type": "code",
   "execution_count": 3,
   "metadata": {},
   "outputs": [
    {
     "name": "stdout",
     "output_type": "stream",
     "text": [
      "true\n"
     ]
    }
   ],
   "source": [
    "[[ 1 -gt 0 && 1 -ge 1 ]] && echo true"
   ]
  },
  {
   "cell_type": "code",
   "execution_count": 4,
   "metadata": {},
   "outputs": [
    {
     "name": "stdout",
     "output_type": "stream",
     "text": [
      "true\n"
     ]
    }
   ],
   "source": [
    "[[ 1 -lt 2 && 1 -le 1 ]] && echo true"
   ]
  },
  {
   "cell_type": "code",
   "execution_count": 5,
   "metadata": {},
   "outputs": [
    {
     "name": "stdout",
     "output_type": "stream",
     "text": [
      "true\n"
     ]
    }
   ],
   "source": [
    "[[ 1 -eq 1 && 1 -ne 0 ]] && echo true"
   ]
  },
  {
   "cell_type": "markdown",
   "metadata": {},
   "source": [
    "## Array"
   ]
  },
  {
   "cell_type": "code",
   "execution_count": 6,
   "metadata": {},
   "outputs": [
    {
     "name": "stdout",
     "output_type": "stream",
     "text": [
      "one two three\n",
      "one\n",
      "\n",
      "3\n"
     ]
    }
   ],
   "source": [
    "arr=(one two three)\n",
    "echo ${arr[*]}\n",
    "echo ${arr[0]}\n",
    "echo ${arr[3]}\n",
    "echo ${#arr[@]}"
   ]
  },
  {
   "cell_type": "markdown",
   "metadata": {},
   "source": [
    "### Difference between `${arr[@]}` and `${arr[*]}`\n",
    "\n",
    "* `@`: expand in to separate arguments\n",
    "* `*`: creates one arguemnt\n",
    "* http://unix.stackexchange.com/questions/135010/what-is-the-difference-between-and-when-referencing-bash-array-values"
   ]
  },
  {
   "cell_type": "code",
   "execution_count": 7,
   "metadata": {},
   "outputs": [
    {
     "name": "stdout",
     "output_type": "stream",
     "text": [
      "one\n",
      "two\n",
      "three\n"
     ]
    }
   ],
   "source": [
    "for a in ${arr[@]};\n",
    "do\n",
    "  echo $a\n",
    "done"
   ]
  },
  {
   "cell_type": "code",
   "execution_count": 8,
   "metadata": {},
   "outputs": [
    {
     "name": "stdout",
     "output_type": "stream",
     "text": [
      "one\n",
      "two\n",
      "three\n"
     ]
    }
   ],
   "source": [
    "for a in \"${arr[@]}\"; do\n",
    "  echo $a\n",
    "done"
   ]
  },
  {
   "cell_type": "code",
   "execution_count": 9,
   "metadata": {},
   "outputs": [
    {
     "name": "stdout",
     "output_type": "stream",
     "text": [
      "one\n",
      "two\n",
      "three\n"
     ]
    }
   ],
   "source": [
    "for a in ${arr[*]}; do\n",
    "  echo $a\n",
    "done"
   ]
  },
  {
   "cell_type": "code",
   "execution_count": 10,
   "metadata": {},
   "outputs": [
    {
     "name": "stdout",
     "output_type": "stream",
     "text": [
      "one two three\n"
     ]
    }
   ],
   "source": [
    "for a in \"${arr[*]}\"; do\n",
    "  echo $a\n",
    "done"
   ]
  },
  {
   "cell_type": "code",
   "execution_count": null,
   "metadata": {},
   "outputs": [],
   "source": []
  }
 ],
 "metadata": {
  "kernelspec": {
   "display_name": "Bash",
   "language": "bash",
   "name": "bash"
  },
  "language_info": {
   "codemirror_mode": "shell",
   "file_extension": ".sh",
   "mimetype": "text/x-sh",
   "name": "bash"
  }
 },
 "nbformat": 4,
 "nbformat_minor": 2
}
