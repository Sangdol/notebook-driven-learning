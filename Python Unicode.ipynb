{
 "cells": [
  {
   "cell_type": "markdown",
   "metadata": {},
   "source": [
    "# Python Unicode handling"
   ]
  },
  {
   "cell_type": "code",
   "execution_count": 9,
   "metadata": {},
   "outputs": [],
   "source": [
    "c = u'한' # u is optional and not needed unless you want to maintain compatibility with python 2."
   ]
  },
  {
   "cell_type": "markdown",
   "metadata": {},
   "source": [
    "## Getting a code point"
   ]
  },
  {
   "cell_type": "code",
   "execution_count": 10,
   "metadata": {},
   "outputs": [
    {
     "name": "stdout",
     "output_type": "stream",
     "text": [
      "54620\n",
      "0xd55c\n",
      "<class 'int'>\n",
      "<class 'str'>\n"
     ]
    }
   ],
   "source": [
    "# https://docs.python.org/3/library/functions.html#ord\n",
    "# ord stands for ordinal: https://stackoverflow.com/questions/50314440/what-does-the-name-of-the-ord-function-stand-for\n",
    "code_point = ord(c)\n",
    "print(code_point)\n",
    "print(hex(code_point))\n",
    "print(type(code_point))\n",
    "print(type(hex(code_point)))"
   ]
  },
  {
   "cell_type": "code",
   "execution_count": 12,
   "metadata": {},
   "outputs": [
    {
     "name": "stdout",
     "output_type": "stream",
     "text": [
      "한\n",
      "True\n"
     ]
    }
   ],
   "source": [
    "# chr() is the inverse of ord().\n",
    "# Code point -> Character\n",
    "print(chr(ord(c)))\n",
    "print(chr(ord(c)) == '\\ud55c')"
   ]
  },
  {
   "cell_type": "code",
   "execution_count": 27,
   "metadata": {},
   "outputs": [
    {
     "name": "stdout",
     "output_type": "stream",
     "text": [
      "b'\\\\ud55c'\n"
     ]
    },
    {
     "data": {
      "text/plain": [
       "bytes"
      ]
     },
     "execution_count": 27,
     "metadata": {},
     "output_type": "execute_result"
    }
   ],
   "source": [
    "unicode_escape = c.encode('unicode_escape')\n",
    "print(unicode_escape)\n",
    "type(unicode_escape)"
   ]
  },
  {
   "cell_type": "markdown",
   "metadata": {},
   "source": [
    "## Unicode representations "
   ]
  },
  {
   "cell_type": "code",
   "execution_count": 35,
   "metadata": {},
   "outputs": [
    {
     "name": "stdout",
     "output_type": "stream",
     "text": [
      "0b1101010101011100\n",
      "<class 'int'>\n",
      "<class 'int'>\n",
      "True\n"
     ]
    }
   ],
   "source": [
    "hex_form = 0xd55c\n",
    "bin_form = 0b1101010101011100\n",
    "\n",
    "# '#': show 0b\n",
    "# '018': show 18 length long including '0b'\n",
    "# https://stackoverflow.com/questions/16926130/convert-to-binary-and-keep-leading-zeros-in-python\n",
    "print(format(hex_form, '#018b'))\n",
    "print(type(hex_form))\n",
    "print(type(bin_form))\n",
    "print(hex_form == bin_form)"
   ]
  },
  {
   "cell_type": "code",
   "execution_count": 5,
   "metadata": {},
   "outputs": [
    {
     "name": "stdout",
     "output_type": "stream",
     "text": [
      "é\n",
      "True\n"
     ]
    }
   ],
   "source": [
    "two_bytes = '\\u00e9'\n",
    "four_bytes = '\\U000000e9'\n",
    "db = '\\N{LATIN SMALL LETTER E WITH ACUTE}'\n",
    "\n",
    "print(db)\n",
    "print(two_bytes == four_bytes == db)"
   ]
  },
  {
   "cell_type": "markdown",
   "metadata": {},
   "source": [
    "## Encoding and decoding"
   ]
  },
  {
   "cell_type": "code",
   "execution_count": 11,
   "metadata": {},
   "outputs": [
    {
     "name": "stdout",
     "output_type": "stream",
     "text": [
      "<class 'bytes'>\n"
     ]
    }
   ],
   "source": [
    "code_bytes = c.encode('utf8')\n",
    "print(type(code_bytes))"
   ]
  },
  {
   "cell_type": "code",
   "execution_count": 14,
   "metadata": {},
   "outputs": [
    {
     "name": "stdout",
     "output_type": "stream",
     "text": [
      "b'\\xed\\x95\\x9c'\n"
     ]
    }
   ],
   "source": [
    "print(code_bytes)"
   ]
  },
  {
   "cell_type": "code",
   "execution_count": 16,
   "metadata": {},
   "outputs": [
    {
     "name": "stdout",
     "output_type": "stream",
     "text": [
      "ed959c\n"
     ]
    }
   ],
   "source": [
    "print(code_bytes.hex())"
   ]
  },
  {
   "cell_type": "code",
   "execution_count": 17,
   "metadata": {},
   "outputs": [],
   "source": [
    "code_bytes_utf32 = c.encode('utf32')"
   ]
  },
  {
   "cell_type": "code",
   "execution_count": 19,
   "metadata": {},
   "outputs": [
    {
     "data": {
      "text/plain": [
       "'fffe00005cd50000'"
      ]
     },
     "execution_count": 19,
     "metadata": {},
     "output_type": "execute_result"
    }
   ],
   "source": [
    "code_bytes_utf32.hex()"
   ]
  },
  {
   "cell_type": "code",
   "execution_count": 21,
   "metadata": {},
   "outputs": [
    {
     "data": {
      "text/plain": [
       "'fffe5cd5'"
      ]
     },
     "execution_count": 21,
     "metadata": {},
     "output_type": "execute_result"
    }
   ],
   "source": [
    "code_bytes_utf16 = c.encode('utf16')\n",
    "code_bytes_utf16.hex()"
   ]
  },
  {
   "cell_type": "code",
   "execution_count": 23,
   "metadata": {},
   "outputs": [
    {
     "data": {
      "text/plain": [
       "'한'"
      ]
     },
     "execution_count": 23,
     "metadata": {},
     "output_type": "execute_result"
    }
   ],
   "source": [
    "code_bytes_utf16.decode('utf16')"
   ]
  },
  {
   "cell_type": "code",
   "execution_count": 20,
   "metadata": {},
   "outputs": [
    {
     "name": "stdout",
     "output_type": "stream",
     "text": [
      "ignore:  b''\n",
      "replace:  b'?'\n",
      "xmlcharrefreplace:  b'&#54620;'\n",
      "backslashreplace:  b'\\\\ud55c'\n",
      "namereplace:  b'\\\\N{HANGUL SYLLABLE HAN}'\n"
     ]
    }
   ],
   "source": [
    "# Error Handling\n",
    "print('ignore: ', c.encode('ascii', errors='ignore'))\n",
    "print('replace: ', c.encode('ascii', errors='replace'))\n",
    "print('xmlcharrefreplace: ', c.encode('ascii', errors='xmlcharrefreplace'))\n",
    "print('backslashreplace: ', c.encode('ascii', errors='backslashreplace'))\n",
    "print('namereplace: ', c.encode('ascii', errors='namereplace'))"
   ]
  },
  {
   "cell_type": "markdown",
   "metadata": {},
   "source": [
    "## Unicode Data Functions"
   ]
  },
  {
   "cell_type": "code",
   "execution_count": 30,
   "metadata": {},
   "outputs": [
    {
     "name": "stdout",
     "output_type": "stream",
     "text": [
      "HANGUL SYLLABLE HAN\n",
      "Lo\n",
      "0\n",
      "한\n",
      "한\n"
     ]
    }
   ],
   "source": [
    "import unicodedata as ud\n",
    "\n",
    "print(ud.name(c))\n",
    "print(ud.category(c))\n",
    "print(ud.combining(c))\n",
    "print(ud.lookup(ud.name(c)))\n",
    "print(ud.normalize('NFC', c))"
   ]
  },
  {
   "cell_type": "markdown",
   "metadata": {},
   "source": [
    "## Emoji"
   ]
  },
  {
   "cell_type": "code",
   "execution_count": 4,
   "metadata": {},
   "outputs": [
    {
     "name": "stdout",
     "output_type": "stream",
     "text": [
      "🤦🏼‍♂️\n",
      "5\n",
      "['0x1f926', '0x1f3fc', '0x200d', '0x2642', '0xfe0f']\n"
     ]
    }
   ],
   "source": [
    "# It’s Not Wrong that \"🤦🏼‍♂️\".length == 7 (in JS)\n",
    "# https://hsivonen.fi/string-leng\n",
    "facepalm = '🤦🏼‍♂️'\n",
    "print(facepalm)\n",
    "print(len(facepalm))\n",
    "print(list(map(hex, map(ord, list(facepalm)))))"
   ]
  },
  {
   "cell_type": "markdown",
   "metadata": {},
   "source": [
    "## Bytes"
   ]
  },
  {
   "cell_type": "code",
   "execution_count": 7,
   "metadata": {},
   "outputs": [
    {
     "name": "stdout",
     "output_type": "stream",
     "text": [
      "b'abc1'\n"
     ]
    }
   ],
   "source": [
    "# You can only put ASCII literal characters or hexadecimal numbers.\n",
    "abc = b'abc\\x31'\n",
    "print(abc)\n",
    "\n",
    "# This will throw a SyntaxError\n",
    "# SyntaxError: bytes can only contain ASCII literal characters\n",
    "#\n",
    "# b'한' "
   ]
  },
  {
   "cell_type": "code",
   "execution_count": null,
   "metadata": {},
   "outputs": [],
   "source": []
  }
 ],
 "metadata": {
  "kernelspec": {
   "display_name": "Python 3",
   "language": "python",
   "name": "python3"
  },
  "language_info": {
   "codemirror_mode": {
    "name": "ipython",
    "version": 3
   },
   "file_extension": ".py",
   "mimetype": "text/x-python",
   "name": "python",
   "nbconvert_exporter": "python",
   "pygments_lexer": "ipython3",
   "version": "3.7.3"
  }
 },
 "nbformat": 4,
 "nbformat_minor": 2
}
